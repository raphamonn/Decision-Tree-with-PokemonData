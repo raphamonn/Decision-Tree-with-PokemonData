{
  "cells": [
    {
      "cell_type": "markdown",
      "metadata": {
        "id": "view-in-github",
        "colab_type": "text"
      },
      "source": [
        "<a href=\"https://colab.research.google.com/github/raphamonn/Decision-Tree-with-PokemonData/blob/main/Classifica%C3%A7%C3%A3o%20de%20Pokemons%20Lend%C3%A1rios.ipynb\" target=\"_parent\"><img src=\"https://colab.research.google.com/assets/colab-badge.svg\" alt=\"Open In Colab\"/></a>"
      ]
    },
    {
      "cell_type": "markdown",
      "source": [
        "# **MODELO DE CLASSIFICAÇÃO DE POKÉMONS LENDÁRIOS COM BASE EM SUAS FEATURES**"
      ],
      "metadata": {
        "id": "Fl1kSNxkmwpd"
      }
    },
    {
      "cell_type": "markdown",
      "metadata": {
        "id": "7KP7lRURHaD_"
      },
      "source": [
        "# DESCRIÇÃO DO PROBLEMA E OBJETIVOS\n",
        "### PROBLEMA\n",
        "Dado um pokémon, é possível classificá-lo como lendário ou não lendário com base em suas características? É possível fazê-lo por meio de algoritmos de classificação?\n",
        "\n",
        "### OBJETIVOS\n",
        "* Criar um modelo de **classificação** que consiga predizer se um pokémon é lendário ou não tendo como base suas features, por exemplo, cor, tamanho, peso, raridade (catch_rate), entre outras.\n",
        "\n",
        " * Em um primeiro momento considerando majoritariamente todas as features, com exceção das que foram removidas durante o pré-processamento, por possuírem muitos dados NULL.\n",
        "\n",
        "* Exibir uma matriz de correlação e verificar quais são as melhores features pra levar em consideração na hora de classificar o pokémon.\n",
        "\n",
        "* Avaliar a eficácia do modelo conforme acurácia e outras métricas. No modelo Decision Tree, verificar quais foram as features mais importantes para a formação da árvore (exibindo-a), e verificar quais foram os erros individuais do algoritmo.\n",
        "\n",
        "* Comparar as pontuações do primeiro algoritmo, Decision Tree, sem PCA, com um novo modelo de Decision Tree com PCA, para que seja possível avaliar a viabilidade da redução de dimensionalidade nos dados.\n",
        "\n",
        "* Exibir as figuras com os dados de treino através do PCA, a fim de entender o quão possível seria separar os dados com apenas duas features/dimensões."
      ]
    },
    {
      "cell_type": "markdown",
      "metadata": {
        "id": "q4Oys3NsGb6Q"
      },
      "source": [
        "# BANCOS DE DADOS UTILIZADO\n",
        "\n",
        "Pokémon for Data Mining and Machine Learning, por **Asier López Zorrilla**:\n",
        "\n",
        "https://www.kaggle.com/datasets/alopez247/pokemon"
      ]
    },
    {
      "cell_type": "markdown",
      "metadata": {
        "id": "6jJhTlp5HWc6"
      },
      "source": [
        "# DESCRIÇÃO DO BANCO DE DADOS\n",
        "\n",
        "* O banco de dados utilizado é baseado na franquia de RPG Pokémon, originalmente criado em 1996, com versões sendo lançadas até os dias de hoje. O dataset possui todos os pokémons da primeira à sexta geração, totalizando 721 pokémons, sendo que, conforme a feature utilizada que define se o pokemon é lendário ou não, a divisão de classes é de 46 lendários e 675 não lendários, o que torna as classes desbalanceadas. É quase como se este fosse um problema de detecção de anomalias de tráfego de rede em uma escala muito reduzida. A princípio, o dataset possui 21 features, entre elas, cor, tipo primário, secundário, peso, tamanho etc.\n",
        "\n",
        " *  Nota: o plural de pokémon aqui fora considerado como \"pokémons\" para maior clareza, apesar de grande parte da base de fãs da franquia considerar o plural como \"pokémon\".\n",
        "  \n",
        "\n",
        "\n"
      ]
    },
    {
      "cell_type": "markdown",
      "metadata": {
        "id": "oEaEELCiHA1k"
      },
      "source": [
        "# TIPO DE MODELO\n",
        "\n",
        "* Classificação.\n",
        " * Decision Tree.\n",
        " * Decision Tree com PCA e Cross Validation."
      ]
    },
    {
      "cell_type": "markdown",
      "metadata": {
        "id": "ki3kqs6_HKuT"
      },
      "source": [
        "# FERRAMENTAS UTILIZADAS PARA O DATASET ESCOLHIDO\n",
        "\n",
        "* Decision Tree Classifier. \n",
        "* PCA.\n",
        "* StandardScaler.\n",
        "* Cross-Validation (Cross_Val_score)."
      ]
    },
    {
      "cell_type": "markdown",
      "metadata": {
        "id": "U1m8Mjcv5Gkh"
      },
      "source": [
        "# PRÉ-PROCESSAMENTO DE DADOS"
      ]
    },
    {
      "cell_type": "code",
      "execution_count": null,
      "metadata": {
        "colab": {
          "base_uri": "https://localhost:8080/"
        },
        "id": "yfWGAkU4HOiR",
        "outputId": "efc38e76-95a6-4f1e-ff8d-deae653be70d"
      },
      "outputs": [
        {
          "output_type": "stream",
          "name": "stdout",
          "text": [
            "Mounted at /content/drive\n"
          ]
        }
      ],
      "source": [
        "#Acesso aos documentos do Drive\n",
        "from google.colab import drive\n",
        "drive.mount('/content/drive')"
      ]
    },
    {
      "cell_type": "code",
      "execution_count": null,
      "metadata": {
        "id": "LfKGsl8gLEWV",
        "colab": {
          "base_uri": "https://localhost:8080/"
        },
        "outputId": "04548af6-b504-44d3-8cad-f2ca08d3c607"
      },
      "outputs": [
        {
          "output_type": "stream",
          "name": "stdout",
          "text": [
            "Looking in indexes: https://pypi.org/simple, https://us-python.pkg.dev/colab-wheels/public/simple/\n",
            "Requirement already satisfied: graphviz in /usr/local/lib/python3.7/dist-packages (0.10.1)\n",
            "/bin/bash: conda: command not found\n"
          ]
        }
      ],
      "source": [
        "#Pré-processamento de dados.\n",
        "import pandas as pd\n",
        "import numpy as np\n",
        "\n",
        "#Exibição dos dados.\n",
        "import seaborn as sns\n",
        "import matplotlib.pyplot as plt\n",
        "\n",
        "#Medição de tempo.\n",
        "import time \n",
        "\n",
        "#Visualizar o Grafo da Decision Tree.\n",
        "!pip install graphviz \n",
        "\n",
        "# Talvez seja necessário utilizar no CMD do Windows.\n",
        "!conda install python-graphviz #No jupyter é possível substituir conda por pip.\n",
        "\n",
        "\n",
        "# Módulos do SKlearn.\n",
        "from sklearn import tree\n",
        "import graphviz\n",
        "from sklearn.model_selection import train_test_split as tts\n",
        "from sklearn.tree import DecisionTreeClassifier as dt\n",
        "from sklearn.tree import plot_tree\n",
        "from sklearn.metrics import accuracy_score\n",
        "from sklearn.metrics import confusion_matrix\n",
        "from sklearn.metrics import ConfusionMatrixDisplay\n",
        "from sklearn.preprocessing import StandardScaler\n",
        "from sklearn.linear_model import LogisticRegression\n",
        "from sklearn.metrics import classification_report\n",
        "from sklearn.model_selection import cross_val_score\n",
        "\n",
        "%matplotlib inline\n",
        "\n",
        "#Leitura do csv com os pokémons.\n",
        "pokemon = pd.read_csv('/content/drive/MyDrive/pokemon_alopez247.csv')\n",
        "#pokemon = pd.read_csv('./pokemon_alopez247.csv')"
      ]
    },
    {
      "cell_type": "code",
      "execution_count": null,
      "metadata": {
        "colab": {
          "base_uri": "https://localhost:8080/",
          "height": 317
        },
        "id": "sae9_epf1Pxr",
        "outputId": "56a5dff8-3e6f-4b78-a48e-513888b6770b"
      },
      "outputs": [
        {
          "output_type": "stream",
          "name": "stdout",
          "text": [
            "(721, 23)\n"
          ]
        },
        {
          "output_type": "execute_result",
          "data": {
            "text/plain": [
              "   Number        Name Type_1  Type_2  Total  HP  Attack  Defense  Sp_Atk  \\\n",
              "0       1   Bulbasaur  Grass  Poison    318  45      49       49      65   \n",
              "1       2     Ivysaur  Grass  Poison    405  60      62       63      80   \n",
              "2       3    Venusaur  Grass  Poison    525  80      82       83     100   \n",
              "3       4  Charmander   Fire     NaN    309  39      52       43      60   \n",
              "4       5  Charmeleon   Fire     NaN    405  58      64       58      80   \n",
              "\n",
              "   Sp_Def  ...  Color  hasGender  Pr_Male Egg_Group_1  Egg_Group_2  \\\n",
              "0      65  ...  Green       True    0.875     Monster        Grass   \n",
              "1      80  ...  Green       True    0.875     Monster        Grass   \n",
              "2     100  ...  Green       True    0.875     Monster        Grass   \n",
              "3      50  ...    Red       True    0.875     Monster       Dragon   \n",
              "4      65  ...    Red       True    0.875     Monster       Dragon   \n",
              "\n",
              "   hasMegaEvolution Height_m Weight_kg  Catch_Rate      Body_Style  \n",
              "0             False     0.71       6.9          45       quadruped  \n",
              "1             False     0.99      13.0          45       quadruped  \n",
              "2              True     2.01     100.0          45       quadruped  \n",
              "3             False     0.61       8.5          45  bipedal_tailed  \n",
              "4             False     1.09      19.0          45  bipedal_tailed  \n",
              "\n",
              "[5 rows x 23 columns]"
            ],
            "text/html": [
              "\n",
              "  <div id=\"df-8cfabdab-5089-42dc-8100-48d6eeec6682\">\n",
              "    <div class=\"colab-df-container\">\n",
              "      <div>\n",
              "<style scoped>\n",
              "    .dataframe tbody tr th:only-of-type {\n",
              "        vertical-align: middle;\n",
              "    }\n",
              "\n",
              "    .dataframe tbody tr th {\n",
              "        vertical-align: top;\n",
              "    }\n",
              "\n",
              "    .dataframe thead th {\n",
              "        text-align: right;\n",
              "    }\n",
              "</style>\n",
              "<table border=\"1\" class=\"dataframe\">\n",
              "  <thead>\n",
              "    <tr style=\"text-align: right;\">\n",
              "      <th></th>\n",
              "      <th>Number</th>\n",
              "      <th>Name</th>\n",
              "      <th>Type_1</th>\n",
              "      <th>Type_2</th>\n",
              "      <th>Total</th>\n",
              "      <th>HP</th>\n",
              "      <th>Attack</th>\n",
              "      <th>Defense</th>\n",
              "      <th>Sp_Atk</th>\n",
              "      <th>Sp_Def</th>\n",
              "      <th>...</th>\n",
              "      <th>Color</th>\n",
              "      <th>hasGender</th>\n",
              "      <th>Pr_Male</th>\n",
              "      <th>Egg_Group_1</th>\n",
              "      <th>Egg_Group_2</th>\n",
              "      <th>hasMegaEvolution</th>\n",
              "      <th>Height_m</th>\n",
              "      <th>Weight_kg</th>\n",
              "      <th>Catch_Rate</th>\n",
              "      <th>Body_Style</th>\n",
              "    </tr>\n",
              "  </thead>\n",
              "  <tbody>\n",
              "    <tr>\n",
              "      <th>0</th>\n",
              "      <td>1</td>\n",
              "      <td>Bulbasaur</td>\n",
              "      <td>Grass</td>\n",
              "      <td>Poison</td>\n",
              "      <td>318</td>\n",
              "      <td>45</td>\n",
              "      <td>49</td>\n",
              "      <td>49</td>\n",
              "      <td>65</td>\n",
              "      <td>65</td>\n",
              "      <td>...</td>\n",
              "      <td>Green</td>\n",
              "      <td>True</td>\n",
              "      <td>0.875</td>\n",
              "      <td>Monster</td>\n",
              "      <td>Grass</td>\n",
              "      <td>False</td>\n",
              "      <td>0.71</td>\n",
              "      <td>6.9</td>\n",
              "      <td>45</td>\n",
              "      <td>quadruped</td>\n",
              "    </tr>\n",
              "    <tr>\n",
              "      <th>1</th>\n",
              "      <td>2</td>\n",
              "      <td>Ivysaur</td>\n",
              "      <td>Grass</td>\n",
              "      <td>Poison</td>\n",
              "      <td>405</td>\n",
              "      <td>60</td>\n",
              "      <td>62</td>\n",
              "      <td>63</td>\n",
              "      <td>80</td>\n",
              "      <td>80</td>\n",
              "      <td>...</td>\n",
              "      <td>Green</td>\n",
              "      <td>True</td>\n",
              "      <td>0.875</td>\n",
              "      <td>Monster</td>\n",
              "      <td>Grass</td>\n",
              "      <td>False</td>\n",
              "      <td>0.99</td>\n",
              "      <td>13.0</td>\n",
              "      <td>45</td>\n",
              "      <td>quadruped</td>\n",
              "    </tr>\n",
              "    <tr>\n",
              "      <th>2</th>\n",
              "      <td>3</td>\n",
              "      <td>Venusaur</td>\n",
              "      <td>Grass</td>\n",
              "      <td>Poison</td>\n",
              "      <td>525</td>\n",
              "      <td>80</td>\n",
              "      <td>82</td>\n",
              "      <td>83</td>\n",
              "      <td>100</td>\n",
              "      <td>100</td>\n",
              "      <td>...</td>\n",
              "      <td>Green</td>\n",
              "      <td>True</td>\n",
              "      <td>0.875</td>\n",
              "      <td>Monster</td>\n",
              "      <td>Grass</td>\n",
              "      <td>True</td>\n",
              "      <td>2.01</td>\n",
              "      <td>100.0</td>\n",
              "      <td>45</td>\n",
              "      <td>quadruped</td>\n",
              "    </tr>\n",
              "    <tr>\n",
              "      <th>3</th>\n",
              "      <td>4</td>\n",
              "      <td>Charmander</td>\n",
              "      <td>Fire</td>\n",
              "      <td>NaN</td>\n",
              "      <td>309</td>\n",
              "      <td>39</td>\n",
              "      <td>52</td>\n",
              "      <td>43</td>\n",
              "      <td>60</td>\n",
              "      <td>50</td>\n",
              "      <td>...</td>\n",
              "      <td>Red</td>\n",
              "      <td>True</td>\n",
              "      <td>0.875</td>\n",
              "      <td>Monster</td>\n",
              "      <td>Dragon</td>\n",
              "      <td>False</td>\n",
              "      <td>0.61</td>\n",
              "      <td>8.5</td>\n",
              "      <td>45</td>\n",
              "      <td>bipedal_tailed</td>\n",
              "    </tr>\n",
              "    <tr>\n",
              "      <th>4</th>\n",
              "      <td>5</td>\n",
              "      <td>Charmeleon</td>\n",
              "      <td>Fire</td>\n",
              "      <td>NaN</td>\n",
              "      <td>405</td>\n",
              "      <td>58</td>\n",
              "      <td>64</td>\n",
              "      <td>58</td>\n",
              "      <td>80</td>\n",
              "      <td>65</td>\n",
              "      <td>...</td>\n",
              "      <td>Red</td>\n",
              "      <td>True</td>\n",
              "      <td>0.875</td>\n",
              "      <td>Monster</td>\n",
              "      <td>Dragon</td>\n",
              "      <td>False</td>\n",
              "      <td>1.09</td>\n",
              "      <td>19.0</td>\n",
              "      <td>45</td>\n",
              "      <td>bipedal_tailed</td>\n",
              "    </tr>\n",
              "  </tbody>\n",
              "</table>\n",
              "<p>5 rows × 23 columns</p>\n",
              "</div>\n",
              "      <button class=\"colab-df-convert\" onclick=\"convertToInteractive('df-8cfabdab-5089-42dc-8100-48d6eeec6682')\"\n",
              "              title=\"Convert this dataframe to an interactive table.\"\n",
              "              style=\"display:none;\">\n",
              "        \n",
              "  <svg xmlns=\"http://www.w3.org/2000/svg\" height=\"24px\"viewBox=\"0 0 24 24\"\n",
              "       width=\"24px\">\n",
              "    <path d=\"M0 0h24v24H0V0z\" fill=\"none\"/>\n",
              "    <path d=\"M18.56 5.44l.94 2.06.94-2.06 2.06-.94-2.06-.94-.94-2.06-.94 2.06-2.06.94zm-11 1L8.5 8.5l.94-2.06 2.06-.94-2.06-.94L8.5 2.5l-.94 2.06-2.06.94zm10 10l.94 2.06.94-2.06 2.06-.94-2.06-.94-.94-2.06-.94 2.06-2.06.94z\"/><path d=\"M17.41 7.96l-1.37-1.37c-.4-.4-.92-.59-1.43-.59-.52 0-1.04.2-1.43.59L10.3 9.45l-7.72 7.72c-.78.78-.78 2.05 0 2.83L4 21.41c.39.39.9.59 1.41.59.51 0 1.02-.2 1.41-.59l7.78-7.78 2.81-2.81c.8-.78.8-2.07 0-2.86zM5.41 20L4 18.59l7.72-7.72 1.47 1.35L5.41 20z\"/>\n",
              "  </svg>\n",
              "      </button>\n",
              "      \n",
              "  <style>\n",
              "    .colab-df-container {\n",
              "      display:flex;\n",
              "      flex-wrap:wrap;\n",
              "      gap: 12px;\n",
              "    }\n",
              "\n",
              "    .colab-df-convert {\n",
              "      background-color: #E8F0FE;\n",
              "      border: none;\n",
              "      border-radius: 50%;\n",
              "      cursor: pointer;\n",
              "      display: none;\n",
              "      fill: #1967D2;\n",
              "      height: 32px;\n",
              "      padding: 0 0 0 0;\n",
              "      width: 32px;\n",
              "    }\n",
              "\n",
              "    .colab-df-convert:hover {\n",
              "      background-color: #E2EBFA;\n",
              "      box-shadow: 0px 1px 2px rgba(60, 64, 67, 0.3), 0px 1px 3px 1px rgba(60, 64, 67, 0.15);\n",
              "      fill: #174EA6;\n",
              "    }\n",
              "\n",
              "    [theme=dark] .colab-df-convert {\n",
              "      background-color: #3B4455;\n",
              "      fill: #D2E3FC;\n",
              "    }\n",
              "\n",
              "    [theme=dark] .colab-df-convert:hover {\n",
              "      background-color: #434B5C;\n",
              "      box-shadow: 0px 1px 3px 1px rgba(0, 0, 0, 0.15);\n",
              "      filter: drop-shadow(0px 1px 2px rgba(0, 0, 0, 0.3));\n",
              "      fill: #FFFFFF;\n",
              "    }\n",
              "  </style>\n",
              "\n",
              "      <script>\n",
              "        const buttonEl =\n",
              "          document.querySelector('#df-8cfabdab-5089-42dc-8100-48d6eeec6682 button.colab-df-convert');\n",
              "        buttonEl.style.display =\n",
              "          google.colab.kernel.accessAllowed ? 'block' : 'none';\n",
              "\n",
              "        async function convertToInteractive(key) {\n",
              "          const element = document.querySelector('#df-8cfabdab-5089-42dc-8100-48d6eeec6682');\n",
              "          const dataTable =\n",
              "            await google.colab.kernel.invokeFunction('convertToInteractive',\n",
              "                                                     [key], {});\n",
              "          if (!dataTable) return;\n",
              "\n",
              "          const docLinkHtml = 'Like what you see? Visit the ' +\n",
              "            '<a target=\"_blank\" href=https://colab.research.google.com/notebooks/data_table.ipynb>data table notebook</a>'\n",
              "            + ' to learn more about interactive tables.';\n",
              "          element.innerHTML = '';\n",
              "          dataTable['output_type'] = 'display_data';\n",
              "          await google.colab.output.renderOutput(dataTable, element);\n",
              "          const docLink = document.createElement('div');\n",
              "          docLink.innerHTML = docLinkHtml;\n",
              "          element.appendChild(docLink);\n",
              "        }\n",
              "      </script>\n",
              "    </div>\n",
              "  </div>\n",
              "  "
            ]
          },
          "metadata": {},
          "execution_count": 4
        }
      ],
      "source": [
        "print(pokemon.shape)\n",
        "pokemon.head()"
      ]
    },
    {
      "cell_type": "code",
      "execution_count": null,
      "metadata": {
        "colab": {
          "base_uri": "https://localhost:8080/"
        },
        "id": "qL4tJfTtP5wx",
        "outputId": "4bb9ebb9-1c8c-48b0-ed87-63a31214385b"
      },
      "outputs": [
        {
          "output_type": "execute_result",
          "data": {
            "text/plain": [
              "Number                0\n",
              "Name                  0\n",
              "Type_1                0\n",
              "Type_2              371\n",
              "Total                 0\n",
              "HP                    0\n",
              "Attack                0\n",
              "Defense               0\n",
              "Sp_Atk                0\n",
              "Sp_Def                0\n",
              "Speed                 0\n",
              "Generation            0\n",
              "isLegendary           0\n",
              "Color                 0\n",
              "hasGender             0\n",
              "Pr_Male              77\n",
              "Egg_Group_1           0\n",
              "Egg_Group_2         530\n",
              "hasMegaEvolution      0\n",
              "Height_m              0\n",
              "Weight_kg             0\n",
              "Catch_Rate            0\n",
              "Body_Style            0\n",
              "dtype: int64"
            ]
          },
          "metadata": {},
          "execution_count": 5
        }
      ],
      "source": [
        "#Análise de quais dados são NULL.\n",
        "pokemon.isnull().sum()"
      ]
    },
    {
      "cell_type": "markdown",
      "source": [
        "Tratamento dos dados null."
      ],
      "metadata": {
        "id": "Ja80GPxtIhcv"
      }
    },
    {
      "cell_type": "code",
      "execution_count": null,
      "metadata": {
        "colab": {
          "base_uri": "https://localhost:8080/"
        },
        "id": "L4QYOSjTQFLW",
        "outputId": "598fb890-294d-4bf1-c04d-6119f08b3906"
      },
      "outputs": [
        {
          "output_type": "execute_result",
          "data": {
            "text/plain": [
              "Number              0\n",
              "Name                0\n",
              "Type_1              0\n",
              "Total               0\n",
              "HP                  0\n",
              "Attack              0\n",
              "Defense             0\n",
              "Sp_Atk              0\n",
              "Sp_Def              0\n",
              "Speed               0\n",
              "Generation          0\n",
              "isLegendary         0\n",
              "Color               0\n",
              "hasGender           0\n",
              "Pr_Male             0\n",
              "Egg_Group_1         0\n",
              "hasMegaEvolution    0\n",
              "Height_m            0\n",
              "Weight_kg           0\n",
              "Catch_Rate          0\n",
              "Body_Style          0\n",
              "dtype: int64"
            ]
          },
          "metadata": {},
          "execution_count": 6
        }
      ],
      "source": [
        "#Preenchendo os campos nulos de Pr_Male com 0,5 para pokémons que possuem a feature \"hasGender\" = False.\n",
        "pokemon['Pr_Male'] = pokemon['Pr_Male'].fillna(0.5) \n",
        "pokemon= pokemon.drop(['Egg_Group_2', 'Type_2'], axis=1)\n",
        "\n",
        "pokemon.isnull().sum()"
      ]
    },
    {
      "cell_type": "markdown",
      "source": [
        "Sem dados null é possível prosseguir com o pré-processamento."
      ],
      "metadata": {
        "id": "zYzwMdOZKTU_"
      }
    },
    {
      "cell_type": "code",
      "execution_count": null,
      "metadata": {
        "colab": {
          "base_uri": "https://localhost:8080/",
          "height": 949
        },
        "id": "YHjeoV-hqRak",
        "outputId": "652af8fc-be5a-4748-eef2-c796b06ca680"
      },
      "outputs": [
        {
          "output_type": "display_data",
          "data": {
            "text/plain": [
              "<Figure size 1080x1080 with 2 Axes>"
            ],
            "image/png": "[encoded data removed]"
          },
          "metadata": {
            "needs_background": "light"
          }
        }
      ],
      "source": [
        "#Imprimindo a matriz que mostra a correlação entre as features.\n",
        "plt.figure(figsize=(15,15))\n",
        "dataplot=sns.heatmap(pokemon.corr(), annot=True)"
      ]
    },
    {
      "cell_type": "markdown",
      "metadata": {
        "id": "QHv72Tyg092C"
      },
      "source": [
        "Imprimindo a matriz de correlação entre os dados numéricos e booleanos do dataset, foi possível extrair algumas informações interessantes, que têm um sentido intuitivo. Por exemplo, há uma enorme correlação entre o número do Pokémon e sua geração, o que é esperado, já que a cada geração são lançados x pokemóns; outro dado interessante é que há uma correlação negativa, porém considerável entre os atributos \"isLegendary\" e \"Catch_Rate\", o que é coerente, já que Pokemón lendários são raros.\n",
        "\n"
      ]
    },
    {
      "cell_type": "code",
      "execution_count": null,
      "metadata": {
        "colab": {
          "base_uri": "https://localhost:8080/",
          "height": 206
        },
        "id": "QC8wdihiyoHx",
        "outputId": "c67685a3-eb95-4f2b-ab3f-656f3b19fced"
      },
      "outputs": [
        {
          "output_type": "execute_result",
          "data": {
            "text/plain": [
              "         isLegendary\n",
              "Number      0.135022\n",
              "Total       0.481837\n",
              "HP          0.258926\n",
              "Attack      0.302786\n",
              "Defense     0.274446"
            ],
            "text/html": [
              "\n",
              "  <div id=\"df-3ab3f941-14ec-4986-ae73-cb9f00cf21d6\">\n",
              "    <div class=\"colab-df-container\">\n",
              "      <div>\n",
              "<style scoped>\n",
              "    .dataframe tbody tr th:only-of-type {\n",
              "        vertical-align: middle;\n",
              "    }\n",
              "\n",
              "    .dataframe tbody tr th {\n",
              "        vertical-align: top;\n",
              "    }\n",
              "\n",
              "    .dataframe thead th {\n",
              "        text-align: right;\n",
              "    }\n",
              "</style>\n",
              "<table border=\"1\" class=\"dataframe\">\n",
              "  <thead>\n",
              "    <tr style=\"text-align: right;\">\n",
              "      <th></th>\n",
              "      <th>isLegendary</th>\n",
              "    </tr>\n",
              "  </thead>\n",
              "  <tbody>\n",
              "    <tr>\n",
              "      <th>Number</th>\n",
              "      <td>0.135022</td>\n",
              "    </tr>\n",
              "    <tr>\n",
              "      <th>Total</th>\n",
              "      <td>0.481837</td>\n",
              "    </tr>\n",
              "    <tr>\n",
              "      <th>HP</th>\n",
              "      <td>0.258926</td>\n",
              "    </tr>\n",
              "    <tr>\n",
              "      <th>Attack</th>\n",
              "      <td>0.302786</td>\n",
              "    </tr>\n",
              "    <tr>\n",
              "      <th>Defense</th>\n",
              "      <td>0.274446</td>\n",
              "    </tr>\n",
              "  </tbody>\n",
              "</table>\n",
              "</div>\n",
              "      <button class=\"colab-df-convert\" onclick=\"convertToInteractive('df-3ab3f941-14ec-4986-ae73-cb9f00cf21d6')\"\n",
              "              title=\"Convert this dataframe to an interactive table.\"\n",
              "              style=\"display:none;\">\n",
              "        \n",
              "  <svg xmlns=\"http://www.w3.org/2000/svg\" height=\"24px\"viewBox=\"0 0 24 24\"\n",
              "       width=\"24px\">\n",
              "    <path d=\"M0 0h24v24H0V0z\" fill=\"none\"/>\n",
              "    <path d=\"M18.56 5.44l.94 2.06.94-2.06 2.06-.94-2.06-.94-.94-2.06-.94 2.06-2.06.94zm-11 1L8.5 8.5l.94-2.06 2.06-.94-2.06-.94L8.5 2.5l-.94 2.06-2.06.94zm10 10l.94 2.06.94-2.06 2.06-.94-2.06-.94-.94-2.06-.94 2.06-2.06.94z\"/><path d=\"M17.41 7.96l-1.37-1.37c-.4-.4-.92-.59-1.43-.59-.52 0-1.04.2-1.43.59L10.3 9.45l-7.72 7.72c-.78.78-.78 2.05 0 2.83L4 21.41c.39.39.9.59 1.41.59.51 0 1.02-.2 1.41-.59l7.78-7.78 2.81-2.81c.8-.78.8-2.07 0-2.86zM5.41 20L4 18.59l7.72-7.72 1.47 1.35L5.41 20z\"/>\n",
              "  </svg>\n",
              "      </button>\n",
              "      \n",
              "  <style>\n",
              "    .colab-df-container {\n",
              "      display:flex;\n",
              "      flex-wrap:wrap;\n",
              "      gap: 12px;\n",
              "    }\n",
              "\n",
              "    .colab-df-convert {\n",
              "      background-color: #E8F0FE;\n",
              "      border: none;\n",
              "      border-radius: 50%;\n",
              "      cursor: pointer;\n",
              "      display: none;\n",
              "      fill: #1967D2;\n",
              "      height: 32px;\n",
              "      padding: 0 0 0 0;\n",
              "      width: 32px;\n",
              "    }\n",
              "\n",
              "    .colab-df-convert:hover {\n",
              "      background-color: #E2EBFA;\n",
              "      box-shadow: 0px 1px 2px rgba(60, 64, 67, 0.3), 0px 1px 3px 1px rgba(60, 64, 67, 0.15);\n",
              "      fill: #174EA6;\n",
              "    }\n",
              "\n",
              "    [theme=dark] .colab-df-convert {\n",
              "      background-color: #3B4455;\n",
              "      fill: #D2E3FC;\n",
              "    }\n",
              "\n",
              "    [theme=dark] .colab-df-convert:hover {\n",
              "      background-color: #434B5C;\n",
              "      box-shadow: 0px 1px 3px 1px rgba(0, 0, 0, 0.15);\n",
              "      filter: drop-shadow(0px 1px 2px rgba(0, 0, 0, 0.3));\n",
              "      fill: #FFFFFF;\n",
              "    }\n",
              "  </style>\n",
              "\n",
              "      <script>\n",
              "        const buttonEl =\n",
              "          document.querySelector('#df-3ab3f941-14ec-4986-ae73-cb9f00cf21d6 button.colab-df-convert');\n",
              "        buttonEl.style.display =\n",
              "          google.colab.kernel.accessAllowed ? 'block' : 'none';\n",
              "\n",
              "        async function convertToInteractive(key) {\n",
              "          const element = document.querySelector('#df-3ab3f941-14ec-4986-ae73-cb9f00cf21d6');\n",
              "          const dataTable =\n",
              "            await google.colab.kernel.invokeFunction('convertToInteractive',\n",
              "                                                     [key], {});\n",
              "          if (!dataTable) return;\n",
              "\n",
              "          const docLinkHtml = 'Like what you see? Visit the ' +\n",
              "            '<a target=\"_blank\" href=https://colab.research.google.com/notebooks/data_table.ipynb>data table notebook</a>'\n",
              "            + ' to learn more about interactive tables.';\n",
              "          element.innerHTML = '';\n",
              "          dataTable['output_type'] = 'display_data';\n",
              "          await google.colab.output.renderOutput(dataTable, element);\n",
              "          const docLink = document.createElement('div');\n",
              "          docLink.innerHTML = docLinkHtml;\n",
              "          element.appendChild(docLink);\n",
              "        }\n",
              "      </script>\n",
              "    </div>\n",
              "  </div>\n",
              "  "
            ]
          },
          "metadata": {},
          "execution_count": 8
        }
      ],
      "source": [
        "#Extraindo somente os dados de correlação relacionados à ser ou não lendário.\n",
        "corr= pokemon.corr()\n",
        "corr=(corr[['isLegendary']]).abs()\n",
        "corr.head()"
      ]
    },
    {
      "cell_type": "markdown",
      "metadata": {
        "id": "qE0FK-rC7dX6"
      },
      "source": [
        "A tabela acima apresenta as features correlacionadas com a feature isLegendary, de forma que seria possível realizar a exclusão de features menos relevantes. Optou-se por mantê-las para avaliação dos resultados."
      ]
    },
    {
      "cell_type": "code",
      "execution_count": null,
      "metadata": {
        "colab": {
          "base_uri": "https://localhost:8080/"
        },
        "id": "OIHwPO7F2tHm",
        "outputId": "abb1cf41-d22b-4169-91be-5ee268ff559d"
      },
      "outputs": [
        {
          "output_type": "stream",
          "name": "stdout",
          "text": [
            "(721, 21)\n",
            "<class 'pandas.core.frame.DataFrame'>\n",
            "RangeIndex: 721 entries, 0 to 720\n",
            "Data columns (total 21 columns):\n",
            " #   Column            Non-Null Count  Dtype  \n",
            "---  ------            --------------  -----  \n",
            " 0   Number            721 non-null    int64  \n",
            " 1   Name              721 non-null    object \n",
            " 2   Type_1            721 non-null    object \n",
            " 3   Total             721 non-null    int64  \n",
            " 4   HP                721 non-null    int64  \n",
            " 5   Attack            721 non-null    int64  \n",
            " 6   Defense           721 non-null    int64  \n",
            " 7   Sp_Atk            721 non-null    int64  \n",
            " 8   Sp_Def            721 non-null    int64  \n",
            " 9   Speed             721 non-null    int64  \n",
            " 10  Generation        721 non-null    int64  \n",
            " 11  isLegendary       721 non-null    bool   \n",
            " 12  Color             721 non-null    object \n",
            " 13  hasGender         721 non-null    bool   \n",
            " 14  Pr_Male           721 non-null    float64\n",
            " 15  Egg_Group_1       721 non-null    object \n",
            " 16  hasMegaEvolution  721 non-null    bool   \n",
            " 17  Height_m          721 non-null    float64\n",
            " 18  Weight_kg         721 non-null    float64\n",
            " 19  Catch_Rate        721 non-null    int64  \n",
            " 20  Body_Style        721 non-null    object \n",
            "dtypes: bool(3), float64(3), int64(10), object(5)\n",
            "memory usage: 103.6+ KB\n"
          ]
        }
      ],
      "source": [
        "#Imprimindo o shape e as informações do banco de dados.\n",
        "print(pokemon.shape)\n",
        "pokemon.info()"
      ]
    },
    {
      "cell_type": "markdown",
      "metadata": {
        "id": "ycocB9kN7xys"
      },
      "source": [
        "Após lidar com os dados null, é necessário transformar os dados categóricos restantes, representados como \"object\", em dados que possam ser lidos pelo algoritmo. Sendo assim, estes serão transformados ou em booleanos ou entradas numéricas. Os dados que possuem essa categoria são: **Type_1, Name, Egg_Group, Body_Style e Color**, conforme explicitado na tabela acima. Iniciando por **Type_1**:"
      ]
    },
    {
      "cell_type": "code",
      "execution_count": null,
      "metadata": {
        "colab": {
          "base_uri": "https://localhost:8080/",
          "height": 625
        },
        "id": "K4I3_8ut592v",
        "outputId": "8839e082-15cb-4963-94e8-5a25c1a90911"
      },
      "outputs": [
        {
          "output_type": "stream",
          "name": "stdout",
          "text": [
            "Antes da mescla\n",
            "____________\n"
          ]
        },
        {
          "output_type": "display_data",
          "data": {
            "text/plain": [
              "Water       105\n",
              "Normal       93\n",
              "Grass        66\n",
              "Bug          63\n",
              "Fire         47\n",
              "Psychic      47\n",
              "Rock         41\n",
              "Electric     36\n",
              "Ground       30\n",
              "Poison       28\n",
              "Dark         28\n",
              "Fighting     25\n",
              "Dragon       24\n",
              "Ghost        23\n",
              "Ice          23\n",
              "Steel        22\n",
              "Fairy        17\n",
              "Flying        3\n",
              "Name: Type_1, dtype: int64"
            ]
          },
          "metadata": {}
        },
        {
          "output_type": "stream",
          "name": "stdout",
          "text": [
            "____________\n",
            "Após a mescla\n"
          ]
        },
        {
          "output_type": "display_data",
          "data": {
            "text/plain": [
              "Grass       157\n",
              "Water       128\n",
              "Dark         98\n",
              "Normal       93\n",
              "Rock         71\n",
              "Electric     58\n",
              "Fire         47\n",
              "Fighting     25\n",
              "Dragon       24\n",
              "Fairy        17\n",
              "Flying        3\n",
              "Name: Type_1, dtype: int64"
            ]
          },
          "metadata": {}
        }
      ],
      "source": [
        "#Contagem de quantas entradas tem em cada tipo de pokémon.\n",
        "print(\"Antes da mescla\")\n",
        "print(\"____________\")\n",
        "display((pokemon['Type_1'].value_counts()))\n",
        "\n",
        "#Conversão para reduzir os tipos de pokémon tratados.\n",
        "pokemon = pokemon.replace(['Water','Ice'], 'Water')\n",
        "pokemon = pokemon.replace(['Grass','Bug','Poison'], 'Grass')\n",
        "pokemon = pokemon.replace(['Psychic','Dark','Ghost'], 'Dark')\n",
        "pokemon = pokemon.replace(['Electric','Steel'], 'Electric')\n",
        "pokemon = pokemon.replace(['Rock','Ground'], 'Rock')\n",
        "\n",
        "print(\"____________\")\n",
        "print(\"Após a mescla\")\n",
        "display((pokemon['Type_1'].value_counts()))\n"
      ]
    },
    {
      "cell_type": "markdown",
      "metadata": {
        "id": "syJN1_B293JL"
      },
      "source": [
        "Feito isso, cada tipo será transformado em uma nova feature, ou seja, a feature que era categórica agora será dividida em onze novas features, assim, pode-se remover a antiga coluna **Type_1**."
      ]
    },
    {
      "cell_type": "code",
      "execution_count": null,
      "metadata": {
        "colab": {
          "base_uri": "https://localhost:8080/",
          "height": 270
        },
        "id": "h2zqGkAQ7wAj",
        "outputId": "8b1a5a02-dd79-4a10-92c0-8bf4e015e7e3"
      },
      "outputs": [
        {
          "output_type": "stream",
          "name": "stdout",
          "text": [
            "(721, 11)\n",
            "(721, 31)\n"
          ]
        },
        {
          "output_type": "execute_result",
          "data": {
            "text/plain": [
              "   Number        Name  Total  HP  Attack  Defense  Sp_Atk  Sp_Def  Speed  \\\n",
              "0       1   Bulbasaur    318  45      49       49      65      65     45   \n",
              "1       2     Ivysaur    405  60      62       63      80      80     60   \n",
              "2       3    Venusaur    525  80      82       83     100     100     80   \n",
              "3       4  Charmander    309  39      52       43      60      50     65   \n",
              "4       5  Charmeleon    405  58      64       58      80      65     80   \n",
              "\n",
              "   Generation  ...  Dragon Electric  Fairy  Fighting Fire  Flying  Grass  \\\n",
              "0           1  ...       0        0      0         0    0       0      1   \n",
              "1           1  ...       0        0      0         0    0       0      1   \n",
              "2           1  ...       0        0      0         0    0       0      1   \n",
              "3           1  ...       0        0      0         0    1       0      0   \n",
              "4           1  ...       0        0      0         0    1       0      0   \n",
              "\n",
              "   Normal  Rock Water  \n",
              "0       0     0     0  \n",
              "1       0     0     0  \n",
              "2       0     0     0  \n",
              "3       0     0     0  \n",
              "4       0     0     0  \n",
              "\n",
              "[5 rows x 31 columns]"
            ],
            "text/html": [
              "\n",
              "  <div id=\"df-7c662468-08cd-4b39-9a37-85134c50d4cc\">\n",
              "    <div class=\"colab-df-container\">\n",
              "      <div>\n",
              "<style scoped>\n",
              "    .dataframe tbody tr th:only-of-type {\n",
              "        vertical-align: middle;\n",
              "    }\n",
              "\n",
              "    .dataframe tbody tr th {\n",
              "        vertical-align: top;\n",
              "    }\n",
              "\n",
              "    .dataframe thead th {\n",
              "        text-align: right;\n",
              "    }\n",
              "</style>\n",
              "<table border=\"1\" class=\"dataframe\">\n",
              "  <thead>\n",
              "    <tr style=\"text-align: right;\">\n",
              "      <th></th>\n",
              "      <th>Number</th>\n",
              "      <th>Name</th>\n",
              "      <th>Total</th>\n",
              "      <th>HP</th>\n",
              "      <th>Attack</th>\n",
              "      <th>Defense</th>\n",
              "      <th>Sp_Atk</th>\n",
              "      <th>Sp_Def</th>\n",
              "      <th>Speed</th>\n",
              "      <th>Generation</th>\n",
              "      <th>...</th>\n",
              "      <th>Dragon</th>\n",
              "      <th>Electric</th>\n",
              "      <th>Fairy</th>\n",
              "      <th>Fighting</th>\n",
              "      <th>Fire</th>\n",
              "      <th>Flying</th>\n",
              "      <th>Grass</th>\n",
              "      <th>Normal</th>\n",
              "      <th>Rock</th>\n",
              "      <th>Water</th>\n",
              "    </tr>\n",
              "  </thead>\n",
              "  <tbody>\n",
              "    <tr>\n",
              "      <th>0</th>\n",
              "      <td>1</td>\n",
              "      <td>Bulbasaur</td>\n",
              "      <td>318</td>\n",
              "      <td>45</td>\n",
              "      <td>49</td>\n",
              "      <td>49</td>\n",
              "      <td>65</td>\n",
              "      <td>65</td>\n",
              "      <td>45</td>\n",
              "      <td>1</td>\n",
              "      <td>...</td>\n",
              "      <td>0</td>\n",
              "      <td>0</td>\n",
              "      <td>0</td>\n",
              "      <td>0</td>\n",
              "      <td>0</td>\n",
              "      <td>0</td>\n",
              "      <td>1</td>\n",
              "      <td>0</td>\n",
              "      <td>0</td>\n",
              "      <td>0</td>\n",
              "    </tr>\n",
              "    <tr>\n",
              "      <th>1</th>\n",
              "      <td>2</td>\n",
              "      <td>Ivysaur</td>\n",
              "      <td>405</td>\n",
              "      <td>60</td>\n",
              "      <td>62</td>\n",
              "      <td>63</td>\n",
              "      <td>80</td>\n",
              "      <td>80</td>\n",
              "      <td>60</td>\n",
              "      <td>1</td>\n",
              "      <td>...</td>\n",
              "      <td>0</td>\n",
              "      <td>0</td>\n",
              "      <td>0</td>\n",
              "      <td>0</td>\n",
              "      <td>0</td>\n",
              "      <td>0</td>\n",
              "      <td>1</td>\n",
              "      <td>0</td>\n",
              "      <td>0</td>\n",
              "      <td>0</td>\n",
              "    </tr>\n",
              "    <tr>\n",
              "      <th>2</th>\n",
              "      <td>3</td>\n",
              "      <td>Venusaur</td>\n",
              "      <td>525</td>\n",
              "      <td>80</td>\n",
              "      <td>82</td>\n",
              "      <td>83</td>\n",
              "      <td>100</td>\n",
              "      <td>100</td>\n",
              "      <td>80</td>\n",
              "      <td>1</td>\n",
              "      <td>...</td>\n",
              "      <td>0</td>\n",
              "      <td>0</td>\n",
              "      <td>0</td>\n",
              "      <td>0</td>\n",
              "      <td>0</td>\n",
              "      <td>0</td>\n",
              "      <td>1</td>\n",
              "      <td>0</td>\n",
              "      <td>0</td>\n",
              "      <td>0</td>\n",
              "    </tr>\n",
              "    <tr>\n",
              "      <th>3</th>\n",
              "      <td>4</td>\n",
              "      <td>Charmander</td>\n",
              "      <td>309</td>\n",
              "      <td>39</td>\n",
              "      <td>52</td>\n",
              "      <td>43</td>\n",
              "      <td>60</td>\n",
              "      <td>50</td>\n",
              "      <td>65</td>\n",
              "      <td>1</td>\n",
              "      <td>...</td>\n",
              "      <td>0</td>\n",
              "      <td>0</td>\n",
              "      <td>0</td>\n",
              "      <td>0</td>\n",
              "      <td>1</td>\n",
              "      <td>0</td>\n",
              "      <td>0</td>\n",
              "      <td>0</td>\n",
              "      <td>0</td>\n",
              "      <td>0</td>\n",
              "    </tr>\n",
              "    <tr>\n",
              "      <th>4</th>\n",
              "      <td>5</td>\n",
              "      <td>Charmeleon</td>\n",
              "      <td>405</td>\n",
              "      <td>58</td>\n",
              "      <td>64</td>\n",
              "      <td>58</td>\n",
              "      <td>80</td>\n",
              "      <td>65</td>\n",
              "      <td>80</td>\n",
              "      <td>1</td>\n",
              "      <td>...</td>\n",
              "      <td>0</td>\n",
              "      <td>0</td>\n",
              "      <td>0</td>\n",
              "      <td>0</td>\n",
              "      <td>1</td>\n",
              "      <td>0</td>\n",
              "      <td>0</td>\n",
              "      <td>0</td>\n",
              "      <td>0</td>\n",
              "      <td>0</td>\n",
              "    </tr>\n",
              "  </tbody>\n",
              "</table>\n",
              "<p>5 rows × 31 columns</p>\n",
              "</div>\n",
              "      <button class=\"colab-df-convert\" onclick=\"convertToInteractive('df-7c662468-08cd-4b39-9a37-85134c50d4cc')\"\n",
              "              title=\"Convert this dataframe to an interactive table.\"\n",
              "              style=\"display:none;\">\n",
              "        \n",
              "  <svg xmlns=\"http://www.w3.org/2000/svg\" height=\"24px\"viewBox=\"0 0 24 24\"\n",
              "       width=\"24px\">\n",
              "    <path d=\"M0 0h24v24H0V0z\" fill=\"none\"/>\n",
              "    <path d=\"M18.56 5.44l.94 2.06.94-2.06 2.06-.94-2.06-.94-.94-2.06-.94 2.06-2.06.94zm-11 1L8.5 8.5l.94-2.06 2.06-.94-2.06-.94L8.5 2.5l-.94 2.06-2.06.94zm10 10l.94 2.06.94-2.06 2.06-.94-2.06-.94-.94-2.06-.94 2.06-2.06.94z\"/><path d=\"M17.41 7.96l-1.37-1.37c-.4-.4-.92-.59-1.43-.59-.52 0-1.04.2-1.43.59L10.3 9.45l-7.72 7.72c-.78.78-.78 2.05 0 2.83L4 21.41c.39.39.9.59 1.41.59.51 0 1.02-.2 1.41-.59l7.78-7.78 2.81-2.81c.8-.78.8-2.07 0-2.86zM5.41 20L4 18.59l7.72-7.72 1.47 1.35L5.41 20z\"/>\n",
              "  </svg>\n",
              "      </button>\n",
              "      \n",
              "  <style>\n",
              "    .colab-df-container {\n",
              "      display:flex;\n",
              "      flex-wrap:wrap;\n",
              "      gap: 12px;\n",
              "    }\n",
              "\n",
              "    .colab-df-convert {\n",
              "      background-color: #E8F0FE;\n",
              "      border: none;\n",
              "      border-radius: 50%;\n",
              "      cursor: pointer;\n",
              "      display: none;\n",
              "      fill: #1967D2;\n",
              "      height: 32px;\n",
              "      padding: 0 0 0 0;\n",
              "      width: 32px;\n",
              "    }\n",
              "\n",
              "    .colab-df-convert:hover {\n",
              "      background-color: #E2EBFA;\n",
              "      box-shadow: 0px 1px 2px rgba(60, 64, 67, 0.3), 0px 1px 3px 1px rgba(60, 64, 67, 0.15);\n",
              "      fill: #174EA6;\n",
              "    }\n",
              "\n",
              "    [theme=dark] .colab-df-convert {\n",
              "      background-color: #3B4455;\n",
              "      fill: #D2E3FC;\n",
              "    }\n",
              "\n",
              "    [theme=dark] .colab-df-convert:hover {\n",
              "      background-color: #434B5C;\n",
              "      box-shadow: 0px 1px 3px 1px rgba(0, 0, 0, 0.15);\n",
              "      filter: drop-shadow(0px 1px 2px rgba(0, 0, 0, 0.3));\n",
              "      fill: #FFFFFF;\n",
              "    }\n",
              "  </style>\n",
              "\n",
              "      <script>\n",
              "        const buttonEl =\n",
              "          document.querySelector('#df-7c662468-08cd-4b39-9a37-85134c50d4cc button.colab-df-convert');\n",
              "        buttonEl.style.display =\n",
              "          google.colab.kernel.accessAllowed ? 'block' : 'none';\n",
              "\n",
              "        async function convertToInteractive(key) {\n",
              "          const element = document.querySelector('#df-7c662468-08cd-4b39-9a37-85134c50d4cc');\n",
              "          const dataTable =\n",
              "            await google.colab.kernel.invokeFunction('convertToInteractive',\n",
              "                                                     [key], {});\n",
              "          if (!dataTable) return;\n",
              "\n",
              "          const docLinkHtml = 'Like what you see? Visit the ' +\n",
              "            '<a target=\"_blank\" href=https://colab.research.google.com/notebooks/data_table.ipynb>data table notebook</a>'\n",
              "            + ' to learn more about interactive tables.';\n",
              "          element.innerHTML = '';\n",
              "          dataTable['output_type'] = 'display_data';\n",
              "          await google.colab.output.renderOutput(dataTable, element);\n",
              "          const docLink = document.createElement('div');\n",
              "          docLink.innerHTML = docLinkHtml;\n",
              "          element.appendChild(docLink);\n",
              "        }\n",
              "      </script>\n",
              "    </div>\n",
              "  </div>\n",
              "  "
            ]
          },
          "metadata": {},
          "execution_count": 11
        }
      ],
      "source": [
        "#Gerando um novo dataframe com cada feature sendo um dos onze tipos.\n",
        "Poke_Type = pd.get_dummies(pokemon['Type_1'])\n",
        "\n",
        "#Novo dataframe com as novas features.\n",
        "Poke = pd.concat([pokemon,Poke_Type], axis=1)\n",
        "\n",
        "#Removendo a antiga feature (que informava o tipo do pokémon).\n",
        "Poke = Poke.drop(['Type_1'], axis=1)\n",
        "\n",
        "#Visualizando shape.\n",
        "print(Poke_Type.shape)\n",
        "print(Poke.shape)\n",
        "\n",
        "#Visualizando os dados.\n",
        "Poke.head()"
      ]
    },
    {
      "cell_type": "markdown",
      "metadata": {
        "id": "lge2kR0dSEmN"
      },
      "source": [
        "A feature **Names** será removida dado que o algoritmo lida com dados numéricos, porém preservada para que seja possível utiizá-la posteriormente para identificar os pokémons que foram classificados incorretamente no final do algoritmo."
      ]
    },
    {
      "cell_type": "code",
      "execution_count": null,
      "metadata": {
        "colab": {
          "base_uri": "https://localhost:8080/",
          "height": 224
        },
        "id": "tC_6lYtNSD9S",
        "outputId": "8ce9d1ac-8c7c-4a5b-b5ad-d3f9469c493b"
      },
      "outputs": [
        {
          "output_type": "stream",
          "name": "stdout",
          "text": [
            "(721, 30)\n"
          ]
        },
        {
          "output_type": "execute_result",
          "data": {
            "text/plain": [
              "         Name\n",
              "0   Bulbasaur\n",
              "1     Ivysaur\n",
              "2    Venusaur\n",
              "3  Charmander\n",
              "4  Charmeleon"
            ],
            "text/html": [
              "\n",
              "  <div id=\"df-4f7b5031-f4c7-446e-8382-1404f7cfd884\">\n",
              "    <div class=\"colab-df-container\">\n",
              "      <div>\n",
              "<style scoped>\n",
              "    .dataframe tbody tr th:only-of-type {\n",
              "        vertical-align: middle;\n",
              "    }\n",
              "\n",
              "    .dataframe tbody tr th {\n",
              "        vertical-align: top;\n",
              "    }\n",
              "\n",
              "    .dataframe thead th {\n",
              "        text-align: right;\n",
              "    }\n",
              "</style>\n",
              "<table border=\"1\" class=\"dataframe\">\n",
              "  <thead>\n",
              "    <tr style=\"text-align: right;\">\n",
              "      <th></th>\n",
              "      <th>Name</th>\n",
              "    </tr>\n",
              "  </thead>\n",
              "  <tbody>\n",
              "    <tr>\n",
              "      <th>0</th>\n",
              "      <td>Bulbasaur</td>\n",
              "    </tr>\n",
              "    <tr>\n",
              "      <th>1</th>\n",
              "      <td>Ivysaur</td>\n",
              "    </tr>\n",
              "    <tr>\n",
              "      <th>2</th>\n",
              "      <td>Venusaur</td>\n",
              "    </tr>\n",
              "    <tr>\n",
              "      <th>3</th>\n",
              "      <td>Charmander</td>\n",
              "    </tr>\n",
              "    <tr>\n",
              "      <th>4</th>\n",
              "      <td>Charmeleon</td>\n",
              "    </tr>\n",
              "  </tbody>\n",
              "</table>\n",
              "</div>\n",
              "      <button class=\"colab-df-convert\" onclick=\"convertToInteractive('df-4f7b5031-f4c7-446e-8382-1404f7cfd884')\"\n",
              "              title=\"Convert this dataframe to an interactive table.\"\n",
              "              style=\"display:none;\">\n",
              "        \n",
              "  <svg xmlns=\"http://www.w3.org/2000/svg\" height=\"24px\"viewBox=\"0 0 24 24\"\n",
              "       width=\"24px\">\n",
              "    <path d=\"M0 0h24v24H0V0z\" fill=\"none\"/>\n",
              "    <path d=\"M18.56 5.44l.94 2.06.94-2.06 2.06-.94-2.06-.94-.94-2.06-.94 2.06-2.06.94zm-11 1L8.5 8.5l.94-2.06 2.06-.94-2.06-.94L8.5 2.5l-.94 2.06-2.06.94zm10 10l.94 2.06.94-2.06 2.06-.94-2.06-.94-.94-2.06-.94 2.06-2.06.94z\"/><path d=\"M17.41 7.96l-1.37-1.37c-.4-.4-.92-.59-1.43-.59-.52 0-1.04.2-1.43.59L10.3 9.45l-7.72 7.72c-.78.78-.78 2.05 0 2.83L4 21.41c.39.39.9.59 1.41.59.51 0 1.02-.2 1.41-.59l7.78-7.78 2.81-2.81c.8-.78.8-2.07 0-2.86zM5.41 20L4 18.59l7.72-7.72 1.47 1.35L5.41 20z\"/>\n",
              "  </svg>\n",
              "      </button>\n",
              "      \n",
              "  <style>\n",
              "    .colab-df-container {\n",
              "      display:flex;\n",
              "      flex-wrap:wrap;\n",
              "      gap: 12px;\n",
              "    }\n",
              "\n",
              "    .colab-df-convert {\n",
              "      background-color: #E8F0FE;\n",
              "      border: none;\n",
              "      border-radius: 50%;\n",
              "      cursor: pointer;\n",
              "      display: none;\n",
              "      fill: #1967D2;\n",
              "      height: 32px;\n",
              "      padding: 0 0 0 0;\n",
              "      width: 32px;\n",
              "    }\n",
              "\n",
              "    .colab-df-convert:hover {\n",
              "      background-color: #E2EBFA;\n",
              "      box-shadow: 0px 1px 2px rgba(60, 64, 67, 0.3), 0px 1px 3px 1px rgba(60, 64, 67, 0.15);\n",
              "      fill: #174EA6;\n",
              "    }\n",
              "\n",
              "    [theme=dark] .colab-df-convert {\n",
              "      background-color: #3B4455;\n",
              "      fill: #D2E3FC;\n",
              "    }\n",
              "\n",
              "    [theme=dark] .colab-df-convert:hover {\n",
              "      background-color: #434B5C;\n",
              "      box-shadow: 0px 1px 3px 1px rgba(0, 0, 0, 0.15);\n",
              "      filter: drop-shadow(0px 1px 2px rgba(0, 0, 0, 0.3));\n",
              "      fill: #FFFFFF;\n",
              "    }\n",
              "  </style>\n",
              "\n",
              "      <script>\n",
              "        const buttonEl =\n",
              "          document.querySelector('#df-4f7b5031-f4c7-446e-8382-1404f7cfd884 button.colab-df-convert');\n",
              "        buttonEl.style.display =\n",
              "          google.colab.kernel.accessAllowed ? 'block' : 'none';\n",
              "\n",
              "        async function convertToInteractive(key) {\n",
              "          const element = document.querySelector('#df-4f7b5031-f4c7-446e-8382-1404f7cfd884');\n",
              "          const dataTable =\n",
              "            await google.colab.kernel.invokeFunction('convertToInteractive',\n",
              "                                                     [key], {});\n",
              "          if (!dataTable) return;\n",
              "\n",
              "          const docLinkHtml = 'Like what you see? Visit the ' +\n",
              "            '<a target=\"_blank\" href=https://colab.research.google.com/notebooks/data_table.ipynb>data table notebook</a>'\n",
              "            + ' to learn more about interactive tables.';\n",
              "          element.innerHTML = '';\n",
              "          dataTable['output_type'] = 'display_data';\n",
              "          await google.colab.output.renderOutput(dataTable, element);\n",
              "          const docLink = document.createElement('div');\n",
              "          docLink.innerHTML = docLinkHtml;\n",
              "          element.appendChild(docLink);\n",
              "        }\n",
              "      </script>\n",
              "    </div>\n",
              "  </div>\n",
              "  "
            ]
          },
          "metadata": {},
          "execution_count": 12
        }
      ],
      "source": [
        "Poke_names = Poke[['Name']].copy()\n",
        "Poke = Poke.drop(['Name'], axis=1)\n",
        "print(Poke.shape)\n",
        "Poke_names.head()"
      ]
    },
    {
      "cell_type": "markdown",
      "metadata": {
        "id": "qg1gVCiYP_0J"
      },
      "source": [
        "Feito isso, o processo será repetido para a feature **Egg_Group_1**."
      ]
    },
    {
      "cell_type": "code",
      "execution_count": null,
      "metadata": {
        "colab": {
          "base_uri": "https://localhost:8080/",
          "height": 295
        },
        "id": "KAN9Dm2WP_Gu",
        "outputId": "a5ae22d2-4ffd-4aa5-ca71-0c6057e1a5d0"
      },
      "outputs": [
        {
          "output_type": "stream",
          "name": "stdout",
          "text": [
            "____________\n"
          ]
        },
        {
          "output_type": "display_data",
          "data": {
            "text/plain": [
              "Field           169\n",
              "Grass            93\n",
              "Monster          74\n",
              "Water_1          74\n",
              "Undiscovered     73\n",
              "Mineral          46\n",
              "Flying           44\n",
              "Amorphous        41\n",
              "Human-Like       37\n",
              "Fairy            30\n",
              "Water_2          15\n",
              "Water_3          14\n",
              "Dragon           10\n",
              "Ditto             1\n",
              "Name: Egg_Group_1, dtype: int64"
            ]
          },
          "metadata": {}
        }
      ],
      "source": [
        "#Contagem de quantas entradas tem em cada tipo de ovo de pokémon.\n",
        "print(\"____________\")\n",
        "display((Poke['Egg_Group_1'].value_counts()))"
      ]
    },
    {
      "cell_type": "code",
      "execution_count": null,
      "metadata": {
        "colab": {
          "base_uri": "https://localhost:8080/",
          "height": 260
        },
        "id": "RvKQvi1aWGJG",
        "outputId": "11a6de55-cb65-4d6e-f0ab-c93d6ae2917f"
      },
      "outputs": [
        {
          "output_type": "stream",
          "name": "stdout",
          "text": [
            "____________\n"
          ]
        },
        {
          "output_type": "display_data",
          "data": {
            "text/plain": [
              "Field           169\n",
              "Egg_water       103\n",
              "Grass            93\n",
              "Monster          74\n",
              "Undiscovered     73\n",
              "Mineral          46\n",
              "Flying           44\n",
              "Amorphous        41\n",
              "Human-Like       37\n",
              "Fairy            30\n",
              "Dragon           10\n",
              "Ditto             1\n",
              "Name: Egg_Group_1, dtype: int64"
            ]
          },
          "metadata": {}
        }
      ],
      "source": [
        "#Anexando os tipo Water_1 ... Water_3 em apenas Water.\n",
        "Poke = Poke.replace(['Water_1','Water_2','Water_3'], 'Egg_water')\n",
        "\n",
        "print(\"____________\")\n",
        "display((Poke['Egg_Group_1'].value_counts()))"
      ]
    },
    {
      "cell_type": "code",
      "execution_count": null,
      "metadata": {
        "colab": {
          "base_uri": "https://localhost:8080/"
        },
        "id": "sw_Fex_dTPos",
        "outputId": "97744f75-f19a-4a37-98ab-8773aed4cd0e"
      },
      "outputs": [
        {
          "output_type": "stream",
          "name": "stdout",
          "text": [
            "(721, 41)\n"
          ]
        }
      ],
      "source": [
        "#Gerando um novo dataframe com cada feature sendo um dos tipos de ovos.\n",
        "Poke_Egg = pd.get_dummies(Poke['Egg_Group_1'])\n",
        "\n",
        "#Mudando os nomes para que não haja confusão com os tipos de Pokémon.\n",
        "Poke_Egg = Poke_Egg.rename(columns={'Field':'Egg_Field','Grass':'Egg_Grass','Monster':'Egg_Monster','Undiscovered':'Egg_Undiscovered',\n",
        "                'Mineral':'Egg_Mineral','Flying':'Egg_Flying','Amorphous':'Egg_Amorphous','Human-Like':'Egg_Human-Like',\n",
        "                'Fairy':'Egg_Fairy','Dragon':'Egg_Dragon','Ditto':'Egg_Ditto'})\n",
        "\n",
        "#Anexando o novo dataframe ao dataframe atual.\n",
        "Poke = pd.concat([Poke,Poke_Egg], axis=1)\n",
        "\n",
        "#Removendo a antiga feature que informava o Egg_Group.\n",
        "Poke = Poke.drop(['Egg_Group_1'], axis=1)\n",
        "\n",
        "#Verificando o novo shape.\n",
        "print(Poke.shape)"
      ]
    },
    {
      "cell_type": "markdown",
      "metadata": {
        "id": "K0BqZLQPZYU4"
      },
      "source": [
        "A feature **Color** passará pelo mesmo processo."
      ]
    },
    {
      "cell_type": "code",
      "execution_count": null,
      "metadata": {
        "colab": {
          "base_uri": "https://localhost:8080/",
          "height": 225
        },
        "id": "G85x2XtgZfNc",
        "outputId": "86ae15e5-7612-4b01-a8e3-5e0373a660f9"
      },
      "outputs": [
        {
          "output_type": "stream",
          "name": "stdout",
          "text": [
            "____________\n"
          ]
        },
        {
          "output_type": "display_data",
          "data": {
            "text/plain": [
              "Blue      134\n",
              "Brown     110\n",
              "Green      79\n",
              "Red        75\n",
              "Grey       69\n",
              "Purple     65\n",
              "Yellow     64\n",
              "White      52\n",
              "Pink       41\n",
              "Black      32\n",
              "Name: Color, dtype: int64"
            ]
          },
          "metadata": {}
        }
      ],
      "source": [
        "#Contagem de quantas cores o dataset possui.\n",
        "print(\"____________\")\n",
        "display((Poke['Color'].value_counts()))"
      ]
    },
    {
      "cell_type": "code",
      "execution_count": null,
      "metadata": {
        "colab": {
          "base_uri": "https://localhost:8080/",
          "height": 253
        },
        "id": "gGLaLh0_ZkaX",
        "outputId": "eecce919-149d-4ccd-9f67-d219691dee1d"
      },
      "outputs": [
        {
          "output_type": "stream",
          "name": "stdout",
          "text": [
            "(721, 50)\n"
          ]
        },
        {
          "output_type": "execute_result",
          "data": {
            "text/plain": [
              "   Number  Total  HP  Attack  Defense  Sp_Atk  Sp_Def  Speed  Generation  \\\n",
              "0       1    318  45      49       49      65      65     45           1   \n",
              "1       2    405  60      62       63      80      80     60           1   \n",
              "2       3    525  80      82       83     100     100     80           1   \n",
              "3       4    309  39      52       43      60      50     65           1   \n",
              "4       5    405  58      64       58      80      65     80           1   \n",
              "\n",
              "   isLegendary  ...  Black  Blue  Brown  Green  Grey  Pink Purple  Red  White  \\\n",
              "0        False  ...      0     0      0      1     0     0      0    0      0   \n",
              "1        False  ...      0     0      0      1     0     0      0    0      0   \n",
              "2        False  ...      0     0      0      1     0     0      0    0      0   \n",
              "3        False  ...      0     0      0      0     0     0      0    1      0   \n",
              "4        False  ...      0     0      0      0     0     0      0    1      0   \n",
              "\n",
              "   Yellow  \n",
              "0       0  \n",
              "1       0  \n",
              "2       0  \n",
              "3       0  \n",
              "4       0  \n",
              "\n",
              "[5 rows x 50 columns]"
            ],
            "text/html": [
              "\n",
              "  <div id=\"df-d25abd6a-409d-4a04-a826-1d901166c9e9\">\n",
              "    <div class=\"colab-df-container\">\n",
              "      <div>\n",
              "<style scoped>\n",
              "    .dataframe tbody tr th:only-of-type {\n",
              "        vertical-align: middle;\n",
              "    }\n",
              "\n",
              "    .dataframe tbody tr th {\n",
              "        vertical-align: top;\n",
              "    }\n",
              "\n",
              "    .dataframe thead th {\n",
              "        text-align: right;\n",
              "    }\n",
              "</style>\n",
              "<table border=\"1\" class=\"dataframe\">\n",
              "  <thead>\n",
              "    <tr style=\"text-align: right;\">\n",
              "      <th></th>\n",
              "      <th>Number</th>\n",
              "      <th>Total</th>\n",
              "      <th>HP</th>\n",
              "      <th>Attack</th>\n",
              "      <th>Defense</th>\n",
              "      <th>Sp_Atk</th>\n",
              "      <th>Sp_Def</th>\n",
              "      <th>Speed</th>\n",
              "      <th>Generation</th>\n",
              "      <th>isLegendary</th>\n",
              "      <th>...</th>\n",
              "      <th>Black</th>\n",
              "      <th>Blue</th>\n",
              "      <th>Brown</th>\n",
              "      <th>Green</th>\n",
              "      <th>Grey</th>\n",
              "      <th>Pink</th>\n",
              "      <th>Purple</th>\n",
              "      <th>Red</th>\n",
              "      <th>White</th>\n",
              "      <th>Yellow</th>\n",
              "    </tr>\n",
              "  </thead>\n",
              "  <tbody>\n",
              "    <tr>\n",
              "      <th>0</th>\n",
              "      <td>1</td>\n",
              "      <td>318</td>\n",
              "      <td>45</td>\n",
              "      <td>49</td>\n",
              "      <td>49</td>\n",
              "      <td>65</td>\n",
              "      <td>65</td>\n",
              "      <td>45</td>\n",
              "      <td>1</td>\n",
              "      <td>False</td>\n",
              "      <td>...</td>\n",
              "      <td>0</td>\n",
              "      <td>0</td>\n",
              "      <td>0</td>\n",
              "      <td>1</td>\n",
              "      <td>0</td>\n",
              "      <td>0</td>\n",
              "      <td>0</td>\n",
              "      <td>0</td>\n",
              "      <td>0</td>\n",
              "      <td>0</td>\n",
              "    </tr>\n",
              "    <tr>\n",
              "      <th>1</th>\n",
              "      <td>2</td>\n",
              "      <td>405</td>\n",
              "      <td>60</td>\n",
              "      <td>62</td>\n",
              "      <td>63</td>\n",
              "      <td>80</td>\n",
              "      <td>80</td>\n",
              "      <td>60</td>\n",
              "      <td>1</td>\n",
              "      <td>False</td>\n",
              "      <td>...</td>\n",
              "      <td>0</td>\n",
              "      <td>0</td>\n",
              "      <td>0</td>\n",
              "      <td>1</td>\n",
              "      <td>0</td>\n",
              "      <td>0</td>\n",
              "      <td>0</td>\n",
              "      <td>0</td>\n",
              "      <td>0</td>\n",
              "      <td>0</td>\n",
              "    </tr>\n",
              "    <tr>\n",
              "      <th>2</th>\n",
              "      <td>3</td>\n",
              "      <td>525</td>\n",
              "      <td>80</td>\n",
              "      <td>82</td>\n",
              "      <td>83</td>\n",
              "      <td>100</td>\n",
              "      <td>100</td>\n",
              "      <td>80</td>\n",
              "      <td>1</td>\n",
              "      <td>False</td>\n",
              "      <td>...</td>\n",
              "      <td>0</td>\n",
              "      <td>0</td>\n",
              "      <td>0</td>\n",
              "      <td>1</td>\n",
              "      <td>0</td>\n",
              "      <td>0</td>\n",
              "      <td>0</td>\n",
              "      <td>0</td>\n",
              "      <td>0</td>\n",
              "      <td>0</td>\n",
              "    </tr>\n",
              "    <tr>\n",
              "      <th>3</th>\n",
              "      <td>4</td>\n",
              "      <td>309</td>\n",
              "      <td>39</td>\n",
              "      <td>52</td>\n",
              "      <td>43</td>\n",
              "      <td>60</td>\n",
              "      <td>50</td>\n",
              "      <td>65</td>\n",
              "      <td>1</td>\n",
              "      <td>False</td>\n",
              "      <td>...</td>\n",
              "      <td>0</td>\n",
              "      <td>0</td>\n",
              "      <td>0</td>\n",
              "      <td>0</td>\n",
              "      <td>0</td>\n",
              "      <td>0</td>\n",
              "      <td>0</td>\n",
              "      <td>1</td>\n",
              "      <td>0</td>\n",
              "      <td>0</td>\n",
              "    </tr>\n",
              "    <tr>\n",
              "      <th>4</th>\n",
              "      <td>5</td>\n",
              "      <td>405</td>\n",
              "      <td>58</td>\n",
              "      <td>64</td>\n",
              "      <td>58</td>\n",
              "      <td>80</td>\n",
              "      <td>65</td>\n",
              "      <td>80</td>\n",
              "      <td>1</td>\n",
              "      <td>False</td>\n",
              "      <td>...</td>\n",
              "      <td>0</td>\n",
              "      <td>0</td>\n",
              "      <td>0</td>\n",
              "      <td>0</td>\n",
              "      <td>0</td>\n",
              "      <td>0</td>\n",
              "      <td>0</td>\n",
              "      <td>1</td>\n",
              "      <td>0</td>\n",
              "      <td>0</td>\n",
              "    </tr>\n",
              "  </tbody>\n",
              "</table>\n",
              "<p>5 rows × 50 columns</p>\n",
              "</div>\n",
              "      <button class=\"colab-df-convert\" onclick=\"convertToInteractive('df-d25abd6a-409d-4a04-a826-1d901166c9e9')\"\n",
              "              title=\"Convert this dataframe to an interactive table.\"\n",
              "              style=\"display:none;\">\n",
              "        \n",
              "  <svg xmlns=\"http://www.w3.org/2000/svg\" height=\"24px\"viewBox=\"0 0 24 24\"\n",
              "       width=\"24px\">\n",
              "    <path d=\"M0 0h24v24H0V0z\" fill=\"none\"/>\n",
              "    <path d=\"M18.56 5.44l.94 2.06.94-2.06 2.06-.94-2.06-.94-.94-2.06-.94 2.06-2.06.94zm-11 1L8.5 8.5l.94-2.06 2.06-.94-2.06-.94L8.5 2.5l-.94 2.06-2.06.94zm10 10l.94 2.06.94-2.06 2.06-.94-2.06-.94-.94-2.06-.94 2.06-2.06.94z\"/><path d=\"M17.41 7.96l-1.37-1.37c-.4-.4-.92-.59-1.43-.59-.52 0-1.04.2-1.43.59L10.3 9.45l-7.72 7.72c-.78.78-.78 2.05 0 2.83L4 21.41c.39.39.9.59 1.41.59.51 0 1.02-.2 1.41-.59l7.78-7.78 2.81-2.81c.8-.78.8-2.07 0-2.86zM5.41 20L4 18.59l7.72-7.72 1.47 1.35L5.41 20z\"/>\n",
              "  </svg>\n",
              "      </button>\n",
              "      \n",
              "  <style>\n",
              "    .colab-df-container {\n",
              "      display:flex;\n",
              "      flex-wrap:wrap;\n",
              "      gap: 12px;\n",
              "    }\n",
              "\n",
              "    .colab-df-convert {\n",
              "      background-color: #E8F0FE;\n",
              "      border: none;\n",
              "      border-radius: 50%;\n",
              "      cursor: pointer;\n",
              "      display: none;\n",
              "      fill: #1967D2;\n",
              "      height: 32px;\n",
              "      padding: 0 0 0 0;\n",
              "      width: 32px;\n",
              "    }\n",
              "\n",
              "    .colab-df-convert:hover {\n",
              "      background-color: #E2EBFA;\n",
              "      box-shadow: 0px 1px 2px rgba(60, 64, 67, 0.3), 0px 1px 3px 1px rgba(60, 64, 67, 0.15);\n",
              "      fill: #174EA6;\n",
              "    }\n",
              "\n",
              "    [theme=dark] .colab-df-convert {\n",
              "      background-color: #3B4455;\n",
              "      fill: #D2E3FC;\n",
              "    }\n",
              "\n",
              "    [theme=dark] .colab-df-convert:hover {\n",
              "      background-color: #434B5C;\n",
              "      box-shadow: 0px 1px 3px 1px rgba(0, 0, 0, 0.15);\n",
              "      filter: drop-shadow(0px 1px 2px rgba(0, 0, 0, 0.3));\n",
              "      fill: #FFFFFF;\n",
              "    }\n",
              "  </style>\n",
              "\n",
              "      <script>\n",
              "        const buttonEl =\n",
              "          document.querySelector('#df-d25abd6a-409d-4a04-a826-1d901166c9e9 button.colab-df-convert');\n",
              "        buttonEl.style.display =\n",
              "          google.colab.kernel.accessAllowed ? 'block' : 'none';\n",
              "\n",
              "        async function convertToInteractive(key) {\n",
              "          const element = document.querySelector('#df-d25abd6a-409d-4a04-a826-1d901166c9e9');\n",
              "          const dataTable =\n",
              "            await google.colab.kernel.invokeFunction('convertToInteractive',\n",
              "                                                     [key], {});\n",
              "          if (!dataTable) return;\n",
              "\n",
              "          const docLinkHtml = 'Like what you see? Visit the ' +\n",
              "            '<a target=\"_blank\" href=https://colab.research.google.com/notebooks/data_table.ipynb>data table notebook</a>'\n",
              "            + ' to learn more about interactive tables.';\n",
              "          element.innerHTML = '';\n",
              "          dataTable['output_type'] = 'display_data';\n",
              "          await google.colab.output.renderOutput(dataTable, element);\n",
              "          const docLink = document.createElement('div');\n",
              "          docLink.innerHTML = docLinkHtml;\n",
              "          element.appendChild(docLink);\n",
              "        }\n",
              "      </script>\n",
              "    </div>\n",
              "  </div>\n",
              "  "
            ]
          },
          "metadata": {},
          "execution_count": 17
        }
      ],
      "source": [
        "#Gerando um novo dataframe com cada feature sendo uma das cores.\n",
        "Poke_Color = pd.get_dummies(Poke['Color'])\n",
        "\n",
        "#Anexando o novo dataframe ao dataframe atual.\n",
        "Poke = pd.concat([Poke,Poke_Color], axis=1)\n",
        "\n",
        "#Removendo a antiga feature que informava o Color.\n",
        "Poke = Poke.drop(['Color'], axis=1)\n",
        "\n",
        "#Verificando o novo shape.\n",
        "print(Poke.shape)\n",
        "\n",
        "#Verificando a \"cara\" dos dados.\n",
        "Poke.head()"
      ]
    },
    {
      "cell_type": "markdown",
      "metadata": {
        "id": "nr4fGz_4aZDT"
      },
      "source": [
        "Por fim, o **Body_Style**."
      ]
    },
    {
      "cell_type": "code",
      "execution_count": null,
      "metadata": {
        "colab": {
          "base_uri": "https://localhost:8080/",
          "height": 295
        },
        "id": "OYMWEHbfafAp",
        "outputId": "3cf50b99-b7ce-4b59-9b14-178e46692ded"
      },
      "outputs": [
        {
          "output_type": "stream",
          "name": "stdout",
          "text": [
            "____________\n"
          ]
        },
        {
          "output_type": "display_data",
          "data": {
            "text/plain": [
              "bipedal_tailed      158\n",
              "quadruped           135\n",
              "bipedal_tailless    109\n",
              "two_wings            63\n",
              "head_arms            39\n",
              "head_only            34\n",
              "with_fins            31\n",
              "insectoid            30\n",
              "head_base            30\n",
              "serpentine_body      29\n",
              "four_wings           18\n",
              "head_legs            17\n",
              "multiple_bodies      15\n",
              "several_limbs        13\n",
              "Name: Body_Style, dtype: int64"
            ]
          },
          "metadata": {}
        }
      ],
      "source": [
        "#Contagem de quantas entradas tem em cada Body_Style.\n",
        "print(\"____________\")\n",
        "display((Poke['Body_Style'].value_counts()))\n",
        "\n",
        "#Mesclando os body styles parecidos.\n",
        "Poke = Poke.replace(['bipedal_tailed','bipedal_tailless'], 'bipedal')\n",
        "Poke = Poke.replace(['head_arms','head_only','head_base','head_legs'], 'head')\n",
        "Poke = Poke.replace(['two_wings','four_wings'], 'hasWings')\n",
        "\n"
      ]
    },
    {
      "cell_type": "code",
      "execution_count": null,
      "metadata": {
        "colab": {
          "base_uri": "https://localhost:8080/",
          "height": 317
        },
        "id": "DmVr1woPbnYv",
        "outputId": "29fcaac5-65a1-4e4d-c37a-5ded96856612"
      },
      "outputs": [
        {
          "output_type": "stream",
          "name": "stdout",
          "text": [
            "(721, 58)\n"
          ]
        },
        {
          "output_type": "execute_result",
          "data": {
            "text/plain": [
              "   Number  Total  HP  Attack  Defense  Sp_Atk  Sp_Def  Speed  Generation  \\\n",
              "0       1    318  45      49       49      65      65     45           1   \n",
              "1       2    405  60      62       63      80      80     60           1   \n",
              "2       3    525  80      82       83     100     100     80           1   \n",
              "3       4    309  39      52       43      60      50     65           1   \n",
              "4       5    405  58      64       58      80      65     80           1   \n",
              "\n",
              "   isLegendary  ...  Yellow  bipedal  hasWings  head  insectoid  \\\n",
              "0        False  ...       0        0         0     0          0   \n",
              "1        False  ...       0        0         0     0          0   \n",
              "2        False  ...       0        0         0     0          0   \n",
              "3        False  ...       0        1         0     0          0   \n",
              "4        False  ...       0        1         0     0          0   \n",
              "\n",
              "   multiple_bodies  quadruped  serpentine_body  several_limbs  with_fins  \n",
              "0                0          1                0              0          0  \n",
              "1                0          1                0              0          0  \n",
              "2                0          1                0              0          0  \n",
              "3                0          0                0              0          0  \n",
              "4                0          0                0              0          0  \n",
              "\n",
              "[5 rows x 58 columns]"
            ],
            "text/html": [
              "\n",
              "  <div id=\"df-a3b38b88-6417-4049-9ff6-85b934fe5cbd\">\n",
              "    <div class=\"colab-df-container\">\n",
              "      <div>\n",
              "<style scoped>\n",
              "    .dataframe tbody tr th:only-of-type {\n",
              "        vertical-align: middle;\n",
              "    }\n",
              "\n",
              "    .dataframe tbody tr th {\n",
              "        vertical-align: top;\n",
              "    }\n",
              "\n",
              "    .dataframe thead th {\n",
              "        text-align: right;\n",
              "    }\n",
              "</style>\n",
              "<table border=\"1\" class=\"dataframe\">\n",
              "  <thead>\n",
              "    <tr style=\"text-align: right;\">\n",
              "      <th></th>\n",
              "      <th>Number</th>\n",
              "      <th>Total</th>\n",
              "      <th>HP</th>\n",
              "      <th>Attack</th>\n",
              "      <th>Defense</th>\n",
              "      <th>Sp_Atk</th>\n",
              "      <th>Sp_Def</th>\n",
              "      <th>Speed</th>\n",
              "      <th>Generation</th>\n",
              "      <th>isLegendary</th>\n",
              "      <th>...</th>\n",
              "      <th>Yellow</th>\n",
              "      <th>bipedal</th>\n",
              "      <th>hasWings</th>\n",
              "      <th>head</th>\n",
              "      <th>insectoid</th>\n",
              "      <th>multiple_bodies</th>\n",
              "      <th>quadruped</th>\n",
              "      <th>serpentine_body</th>\n",
              "      <th>several_limbs</th>\n",
              "      <th>with_fins</th>\n",
              "    </tr>\n",
              "  </thead>\n",
              "  <tbody>\n",
              "    <tr>\n",
              "      <th>0</th>\n",
              "      <td>1</td>\n",
              "      <td>318</td>\n",
              "      <td>45</td>\n",
              "      <td>49</td>\n",
              "      <td>49</td>\n",
              "      <td>65</td>\n",
              "      <td>65</td>\n",
              "      <td>45</td>\n",
              "      <td>1</td>\n",
              "      <td>False</td>\n",
              "      <td>...</td>\n",
              "      <td>0</td>\n",
              "      <td>0</td>\n",
              "      <td>0</td>\n",
              "      <td>0</td>\n",
              "      <td>0</td>\n",
              "      <td>0</td>\n",
              "      <td>1</td>\n",
              "      <td>0</td>\n",
              "      <td>0</td>\n",
              "      <td>0</td>\n",
              "    </tr>\n",
              "    <tr>\n",
              "      <th>1</th>\n",
              "      <td>2</td>\n",
              "      <td>405</td>\n",
              "      <td>60</td>\n",
              "      <td>62</td>\n",
              "      <td>63</td>\n",
              "      <td>80</td>\n",
              "      <td>80</td>\n",
              "      <td>60</td>\n",
              "      <td>1</td>\n",
              "      <td>False</td>\n",
              "      <td>...</td>\n",
              "      <td>0</td>\n",
              "      <td>0</td>\n",
              "      <td>0</td>\n",
              "      <td>0</td>\n",
              "      <td>0</td>\n",
              "      <td>0</td>\n",
              "      <td>1</td>\n",
              "      <td>0</td>\n",
              "      <td>0</td>\n",
              "      <td>0</td>\n",
              "    </tr>\n",
              "    <tr>\n",
              "      <th>2</th>\n",
              "      <td>3</td>\n",
              "      <td>525</td>\n",
              "      <td>80</td>\n",
              "      <td>82</td>\n",
              "      <td>83</td>\n",
              "      <td>100</td>\n",
              "      <td>100</td>\n",
              "      <td>80</td>\n",
              "      <td>1</td>\n",
              "      <td>False</td>\n",
              "      <td>...</td>\n",
              "      <td>0</td>\n",
              "      <td>0</td>\n",
              "      <td>0</td>\n",
              "      <td>0</td>\n",
              "      <td>0</td>\n",
              "      <td>0</td>\n",
              "      <td>1</td>\n",
              "      <td>0</td>\n",
              "      <td>0</td>\n",
              "      <td>0</td>\n",
              "    </tr>\n",
              "    <tr>\n",
              "      <th>3</th>\n",
              "      <td>4</td>\n",
              "      <td>309</td>\n",
              "      <td>39</td>\n",
              "      <td>52</td>\n",
              "      <td>43</td>\n",
              "      <td>60</td>\n",
              "      <td>50</td>\n",
              "      <td>65</td>\n",
              "      <td>1</td>\n",
              "      <td>False</td>\n",
              "      <td>...</td>\n",
              "      <td>0</td>\n",
              "      <td>1</td>\n",
              "      <td>0</td>\n",
              "      <td>0</td>\n",
              "      <td>0</td>\n",
              "      <td>0</td>\n",
              "      <td>0</td>\n",
              "      <td>0</td>\n",
              "      <td>0</td>\n",
              "      <td>0</td>\n",
              "    </tr>\n",
              "    <tr>\n",
              "      <th>4</th>\n",
              "      <td>5</td>\n",
              "      <td>405</td>\n",
              "      <td>58</td>\n",
              "      <td>64</td>\n",
              "      <td>58</td>\n",
              "      <td>80</td>\n",
              "      <td>65</td>\n",
              "      <td>80</td>\n",
              "      <td>1</td>\n",
              "      <td>False</td>\n",
              "      <td>...</td>\n",
              "      <td>0</td>\n",
              "      <td>1</td>\n",
              "      <td>0</td>\n",
              "      <td>0</td>\n",
              "      <td>0</td>\n",
              "      <td>0</td>\n",
              "      <td>0</td>\n",
              "      <td>0</td>\n",
              "      <td>0</td>\n",
              "      <td>0</td>\n",
              "    </tr>\n",
              "  </tbody>\n",
              "</table>\n",
              "<p>5 rows × 58 columns</p>\n",
              "</div>\n",
              "      <button class=\"colab-df-convert\" onclick=\"convertToInteractive('df-a3b38b88-6417-4049-9ff6-85b934fe5cbd')\"\n",
              "              title=\"Convert this dataframe to an interactive table.\"\n",
              "              style=\"display:none;\">\n",
              "        \n",
              "  <svg xmlns=\"http://www.w3.org/2000/svg\" height=\"24px\"viewBox=\"0 0 24 24\"\n",
              "       width=\"24px\">\n",
              "    <path d=\"M0 0h24v24H0V0z\" fill=\"none\"/>\n",
              "    <path d=\"M18.56 5.44l.94 2.06.94-2.06 2.06-.94-2.06-.94-.94-2.06-.94 2.06-2.06.94zm-11 1L8.5 8.5l.94-2.06 2.06-.94-2.06-.94L8.5 2.5l-.94 2.06-2.06.94zm10 10l.94 2.06.94-2.06 2.06-.94-2.06-.94-.94-2.06-.94 2.06-2.06.94z\"/><path d=\"M17.41 7.96l-1.37-1.37c-.4-.4-.92-.59-1.43-.59-.52 0-1.04.2-1.43.59L10.3 9.45l-7.72 7.72c-.78.78-.78 2.05 0 2.83L4 21.41c.39.39.9.59 1.41.59.51 0 1.02-.2 1.41-.59l7.78-7.78 2.81-2.81c.8-.78.8-2.07 0-2.86zM5.41 20L4 18.59l7.72-7.72 1.47 1.35L5.41 20z\"/>\n",
              "  </svg>\n",
              "      </button>\n",
              "      \n",
              "  <style>\n",
              "    .colab-df-container {\n",
              "      display:flex;\n",
              "      flex-wrap:wrap;\n",
              "      gap: 12px;\n",
              "    }\n",
              "\n",
              "    .colab-df-convert {\n",
              "      background-color: #E8F0FE;\n",
              "      border: none;\n",
              "      border-radius: 50%;\n",
              "      cursor: pointer;\n",
              "      display: none;\n",
              "      fill: #1967D2;\n",
              "      height: 32px;\n",
              "      padding: 0 0 0 0;\n",
              "      width: 32px;\n",
              "    }\n",
              "\n",
              "    .colab-df-convert:hover {\n",
              "      background-color: #E2EBFA;\n",
              "      box-shadow: 0px 1px 2px rgba(60, 64, 67, 0.3), 0px 1px 3px 1px rgba(60, 64, 67, 0.15);\n",
              "      fill: #174EA6;\n",
              "    }\n",
              "\n",
              "    [theme=dark] .colab-df-convert {\n",
              "      background-color: #3B4455;\n",
              "      fill: #D2E3FC;\n",
              "    }\n",
              "\n",
              "    [theme=dark] .colab-df-convert:hover {\n",
              "      background-color: #434B5C;\n",
              "      box-shadow: 0px 1px 3px 1px rgba(0, 0, 0, 0.15);\n",
              "      filter: drop-shadow(0px 1px 2px rgba(0, 0, 0, 0.3));\n",
              "      fill: #FFFFFF;\n",
              "    }\n",
              "  </style>\n",
              "\n",
              "      <script>\n",
              "        const buttonEl =\n",
              "          document.querySelector('#df-a3b38b88-6417-4049-9ff6-85b934fe5cbd button.colab-df-convert');\n",
              "        buttonEl.style.display =\n",
              "          google.colab.kernel.accessAllowed ? 'block' : 'none';\n",
              "\n",
              "        async function convertToInteractive(key) {\n",
              "          const element = document.querySelector('#df-a3b38b88-6417-4049-9ff6-85b934fe5cbd');\n",
              "          const dataTable =\n",
              "            await google.colab.kernel.invokeFunction('convertToInteractive',\n",
              "                                                     [key], {});\n",
              "          if (!dataTable) return;\n",
              "\n",
              "          const docLinkHtml = 'Like what you see? Visit the ' +\n",
              "            '<a target=\"_blank\" href=https://colab.research.google.com/notebooks/data_table.ipynb>data table notebook</a>'\n",
              "            + ' to learn more about interactive tables.';\n",
              "          element.innerHTML = '';\n",
              "          dataTable['output_type'] = 'display_data';\n",
              "          await google.colab.output.renderOutput(dataTable, element);\n",
              "          const docLink = document.createElement('div');\n",
              "          docLink.innerHTML = docLinkHtml;\n",
              "          element.appendChild(docLink);\n",
              "        }\n",
              "      </script>\n",
              "    </div>\n",
              "  </div>\n",
              "  "
            ]
          },
          "metadata": {},
          "execution_count": 19
        }
      ],
      "source": [
        "#Gerando um novo dataframe com cada feature sendo um dos tipos corporais.\n",
        "Poke_Body = pd.get_dummies(Poke['Body_Style'])\n",
        "\n",
        "#Anexando o novo dataframe ao dataframe atual.\n",
        "Poke = pd.concat([Poke,Poke_Body], axis=1)\n",
        "\n",
        "#Removendo a antiga feature que informava o Egg_Group.\n",
        "Poke = Poke.drop(['Body_Style'], axis=1)\n",
        "\n",
        "#Verificando o novo shape.\n",
        "print(Poke.shape)\n",
        "\n",
        "#Verificando a \"cara\" dos dados.\n",
        "Poke.head()"
      ]
    },
    {
      "cell_type": "markdown",
      "metadata": {
        "id": "0XdnV4tNeZXt"
      },
      "source": [
        "Após este processamento, agora é possível trabalhar com os dados formados, uma vez que todos são de tipos numéricos ou booleanos, como pode ser verificado na célula abaixo."
      ]
    },
    {
      "cell_type": "code",
      "execution_count": null,
      "metadata": {
        "colab": {
          "base_uri": "https://localhost:8080/"
        },
        "id": "TnRNJdnSehFx",
        "outputId": "c7bdbba4-2e33-4e25-d5f5-8b507eae64e6"
      },
      "outputs": [
        {
          "output_type": "stream",
          "name": "stdout",
          "text": [
            "<class 'pandas.core.frame.DataFrame'>\n",
            "RangeIndex: 721 entries, 0 to 720\n",
            "Data columns (total 58 columns):\n",
            " #   Column            Non-Null Count  Dtype  \n",
            "---  ------            --------------  -----  \n",
            " 0   Number            721 non-null    int64  \n",
            " 1   Total             721 non-null    int64  \n",
            " 2   HP                721 non-null    int64  \n",
            " 3   Attack            721 non-null    int64  \n",
            " 4   Defense           721 non-null    int64  \n",
            " 5   Sp_Atk            721 non-null    int64  \n",
            " 6   Sp_Def            721 non-null    int64  \n",
            " 7   Speed             721 non-null    int64  \n",
            " 8   Generation        721 non-null    int64  \n",
            " 9   isLegendary       721 non-null    bool   \n",
            " 10  hasGender         721 non-null    bool   \n",
            " 11  Pr_Male           721 non-null    float64\n",
            " 12  hasMegaEvolution  721 non-null    bool   \n",
            " 13  Height_m          721 non-null    float64\n",
            " 14  Weight_kg         721 non-null    float64\n",
            " 15  Catch_Rate        721 non-null    int64  \n",
            " 16  Dark              721 non-null    uint8  \n",
            " 17  Dragon            721 non-null    uint8  \n",
            " 18  Electric          721 non-null    uint8  \n",
            " 19  Fairy             721 non-null    uint8  \n",
            " 20  Fighting          721 non-null    uint8  \n",
            " 21  Fire              721 non-null    uint8  \n",
            " 22  Flying            721 non-null    uint8  \n",
            " 23  Grass             721 non-null    uint8  \n",
            " 24  Normal            721 non-null    uint8  \n",
            " 25  Rock              721 non-null    uint8  \n",
            " 26  Water             721 non-null    uint8  \n",
            " 27  Egg_Amorphous     721 non-null    uint8  \n",
            " 28  Egg_Ditto         721 non-null    uint8  \n",
            " 29  Egg_Dragon        721 non-null    uint8  \n",
            " 30  Egg_water         721 non-null    uint8  \n",
            " 31  Egg_Fairy         721 non-null    uint8  \n",
            " 32  Egg_Field         721 non-null    uint8  \n",
            " 33  Egg_Flying        721 non-null    uint8  \n",
            " 34  Egg_Grass         721 non-null    uint8  \n",
            " 35  Egg_Human-Like    721 non-null    uint8  \n",
            " 36  Egg_Mineral       721 non-null    uint8  \n",
            " 37  Egg_Monster       721 non-null    uint8  \n",
            " 38  Egg_Undiscovered  721 non-null    uint8  \n",
            " 39  Black             721 non-null    uint8  \n",
            " 40  Blue              721 non-null    uint8  \n",
            " 41  Brown             721 non-null    uint8  \n",
            " 42  Green             721 non-null    uint8  \n",
            " 43  Grey              721 non-null    uint8  \n",
            " 44  Pink              721 non-null    uint8  \n",
            " 45  Purple            721 non-null    uint8  \n",
            " 46  Red               721 non-null    uint8  \n",
            " 47  White             721 non-null    uint8  \n",
            " 48  Yellow            721 non-null    uint8  \n",
            " 49  bipedal           721 non-null    uint8  \n",
            " 50  hasWings          721 non-null    uint8  \n",
            " 51  head              721 non-null    uint8  \n",
            " 52  insectoid         721 non-null    uint8  \n",
            " 53  multiple_bodies   721 non-null    uint8  \n",
            " 54  quadruped         721 non-null    uint8  \n",
            " 55  serpentine_body   721 non-null    uint8  \n",
            " 56  several_limbs     721 non-null    uint8  \n",
            " 57  with_fins         721 non-null    uint8  \n",
            "dtypes: bool(3), float64(3), int64(10), uint8(42)\n",
            "memory usage: 105.0 KB\n"
          ]
        }
      ],
      "source": [
        "Poke.info()"
      ]
    },
    {
      "cell_type": "code",
      "execution_count": null,
      "metadata": {
        "colab": {
          "base_uri": "https://localhost:8080/",
          "height": 949
        },
        "id": "LeW1b1Zafi3a",
        "outputId": "601d61d2-c8d1-4cb5-ec69-77fc48a5967a"
      },
      "outputs": [
        {
          "output_type": "display_data",
          "data": {
            "text/plain": [
              "<Figure size 1080x1080 with 2 Axes>"
            ],
            "image/png": "[encoded data removed]"
          },
          "metadata": {
            "needs_background": "light"
          }
        }
      ],
      "source": [
        "#Imprimindo a matriz que mostra a correlação entre as features.\n",
        "plt.figure(figsize=(15,15))\n",
        "dataplot=sns.heatmap(Poke.corr())"
      ]
    },
    {
      "cell_type": "markdown",
      "metadata": {
        "id": "bIQhKMo2f-e5"
      },
      "source": [
        "Neste ponto, fica difícil identificar com clareza quais são os dados mais correlacionados com a feature \"isLegendary\" com apenas a imagem. Então será realizado o mesmo procedimento de extrair somente as features correlacionadas com a feature isLegendary."
      ]
    },
    {
      "cell_type": "code",
      "execution_count": null,
      "metadata": {
        "colab": {
          "base_uri": "https://localhost:8080/",
          "height": 206
        },
        "id": "dEfaAQ9pgRFE",
        "outputId": "8288a390-7be4-467a-bb1b-738a0ab73e3b"
      },
      "outputs": [
        {
          "output_type": "execute_result",
          "data": {
            "text/plain": [
              "                  isLegendary\n",
              "isLegendary          1.000000\n",
              "Egg_Undiscovered     0.777773\n",
              "hasGender            0.644714\n",
              "Total                0.481837\n",
              "Weight_kg            0.425219"
            ],
            "text/html": [
              "\n",
              "  <div id=\"df-b2831cfd-6f3a-4ba9-bb02-7fd37d10799e\">\n",
              "    <div class=\"colab-df-container\">\n",
              "      <div>\n",
              "<style scoped>\n",
              "    .dataframe tbody tr th:only-of-type {\n",
              "        vertical-align: middle;\n",
              "    }\n",
              "\n",
              "    .dataframe tbody tr th {\n",
              "        vertical-align: top;\n",
              "    }\n",
              "\n",
              "    .dataframe thead th {\n",
              "        text-align: right;\n",
              "    }\n",
              "</style>\n",
              "<table border=\"1\" class=\"dataframe\">\n",
              "  <thead>\n",
              "    <tr style=\"text-align: right;\">\n",
              "      <th></th>\n",
              "      <th>isLegendary</th>\n",
              "    </tr>\n",
              "  </thead>\n",
              "  <tbody>\n",
              "    <tr>\n",
              "      <th>isLegendary</th>\n",
              "      <td>1.000000</td>\n",
              "    </tr>\n",
              "    <tr>\n",
              "      <th>Egg_Undiscovered</th>\n",
              "      <td>0.777773</td>\n",
              "    </tr>\n",
              "    <tr>\n",
              "      <th>hasGender</th>\n",
              "      <td>0.644714</td>\n",
              "    </tr>\n",
              "    <tr>\n",
              "      <th>Total</th>\n",
              "      <td>0.481837</td>\n",
              "    </tr>\n",
              "    <tr>\n",
              "      <th>Weight_kg</th>\n",
              "      <td>0.425219</td>\n",
              "    </tr>\n",
              "  </tbody>\n",
              "</table>\n",
              "</div>\n",
              "      <button class=\"colab-df-convert\" onclick=\"convertToInteractive('df-b2831cfd-6f3a-4ba9-bb02-7fd37d10799e')\"\n",
              "              title=\"Convert this dataframe to an interactive table.\"\n",
              "              style=\"display:none;\">\n",
              "        \n",
              "  <svg xmlns=\"http://www.w3.org/2000/svg\" height=\"24px\"viewBox=\"0 0 24 24\"\n",
              "       width=\"24px\">\n",
              "    <path d=\"M0 0h24v24H0V0z\" fill=\"none\"/>\n",
              "    <path d=\"M18.56 5.44l.94 2.06.94-2.06 2.06-.94-2.06-.94-.94-2.06-.94 2.06-2.06.94zm-11 1L8.5 8.5l.94-2.06 2.06-.94-2.06-.94L8.5 2.5l-.94 2.06-2.06.94zm10 10l.94 2.06.94-2.06 2.06-.94-2.06-.94-.94-2.06-.94 2.06-2.06.94z\"/><path d=\"M17.41 7.96l-1.37-1.37c-.4-.4-.92-.59-1.43-.59-.52 0-1.04.2-1.43.59L10.3 9.45l-7.72 7.72c-.78.78-.78 2.05 0 2.83L4 21.41c.39.39.9.59 1.41.59.51 0 1.02-.2 1.41-.59l7.78-7.78 2.81-2.81c.8-.78.8-2.07 0-2.86zM5.41 20L4 18.59l7.72-7.72 1.47 1.35L5.41 20z\"/>\n",
              "  </svg>\n",
              "      </button>\n",
              "      \n",
              "  <style>\n",
              "    .colab-df-container {\n",
              "      display:flex;\n",
              "      flex-wrap:wrap;\n",
              "      gap: 12px;\n",
              "    }\n",
              "\n",
              "    .colab-df-convert {\n",
              "      background-color: #E8F0FE;\n",
              "      border: none;\n",
              "      border-radius: 50%;\n",
              "      cursor: pointer;\n",
              "      display: none;\n",
              "      fill: #1967D2;\n",
              "      height: 32px;\n",
              "      padding: 0 0 0 0;\n",
              "      width: 32px;\n",
              "    }\n",
              "\n",
              "    .colab-df-convert:hover {\n",
              "      background-color: #E2EBFA;\n",
              "      box-shadow: 0px 1px 2px rgba(60, 64, 67, 0.3), 0px 1px 3px 1px rgba(60, 64, 67, 0.15);\n",
              "      fill: #174EA6;\n",
              "    }\n",
              "\n",
              "    [theme=dark] .colab-df-convert {\n",
              "      background-color: #3B4455;\n",
              "      fill: #D2E3FC;\n",
              "    }\n",
              "\n",
              "    [theme=dark] .colab-df-convert:hover {\n",
              "      background-color: #434B5C;\n",
              "      box-shadow: 0px 1px 3px 1px rgba(0, 0, 0, 0.15);\n",
              "      filter: drop-shadow(0px 1px 2px rgba(0, 0, 0, 0.3));\n",
              "      fill: #FFFFFF;\n",
              "    }\n",
              "  </style>\n",
              "\n",
              "      <script>\n",
              "        const buttonEl =\n",
              "          document.querySelector('#df-b2831cfd-6f3a-4ba9-bb02-7fd37d10799e button.colab-df-convert');\n",
              "        buttonEl.style.display =\n",
              "          google.colab.kernel.accessAllowed ? 'block' : 'none';\n",
              "\n",
              "        async function convertToInteractive(key) {\n",
              "          const element = document.querySelector('#df-b2831cfd-6f3a-4ba9-bb02-7fd37d10799e');\n",
              "          const dataTable =\n",
              "            await google.colab.kernel.invokeFunction('convertToInteractive',\n",
              "                                                     [key], {});\n",
              "          if (!dataTable) return;\n",
              "\n",
              "          const docLinkHtml = 'Like what you see? Visit the ' +\n",
              "            '<a target=\"_blank\" href=https://colab.research.google.com/notebooks/data_table.ipynb>data table notebook</a>'\n",
              "            + ' to learn more about interactive tables.';\n",
              "          element.innerHTML = '';\n",
              "          dataTable['output_type'] = 'display_data';\n",
              "          await google.colab.output.renderOutput(dataTable, element);\n",
              "          const docLink = document.createElement('div');\n",
              "          docLink.innerHTML = docLinkHtml;\n",
              "          element.appendChild(docLink);\n",
              "        }\n",
              "      </script>\n",
              "    </div>\n",
              "  </div>\n",
              "  "
            ]
          },
          "metadata": {},
          "execution_count": 22
        }
      ],
      "source": [
        "corrfinal= Poke.corr()\n",
        "corrfinal=(corrfinal[['isLegendary']]).abs().sort_values(by=\"isLegendary\", ascending=False)\n",
        "corrfinal.head()"
      ]
    },
    {
      "cell_type": "markdown",
      "metadata": {
        "id": "AjyRNj8gkUE8"
      },
      "source": [
        "A partir da informação acima, foi possível descobrir uma feature ainda mais importante que \"hasGender\", \"Egg_Undiscovered\", o que é esperado, pois não é possível chocar ovos de lendários, com apenas duas exceções. "
      ]
    },
    {
      "cell_type": "markdown",
      "source": [
        "___"
      ],
      "metadata": {
        "id": "xVvOuubLlxtI"
      }
    },
    {
      "cell_type": "markdown",
      "source": [
        "Separando o \"target\" das outras features."
      ],
      "metadata": {
        "id": "xzNGKLECEYCW"
      }
    },
    {
      "cell_type": "code",
      "source": [
        "target = Poke['isLegendary'].copy()\n",
        "\n",
        "#Removendo o Target dos dados.\n",
        "data = Poke.drop(['isLegendary'], axis=1)\n",
        "\n",
        "target.head()"
      ],
      "metadata": {
        "colab": {
          "base_uri": "https://localhost:8080/"
        },
        "id": "SZvpdE5DEXfO",
        "outputId": "9a68c3c1-4c55-499e-f8ed-0a14b43c7cd4"
      },
      "execution_count": null,
      "outputs": [
        {
          "output_type": "execute_result",
          "data": {
            "text/plain": [
              "0    False\n",
              "1    False\n",
              "2    False\n",
              "3    False\n",
              "4    False\n",
              "Name: isLegendary, dtype: bool"
            ]
          },
          "metadata": {},
          "execution_count": 23
        }
      ]
    },
    {
      "cell_type": "markdown",
      "metadata": {
        "id": "yEzwY5qhMTgm"
      },
      "source": [
        "# CLASSIFICAÇÃO SEM PCA"
      ]
    },
    {
      "cell_type": "code",
      "execution_count": null,
      "metadata": {
        "id": "RQYIX-OByEpo"
      },
      "outputs": [],
      "source": [
        "#Dividindo os dados de treino e teste.\n",
        "Xtrain, Xtest, ytrain, ytest = tts(data, target , test_size=0.35, shuffle=True)"
      ]
    },
    {
      "cell_type": "code",
      "execution_count": null,
      "metadata": {
        "colab": {
          "base_uri": "https://localhost:8080/"
        },
        "id": "9dwnkTMbzntX",
        "outputId": "36930562-7489-45da-b5ca-1e10246d99e5"
      },
      "outputs": [
        {
          "output_type": "stream",
          "name": "stdout",
          "text": [
            "(468, 57)\n",
            "(468,)\n",
            "(253, 57)\n",
            "(253,)\n"
          ]
        }
      ],
      "source": [
        "#Verificando shapes.\n",
        "print(Xtrain.shape)\n",
        "print(ytrain.shape)\n",
        "print(Xtest.shape)\n",
        "print(ytest.shape)"
      ]
    },
    {
      "cell_type": "code",
      "execution_count": null,
      "metadata": {
        "id": "5N0h1y7v3Adv"
      },
      "outputs": [],
      "source": [
        "#Treinando o modelo.\n",
        "model = dt()\n",
        "              \n",
        "model.fit(Xtrain,ytrain)\n",
        "\n",
        "#Testando o modelo com o conjunto de teste.\n",
        "y_pred = model.predict(Xtest)"
      ]
    },
    {
      "cell_type": "markdown",
      "source": [
        "#MÉTRICAS DE AVALIAÇÃO SEM PCA"
      ],
      "metadata": {
        "id": "DKBAEZ9X5Yzs"
      }
    },
    {
      "cell_type": "markdown",
      "source": [
        "Aplicando o Cross Validation para estimar a acurácia e precisão do modelo.\n"
      ],
      "metadata": {
        "id": "05SgNVS4iNHJ"
      }
    },
    {
      "cell_type": "code",
      "source": [
        "#Extraindo a Precisão média a partir de validação cruzada.\n",
        "scores_prc = cross_val_score(model,data,target, cv=5, scoring='precision')\n",
        "#Extraindo a Acurácia média a partir de validação cruzada.\n",
        "scores_acc = cross_val_score(model,data,target, cv=5, scoring='accuracy')"
      ],
      "metadata": {
        "id": "ZJ16MuWpiMr-"
      },
      "execution_count": null,
      "outputs": []
    },
    {
      "cell_type": "code",
      "source": [
        "print(\"Precisões medidas:\", scores_prc)\n",
        "print(\"Acurácias medidas:\", scores_acc)"
      ],
      "metadata": {
        "colab": {
          "base_uri": "https://localhost:8080/"
        },
        "id": "qlPrv-JEzzEj",
        "outputId": "088834a8-a914-41f0-cb0f-6f3c7b004561"
      },
      "execution_count": null,
      "outputs": [
        {
          "output_type": "stream",
          "name": "stdout",
          "text": [
            "Precisões medidas: [1.         0.8        0.72727273 0.8        0.6       ]\n",
            "Acurácias medidas: [0.99310345 0.97916667 0.97916667 0.98611111 0.94444444]\n"
          ]
        }
      ]
    },
    {
      "cell_type": "code",
      "source": [
        "scores_acc = scores_acc.mean()\n",
        "scores_prc = scores_prc.mean()\n",
        "\n",
        "print('Precisão média: {:2.2%}'.format(scores_prc ))\n",
        "print('Acurácia média: {:2.2%}'.format(scores_acc ))"
      ],
      "metadata": {
        "colab": {
          "base_uri": "https://localhost:8080/"
        },
        "id": "XSKdxJ7qzLWD",
        "outputId": "d95111aa-71f6-4d52-b61e-d3f1322d061e"
      },
      "execution_count": null,
      "outputs": [
        {
          "output_type": "stream",
          "name": "stdout",
          "text": [
            "Precisão média: 78.55%\n",
            "Acurácia média: 97.64%\n"
          ]
        }
      ]
    },
    {
      "cell_type": "code",
      "source": [
        "#Visualização da matriz de confusão.\n",
        "ConfusionMatrixDisplay.from_estimator(model, Xtest,ytest)\n",
        "\n",
        "#Dados explicados.\n",
        "print('Score do modelo: {:2.2%}'.format(model.score(Xtest,ytest)))"
      ],
      "metadata": {
        "colab": {
          "base_uri": "https://localhost:8080/",
          "height": 296
        },
        "id": "ZfwfWBb55cXv",
        "outputId": "bc5e1347-6a31-4720-852a-06607f719455"
      },
      "execution_count": null,
      "outputs": [
        {
          "output_type": "stream",
          "name": "stdout",
          "text": [
            "Score do modelo: 98.02%\n"
          ]
        },
        {
          "output_type": "display_data",
          "data": {
            "text/plain": [
              "<Figure size 432x288 with 2 Axes>"
            ],
            "image/png": "[encoded data removed]"
          },
          "metadata": {
            "needs_background": "light"
          }
        }
      ]
    },
    {
      "cell_type": "code",
      "execution_count": null,
      "metadata": {
        "colab": {
          "base_uri": "https://localhost:8080/"
        },
        "id": "1UWepKdEeEej",
        "outputId": "293bd287-7956-4cc6-e10a-cce159be143a"
      },
      "outputs": [
        {
          "output_type": "stream",
          "name": "stdout",
          "text": [
            "               precision    recall  f1-score   support\n",
            "\n",
            "Not_Legendary       0.99      0.99      0.99       234\n",
            "    Legendary       0.85      0.89      0.87        19\n",
            "\n",
            "     accuracy                           0.98       253\n",
            "    macro avg       0.92      0.94      0.93       253\n",
            " weighted avg       0.98      0.98      0.98       253\n",
            "\n"
          ]
        }
      ],
      "source": [
        "#Métricas em geral.\n",
        "print(classification_report(ytest, y_pred, target_names=['Not_Legendary','Legendary']))"
      ]
    },
    {
      "cell_type": "code",
      "execution_count": null,
      "metadata": {
        "colab": {
          "base_uri": "https://localhost:8080/",
          "height": 897
        },
        "id": "I8DeYhfTlc1U",
        "outputId": "07706578-505c-4875-ad5c-279620f5b458"
      },
      "outputs": [
        {
          "output_type": "display_data",
          "data": {
            "text/plain": [
              "<Figure size 2160x2160 with 0 Axes>"
            ]
          },
          "metadata": {}
        },
        {
          "output_type": "display_data",
          "data": {
            "text/plain": [
              "<Figure size 1080x720 with 1 Axes>"
            ],
            "image/png": "[encoded data removed]"
          },
          "metadata": {
            "needs_background": "light"
          }
        },
        {
          "output_type": "execute_result",
          "data": {
            "text/plain": [
              "                         0\n",
              "Catch_Rate        0.816468\n",
              "Attack            0.067487\n",
              "Number            0.039037\n",
              "Egg_Undiscovered  0.037793\n",
              "quadruped         0.033690"
            ],
            "text/html": [
              "\n",
              "  <div id=\"df-902cf081-5c46-4646-a6ce-56239c1fb4e3\">\n",
              "    <div class=\"colab-df-container\">\n",
              "      <div>\n",
              "<style scoped>\n",
              "    .dataframe tbody tr th:only-of-type {\n",
              "        vertical-align: middle;\n",
              "    }\n",
              "\n",
              "    .dataframe tbody tr th {\n",
              "        vertical-align: top;\n",
              "    }\n",
              "\n",
              "    .dataframe thead th {\n",
              "        text-align: right;\n",
              "    }\n",
              "</style>\n",
              "<table border=\"1\" class=\"dataframe\">\n",
              "  <thead>\n",
              "    <tr style=\"text-align: right;\">\n",
              "      <th></th>\n",
              "      <th>0</th>\n",
              "    </tr>\n",
              "  </thead>\n",
              "  <tbody>\n",
              "    <tr>\n",
              "      <th>Catch_Rate</th>\n",
              "      <td>0.816468</td>\n",
              "    </tr>\n",
              "    <tr>\n",
              "      <th>Attack</th>\n",
              "      <td>0.067487</td>\n",
              "    </tr>\n",
              "    <tr>\n",
              "      <th>Number</th>\n",
              "      <td>0.039037</td>\n",
              "    </tr>\n",
              "    <tr>\n",
              "      <th>Egg_Undiscovered</th>\n",
              "      <td>0.037793</td>\n",
              "    </tr>\n",
              "    <tr>\n",
              "      <th>quadruped</th>\n",
              "      <td>0.033690</td>\n",
              "    </tr>\n",
              "  </tbody>\n",
              "</table>\n",
              "</div>\n",
              "      <button class=\"colab-df-convert\" onclick=\"convertToInteractive('df-902cf081-5c46-4646-a6ce-56239c1fb4e3')\"\n",
              "              title=\"Convert this dataframe to an interactive table.\"\n",
              "              style=\"display:none;\">\n",
              "        \n",
              "  <svg xmlns=\"http://www.w3.org/2000/svg\" height=\"24px\"viewBox=\"0 0 24 24\"\n",
              "       width=\"24px\">\n",
              "    <path d=\"M0 0h24v24H0V0z\" fill=\"none\"/>\n",
              "    <path d=\"M18.56 5.44l.94 2.06.94-2.06 2.06-.94-2.06-.94-.94-2.06-.94 2.06-2.06.94zm-11 1L8.5 8.5l.94-2.06 2.06-.94-2.06-.94L8.5 2.5l-.94 2.06-2.06.94zm10 10l.94 2.06.94-2.06 2.06-.94-2.06-.94-.94-2.06-.94 2.06-2.06.94z\"/><path d=\"M17.41 7.96l-1.37-1.37c-.4-.4-.92-.59-1.43-.59-.52 0-1.04.2-1.43.59L10.3 9.45l-7.72 7.72c-.78.78-.78 2.05 0 2.83L4 21.41c.39.39.9.59 1.41.59.51 0 1.02-.2 1.41-.59l7.78-7.78 2.81-2.81c.8-.78.8-2.07 0-2.86zM5.41 20L4 18.59l7.72-7.72 1.47 1.35L5.41 20z\"/>\n",
              "  </svg>\n",
              "      </button>\n",
              "      \n",
              "  <style>\n",
              "    .colab-df-container {\n",
              "      display:flex;\n",
              "      flex-wrap:wrap;\n",
              "      gap: 12px;\n",
              "    }\n",
              "\n",
              "    .colab-df-convert {\n",
              "      background-color: #E8F0FE;\n",
              "      border: none;\n",
              "      border-radius: 50%;\n",
              "      cursor: pointer;\n",
              "      display: none;\n",
              "      fill: #1967D2;\n",
              "      height: 32px;\n",
              "      padding: 0 0 0 0;\n",
              "      width: 32px;\n",
              "    }\n",
              "\n",
              "    .colab-df-convert:hover {\n",
              "      background-color: #E2EBFA;\n",
              "      box-shadow: 0px 1px 2px rgba(60, 64, 67, 0.3), 0px 1px 3px 1px rgba(60, 64, 67, 0.15);\n",
              "      fill: #174EA6;\n",
              "    }\n",
              "\n",
              "    [theme=dark] .colab-df-convert {\n",
              "      background-color: #3B4455;\n",
              "      fill: #D2E3FC;\n",
              "    }\n",
              "\n",
              "    [theme=dark] .colab-df-convert:hover {\n",
              "      background-color: #434B5C;\n",
              "      box-shadow: 0px 1px 3px 1px rgba(0, 0, 0, 0.15);\n",
              "      filter: drop-shadow(0px 1px 2px rgba(0, 0, 0, 0.3));\n",
              "      fill: #FFFFFF;\n",
              "    }\n",
              "  </style>\n",
              "\n",
              "      <script>\n",
              "        const buttonEl =\n",
              "          document.querySelector('#df-902cf081-5c46-4646-a6ce-56239c1fb4e3 button.colab-df-convert');\n",
              "        buttonEl.style.display =\n",
              "          google.colab.kernel.accessAllowed ? 'block' : 'none';\n",
              "\n",
              "        async function convertToInteractive(key) {\n",
              "          const element = document.querySelector('#df-902cf081-5c46-4646-a6ce-56239c1fb4e3');\n",
              "          const dataTable =\n",
              "            await google.colab.kernel.invokeFunction('convertToInteractive',\n",
              "                                                     [key], {});\n",
              "          if (!dataTable) return;\n",
              "\n",
              "          const docLinkHtml = 'Like what you see? Visit the ' +\n",
              "            '<a target=\"_blank\" href=https://colab.research.google.com/notebooks/data_table.ipynb>data table notebook</a>'\n",
              "            + ' to learn more about interactive tables.';\n",
              "          element.innerHTML = '';\n",
              "          dataTable['output_type'] = 'display_data';\n",
              "          await google.colab.output.renderOutput(dataTable, element);\n",
              "          const docLink = document.createElement('div');\n",
              "          docLink.innerHTML = docLinkHtml;\n",
              "          element.appendChild(docLink);\n",
              "        }\n",
              "      </script>\n",
              "    </div>\n",
              "  </div>\n",
              "  "
            ]
          },
          "metadata": {},
          "execution_count": 38
        }
      ],
      "source": [
        "#Extraindo a importância relativa das features.\n",
        "model.feature_importances_\n",
        "feature_importance= pd.DataFrame(model.feature_importances_, index = data.columns).sort_values(by=0, ascending=False)\n",
        "\n",
        "#Plot do gráfico de barras com a importância relativa de cada feature.\n",
        "features= list(feature_importance[feature_importance[0]>0].index)\n",
        "plt.figure(figsize=(30,30))\n",
        "feature_importance.head(6).plot(figsize=(15,10),kind='bar')\n",
        "\n",
        "plt.title(\"Feature importances\")\n",
        "\n",
        "plt.show()\n",
        "\n",
        "feature_importance.head()"
      ]
    },
    {
      "cell_type": "code",
      "execution_count": null,
      "metadata": {
        "colab": {
          "base_uri": "https://localhost:8080/",
          "height": 1000
        },
        "id": "dJv-ZrrolgVT",
        "outputId": "995507b5-19ab-42d9-ee87-da0df26cea01"
      },
      "outputs": [
        {
          "output_type": "display_data",
          "data": {
            "text/plain": [
              "<Figure size 1800x1440 with 1 Axes>"
            ],
            "image/png": "[encoded data removed]"
          },
          "metadata": {
            "needs_background": "light"
          }
        }
      ],
      "source": [
        "from sklearn import tree\n",
        "\n",
        "fig = plt.figure(figsize=(25,20))\n",
        "_ = tree.plot_tree(model,\n",
        "                   feature_names=data.columns,\n",
        "                   class_names = {0: 'not Legendary', 1:'Legendary'},\n",
        "                   filled=True,\n",
        "                   fontsize=20,\n",
        "                   rounded=True\n",
        "                   )"
      ]
    },
    {
      "cell_type": "markdown",
      "source": [
        "#EXIBIÇÃO DOS ERROS INDIVIDUAIS DO CLASSIFICADOR SEM PCA"
      ],
      "metadata": {
        "id": "4YebfHLnPHYP"
      }
    },
    {
      "cell_type": "markdown",
      "source": [
        "Transformando a saída predita e esperada em um único dataframe que possua apenas os pokémons classificados erroneamente pelo classificador. "
      ],
      "metadata": {
        "id": "yeWiHPjN0_Z7"
      }
    },
    {
      "cell_type": "code",
      "execution_count": null,
      "metadata": {
        "id": "GOqEX87IyL2F"
      },
      "outputs": [],
      "source": [
        "y_df = pd.DataFrame(data = y_pred, columns = ['isLegendary'], index = Xtest.index.copy())\n",
        "\n",
        "df_out = pd.merge(Poke, y_df, how = 'left', left_index = True, right_index = True)\n",
        "\n",
        "df_out = pd.merge(Poke_names, df_out, how = 'left', left_index = True, right_index = True)\n",
        "\n",
        "df_out = df_out.dropna(axis=0)\n",
        "df_out = df_out.where (df_out['isLegendary_x'] != df_out['isLegendary_y']).dropna(axis=0)\n",
        "df_out['Number'] = df_out['Number'].astype(int)"
      ]
    },
    {
      "cell_type": "markdown",
      "source": [
        "Exibindo apenas os pokémons cuja saída predita foi diferente da esperada, ou seja, os erros do classificador."
      ],
      "metadata": {
        "id": "ISKNm_S01gh_"
      }
    },
    {
      "cell_type": "code",
      "source": [
        "#Tornando os dados mais intuitivos para entendimento.\n",
        "\n",
        "df_out = df_out.rename(columns={'isLegendary_x': 'Saída_Esperada', 'isLegendary_y': 'Saída_Predita', 'Number': 'Número'})\n",
        "display(df_out[[\"Name\",\"Saída_Esperada\",\"Saída_Predita\",\"Número\"]])\n"
      ],
      "metadata": {
        "colab": {
          "base_uri": "https://localhost:8080/",
          "height": 206
        },
        "id": "rVtR8FMi_Yib",
        "outputId": "7ecb28d1-2480-414b-e589-880908f81730"
      },
      "execution_count": null,
      "outputs": [
        {
          "output_type": "display_data",
          "data": {
            "text/plain": [
              "         Name Saída_Esperada Saída_Predita  Numero\n",
              "250    Celebi          False          True     251\n",
              "377    Regice           True         False     378\n",
              "480   Mesprit           True         False     481\n",
              "647  Meloetta          False          True     648\n",
              "718   Diancie           True         False     719"
            ],
            "text/html": [
              "\n",
              "  <div id=\"df-60470b9f-d7a0-40a6-97f6-145c5ea4dfc5\">\n",
              "    <div class=\"colab-df-container\">\n",
              "      <div>\n",
              "<style scoped>\n",
              "    .dataframe tbody tr th:only-of-type {\n",
              "        vertical-align: middle;\n",
              "    }\n",
              "\n",
              "    .dataframe tbody tr th {\n",
              "        vertical-align: top;\n",
              "    }\n",
              "\n",
              "    .dataframe thead th {\n",
              "        text-align: right;\n",
              "    }\n",
              "</style>\n",
              "<table border=\"1\" class=\"dataframe\">\n",
              "  <thead>\n",
              "    <tr style=\"text-align: right;\">\n",
              "      <th></th>\n",
              "      <th>Name</th>\n",
              "      <th>Saída_Esperada</th>\n",
              "      <th>Saída_Predita</th>\n",
              "      <th>Numero</th>\n",
              "    </tr>\n",
              "  </thead>\n",
              "  <tbody>\n",
              "    <tr>\n",
              "      <th>250</th>\n",
              "      <td>Celebi</td>\n",
              "      <td>False</td>\n",
              "      <td>True</td>\n",
              "      <td>251</td>\n",
              "    </tr>\n",
              "    <tr>\n",
              "      <th>377</th>\n",
              "      <td>Regice</td>\n",
              "      <td>True</td>\n",
              "      <td>False</td>\n",
              "      <td>378</td>\n",
              "    </tr>\n",
              "    <tr>\n",
              "      <th>480</th>\n",
              "      <td>Mesprit</td>\n",
              "      <td>True</td>\n",
              "      <td>False</td>\n",
              "      <td>481</td>\n",
              "    </tr>\n",
              "    <tr>\n",
              "      <th>647</th>\n",
              "      <td>Meloetta</td>\n",
              "      <td>False</td>\n",
              "      <td>True</td>\n",
              "      <td>648</td>\n",
              "    </tr>\n",
              "    <tr>\n",
              "      <th>718</th>\n",
              "      <td>Diancie</td>\n",
              "      <td>True</td>\n",
              "      <td>False</td>\n",
              "      <td>719</td>\n",
              "    </tr>\n",
              "  </tbody>\n",
              "</table>\n",
              "</div>\n",
              "      <button class=\"colab-df-convert\" onclick=\"convertToInteractive('df-60470b9f-d7a0-40a6-97f6-145c5ea4dfc5')\"\n",
              "              title=\"Convert this dataframe to an interactive table.\"\n",
              "              style=\"display:none;\">\n",
              "        \n",
              "  <svg xmlns=\"http://www.w3.org/2000/svg\" height=\"24px\"viewBox=\"0 0 24 24\"\n",
              "       width=\"24px\">\n",
              "    <path d=\"M0 0h24v24H0V0z\" fill=\"none\"/>\n",
              "    <path d=\"M18.56 5.44l.94 2.06.94-2.06 2.06-.94-2.06-.94-.94-2.06-.94 2.06-2.06.94zm-11 1L8.5 8.5l.94-2.06 2.06-.94-2.06-.94L8.5 2.5l-.94 2.06-2.06.94zm10 10l.94 2.06.94-2.06 2.06-.94-2.06-.94-.94-2.06-.94 2.06-2.06.94z\"/><path d=\"M17.41 7.96l-1.37-1.37c-.4-.4-.92-.59-1.43-.59-.52 0-1.04.2-1.43.59L10.3 9.45l-7.72 7.72c-.78.78-.78 2.05 0 2.83L4 21.41c.39.39.9.59 1.41.59.51 0 1.02-.2 1.41-.59l7.78-7.78 2.81-2.81c.8-.78.8-2.07 0-2.86zM5.41 20L4 18.59l7.72-7.72 1.47 1.35L5.41 20z\"/>\n",
              "  </svg>\n",
              "      </button>\n",
              "      \n",
              "  <style>\n",
              "    .colab-df-container {\n",
              "      display:flex;\n",
              "      flex-wrap:wrap;\n",
              "      gap: 12px;\n",
              "    }\n",
              "\n",
              "    .colab-df-convert {\n",
              "      background-color: #E8F0FE;\n",
              "      border: none;\n",
              "      border-radius: 50%;\n",
              "      cursor: pointer;\n",
              "      display: none;\n",
              "      fill: #1967D2;\n",
              "      height: 32px;\n",
              "      padding: 0 0 0 0;\n",
              "      width: 32px;\n",
              "    }\n",
              "\n",
              "    .colab-df-convert:hover {\n",
              "      background-color: #E2EBFA;\n",
              "      box-shadow: 0px 1px 2px rgba(60, 64, 67, 0.3), 0px 1px 3px 1px rgba(60, 64, 67, 0.15);\n",
              "      fill: #174EA6;\n",
              "    }\n",
              "\n",
              "    [theme=dark] .colab-df-convert {\n",
              "      background-color: #3B4455;\n",
              "      fill: #D2E3FC;\n",
              "    }\n",
              "\n",
              "    [theme=dark] .colab-df-convert:hover {\n",
              "      background-color: #434B5C;\n",
              "      box-shadow: 0px 1px 3px 1px rgba(0, 0, 0, 0.15);\n",
              "      filter: drop-shadow(0px 1px 2px rgba(0, 0, 0, 0.3));\n",
              "      fill: #FFFFFF;\n",
              "    }\n",
              "  </style>\n",
              "\n",
              "      <script>\n",
              "        const buttonEl =\n",
              "          document.querySelector('#df-60470b9f-d7a0-40a6-97f6-145c5ea4dfc5 button.colab-df-convert');\n",
              "        buttonEl.style.display =\n",
              "          google.colab.kernel.accessAllowed ? 'block' : 'none';\n",
              "\n",
              "        async function convertToInteractive(key) {\n",
              "          const element = document.querySelector('#df-60470b9f-d7a0-40a6-97f6-145c5ea4dfc5');\n",
              "          const dataTable =\n",
              "            await google.colab.kernel.invokeFunction('convertToInteractive',\n",
              "                                                     [key], {});\n",
              "          if (!dataTable) return;\n",
              "\n",
              "          const docLinkHtml = 'Like what you see? Visit the ' +\n",
              "            '<a target=\"_blank\" href=https://colab.research.google.com/notebooks/data_table.ipynb>data table notebook</a>'\n",
              "            + ' to learn more about interactive tables.';\n",
              "          element.innerHTML = '';\n",
              "          dataTable['output_type'] = 'display_data';\n",
              "          await google.colab.output.renderOutput(dataTable, element);\n",
              "          const docLink = document.createElement('div');\n",
              "          docLink.innerHTML = docLinkHtml;\n",
              "          element.appendChild(docLink);\n",
              "        }\n",
              "      </script>\n",
              "    </div>\n",
              "  </div>\n",
              "  "
            ]
          },
          "metadata": {}
        }
      ]
    },
    {
      "cell_type": "markdown",
      "source": [
        "# CLASSIFICAÇÃO COM PCA\n"
      ],
      "metadata": {
        "id": "BbJkDhzBD7Y_"
      }
    },
    {
      "cell_type": "markdown",
      "source": [
        "\n",
        "Verificando o desbalanceio de dados, que é esperado, já que os pokémons lendários são raros."
      ],
      "metadata": {
        "id": "8DZhK04BbRzw"
      }
    },
    {
      "cell_type": "code",
      "source": [
        "print(data.shape)\n",
        "print(target.shape)\n",
        "\n",
        "#Criadas novas variáveis para data e target, para que não haja confusão com o código acima.\n",
        "data1 = data\n",
        "target1 = target\n",
        "\n",
        "print(\"Análise da distribuição das classes\")\n",
        "\n",
        "np.unique(target1,return_counts=True)"
      ],
      "metadata": {
        "colab": {
          "base_uri": "https://localhost:8080/"
        },
        "id": "A68ejIVRD-1v",
        "outputId": "fc8ec194-06aa-462a-f514-cbf3e6408e04"
      },
      "execution_count": null,
      "outputs": [
        {
          "output_type": "stream",
          "name": "stdout",
          "text": [
            "(721, 57)\n",
            "(721,)\n",
            "Análise da distribuição das classes\n"
          ]
        },
        {
          "output_type": "execute_result",
          "data": {
            "text/plain": [
              "(array([False,  True]), array([675,  46]))"
            ]
          },
          "metadata": {},
          "execution_count": 4054
        }
      ]
    },
    {
      "cell_type": "markdown",
      "source": [
        "Para que seja possível utilizar o PCA, é necessário que os dados estejam numa mesma escala, por isso estes serão tratados utilizando a ferramenta StandardScaler, uma etapa que normalmente estaria associada ao pré-processamento."
      ],
      "metadata": {
        "id": "MPkKoyiic-qw"
      }
    },
    {
      "cell_type": "markdown",
      "source": [
        "Aplicando o PCA e StandardScaler."
      ],
      "metadata": {
        "id": "A2pa1AyPoaUk"
      }
    },
    {
      "cell_type": "code",
      "source": [
        "#Utilizando o StandardScaler para fazer com que os dados numéricos fiquem na mesma escala.\n",
        "scale_obj = StandardScaler()\n",
        "data1 = scale_obj.fit_transform(data1.astype(float))\n",
        "\n",
        "#Separando os dados com 35% sendo para teste.\n",
        "Xtrain, Xtest, ytrain, ytest = tts(data1,target1, test_size= 0.35, shuffle=True)\n",
        "\n",
        "#Aplicando o PCA para 10 componentes.\n",
        "from sklearn import decomposition  \n",
        "pca = decomposition.PCA(n_components=10)\n",
        "Xtrain = pca.fit_transform(Xtrain)\n",
        "Xtest = pca.transform(Xtest) "
      ],
      "metadata": {
        "id": "soqF7gjqnzs_"
      },
      "execution_count": null,
      "outputs": []
    },
    {
      "cell_type": "markdown",
      "source": [
        "Treinando o modelo."
      ],
      "metadata": {
        "id": "6dkr7o7888v5"
      }
    },
    {
      "cell_type": "code",
      "source": [
        "#Criando o modelo.\n",
        "model1 = dt()  \n",
        "\n",
        "#Treinando o modelo.\n",
        "model1.fit(Xtrain,ytrain)\n",
        "\n",
        "#Testando o modelo com o conjunto de teste.\n",
        "y_pred1 = model1.predict(Xtest)"
      ],
      "metadata": {
        "id": "dZGFR4CtdNRt"
      },
      "execution_count": null,
      "outputs": []
    },
    {
      "cell_type": "markdown",
      "source": [
        "#MÉTRICAS DE AVALIAÇÃO COM PCA"
      ],
      "metadata": {
        "id": "rDyBZFg148FC"
      }
    },
    {
      "cell_type": "code",
      "source": [
        "#Extraindo a Precisão média a partir de validação cruzada.\n",
        "scores_prc = cross_val_score(model1,data1,target1, cv=5, scoring='precision')\n",
        "\n",
        "#Extraindo a Acurácia média a partir de validação cruzada.\n",
        "scores_acc = cross_val_score(model1,data1,target1, cv=5, scoring='accuracy')"
      ],
      "metadata": {
        "id": "eVdPffOX2eC1"
      },
      "execution_count": null,
      "outputs": []
    },
    {
      "cell_type": "code",
      "source": [
        "print(\"Precisões medidas:\", scores_prc)\n",
        "print(\"Acurácias medidas:\", scores_acc)"
      ],
      "metadata": {
        "colab": {
          "base_uri": "https://localhost:8080/"
        },
        "outputId": "0a172a70-1ed1-4a7e-c865-75ed040fcdc6",
        "id": "8NqGl-HU2eC9"
      },
      "execution_count": null,
      "outputs": [
        {
          "output_type": "stream",
          "name": "stdout",
          "text": [
            "Precisões medidas: [1.         0.8        0.8        0.8        0.63636364]\n",
            "Acurácias medidas: [1.         0.97916667 0.97916667 0.98611111 0.97222222]\n"
          ]
        }
      ]
    },
    {
      "cell_type": "code",
      "source": [
        "scores_acc = scores_acc.mean()\n",
        "scores_prc = scores_prc.mean()\n",
        "\n",
        "print('Precisão média: {:2.2%}'.format(scores_prc ))\n",
        "print('Acurácia média: {:2.2%}'.format(scores_acc ))"
      ],
      "metadata": {
        "colab": {
          "base_uri": "https://localhost:8080/"
        },
        "outputId": "01e968e6-0a42-405d-c05a-b25c0fbfaec8",
        "id": "vf5ob-zp2eC9"
      },
      "execution_count": null,
      "outputs": [
        {
          "output_type": "stream",
          "name": "stdout",
          "text": [
            "Precisão média: 80.73%\n",
            "Acurácia média: 98.33%\n"
          ]
        }
      ]
    },
    {
      "cell_type": "code",
      "source": [
        "#Visualização da matriz de confusão.\n",
        "ConfusionMatrixDisplay.from_estimator(model1, Xtest,ytest)\n",
        "\n",
        "#Dados explicados.\n",
        "print('Score do modelo: {:2.2%}'.format(model1.score(Xtest,ytest)))"
      ],
      "metadata": {
        "colab": {
          "base_uri": "https://localhost:8080/",
          "height": 297
        },
        "id": "MUsOhBMrjsG3",
        "outputId": "48ee7fb8-efde-4573-d3db-d40c42809d99"
      },
      "execution_count": null,
      "outputs": [
        {
          "output_type": "stream",
          "name": "stdout",
          "text": [
            "Score do modelo: 97.23%\n"
          ]
        },
        {
          "output_type": "display_data",
          "data": {
            "text/plain": [
              "<Figure size 432x288 with 2 Axes>"
            ],
            "image/png": "[encoded data removed]"
          },
          "metadata": {
            "needs_background": "light"
          }
        }
      ]
    },
    {
      "cell_type": "code",
      "source": [
        "#Métricas em geral.\n",
        "print(classification_report(ytest, y_pred, target_names=['Not_Legendary','Legendary']))"
      ],
      "metadata": {
        "colab": {
          "base_uri": "https://localhost:8080/"
        },
        "id": "K2IQCi9u6T81",
        "outputId": "ba00d313-1b11-4bce-ea7d-482384ad97ba"
      },
      "execution_count": null,
      "outputs": [
        {
          "output_type": "stream",
          "name": "stdout",
          "text": [
            "               precision    recall  f1-score   support\n",
            "\n",
            "Not_Legendary       0.95      0.96      0.95       240\n",
            "    Legendary       0.09      0.08      0.08        13\n",
            "\n",
            "     accuracy                           0.91       253\n",
            "    macro avg       0.52      0.52      0.52       253\n",
            " weighted avg       0.91      0.91      0.91       253\n",
            "\n"
          ]
        }
      ]
    },
    {
      "cell_type": "markdown",
      "source": [
        "#Visualização PCA"
      ],
      "metadata": {
        "id": "T7o9X1RyLqVJ"
      }
    },
    {
      "cell_type": "markdown",
      "source": [
        "Com o PCA, pode-se adquirir uma métrica de quão bem os dados são explicados nas novas dimensões, nesse caso foram utilizados 2 para que seja possível visualizar como seria a separação graficamente."
      ],
      "metadata": {
        "id": "rG9JjgZpmlIp"
      }
    },
    {
      "cell_type": "code",
      "source": [
        "from sklearn.decomposition import PCA\n",
        "pca_viewer = PCA(n_components=2)\n",
        "principal_components = pca_viewer.fit_transform(Xtrain)\n",
        "\n",
        "#Calculo de quanto o PCA explica dos dados pré redução.\n",
        "print(\"Porcentagem de variancia explicada por cada componente\")\n",
        "print(pca_viewer.explained_variance_ratio_)\n",
        "\n",
        "data_explained = sum(pca_viewer.explained_variance_ratio_)\n",
        "print('Dados explicados pelo PCA: {:2.2%}'.format(data_explained))"
      ],
      "metadata": {
        "colab": {
          "base_uri": "https://localhost:8080/"
        },
        "id": "f7lBeaKoD8j9",
        "outputId": "3abb4d7c-3f19-488b-9be4-82c781408776"
      },
      "execution_count": null,
      "outputs": [
        {
          "output_type": "stream",
          "name": "stdout",
          "text": [
            "Porcentagem de variancia explicada por cada componente\n",
            "[0.21413667 0.11294697]\n",
            "Dados explicados pelo PCA: 32.71%\n"
          ]
        }
      ]
    },
    {
      "cell_type": "markdown",
      "source": [
        "Transformando as componentes principais do PCA de duas dimensões em um dataframe para que seja possíveç plotar em um gráfico 2D (para visualizar como é a separação dos dados em 2D)."
      ],
      "metadata": {
        "id": "eIGGM9hkmbtH"
      }
    },
    {
      "cell_type": "code",
      "source": [
        "principal_components_df = pd.DataFrame(data = principal_components, \n",
        "                                       columns = ['principal component 1', 'principal component 2'])\n",
        "principal_components_df.head()"
      ],
      "metadata": {
        "id": "zaElqHbZsaf3",
        "colab": {
          "base_uri": "https://localhost:8080/",
          "height": 206
        },
        "outputId": "6dae4842-ad15-4986-c8cf-428005c0f3fe"
      },
      "execution_count": null,
      "outputs": [
        {
          "output_type": "execute_result",
          "data": {
            "text/plain": [
              "   principal component 1  principal component 2\n",
              "0              -0.098302               0.911489\n",
              "1               0.588902              -0.014829\n",
              "2              -3.111887               1.132443\n",
              "3               0.924601               1.787012\n",
              "4               0.028792               1.467451"
            ],
            "text/html": [
              "\n",
              "  <div id=\"df-383fcd34-0010-4f39-ae7d-767e884dd646\">\n",
              "    <div class=\"colab-df-container\">\n",
              "      <div>\n",
              "<style scoped>\n",
              "    .dataframe tbody tr th:only-of-type {\n",
              "        vertical-align: middle;\n",
              "    }\n",
              "\n",
              "    .dataframe tbody tr th {\n",
              "        vertical-align: top;\n",
              "    }\n",
              "\n",
              "    .dataframe thead th {\n",
              "        text-align: right;\n",
              "    }\n",
              "</style>\n",
              "<table border=\"1\" class=\"dataframe\">\n",
              "  <thead>\n",
              "    <tr style=\"text-align: right;\">\n",
              "      <th></th>\n",
              "      <th>principal component 1</th>\n",
              "      <th>principal component 2</th>\n",
              "    </tr>\n",
              "  </thead>\n",
              "  <tbody>\n",
              "    <tr>\n",
              "      <th>0</th>\n",
              "      <td>-0.098302</td>\n",
              "      <td>0.911489</td>\n",
              "    </tr>\n",
              "    <tr>\n",
              "      <th>1</th>\n",
              "      <td>0.588902</td>\n",
              "      <td>-0.014829</td>\n",
              "    </tr>\n",
              "    <tr>\n",
              "      <th>2</th>\n",
              "      <td>-3.111887</td>\n",
              "      <td>1.132443</td>\n",
              "    </tr>\n",
              "    <tr>\n",
              "      <th>3</th>\n",
              "      <td>0.924601</td>\n",
              "      <td>1.787012</td>\n",
              "    </tr>\n",
              "    <tr>\n",
              "      <th>4</th>\n",
              "      <td>0.028792</td>\n",
              "      <td>1.467451</td>\n",
              "    </tr>\n",
              "  </tbody>\n",
              "</table>\n",
              "</div>\n",
              "      <button class=\"colab-df-convert\" onclick=\"convertToInteractive('df-383fcd34-0010-4f39-ae7d-767e884dd646')\"\n",
              "              title=\"Convert this dataframe to an interactive table.\"\n",
              "              style=\"display:none;\">\n",
              "        \n",
              "  <svg xmlns=\"http://www.w3.org/2000/svg\" height=\"24px\"viewBox=\"0 0 24 24\"\n",
              "       width=\"24px\">\n",
              "    <path d=\"M0 0h24v24H0V0z\" fill=\"none\"/>\n",
              "    <path d=\"M18.56 5.44l.94 2.06.94-2.06 2.06-.94-2.06-.94-.94-2.06-.94 2.06-2.06.94zm-11 1L8.5 8.5l.94-2.06 2.06-.94-2.06-.94L8.5 2.5l-.94 2.06-2.06.94zm10 10l.94 2.06.94-2.06 2.06-.94-2.06-.94-.94-2.06-.94 2.06-2.06.94z\"/><path d=\"M17.41 7.96l-1.37-1.37c-.4-.4-.92-.59-1.43-.59-.52 0-1.04.2-1.43.59L10.3 9.45l-7.72 7.72c-.78.78-.78 2.05 0 2.83L4 21.41c.39.39.9.59 1.41.59.51 0 1.02-.2 1.41-.59l7.78-7.78 2.81-2.81c.8-.78.8-2.07 0-2.86zM5.41 20L4 18.59l7.72-7.72 1.47 1.35L5.41 20z\"/>\n",
              "  </svg>\n",
              "      </button>\n",
              "      \n",
              "  <style>\n",
              "    .colab-df-container {\n",
              "      display:flex;\n",
              "      flex-wrap:wrap;\n",
              "      gap: 12px;\n",
              "    }\n",
              "\n",
              "    .colab-df-convert {\n",
              "      background-color: #E8F0FE;\n",
              "      border: none;\n",
              "      border-radius: 50%;\n",
              "      cursor: pointer;\n",
              "      display: none;\n",
              "      fill: #1967D2;\n",
              "      height: 32px;\n",
              "      padding: 0 0 0 0;\n",
              "      width: 32px;\n",
              "    }\n",
              "\n",
              "    .colab-df-convert:hover {\n",
              "      background-color: #E2EBFA;\n",
              "      box-shadow: 0px 1px 2px rgba(60, 64, 67, 0.3), 0px 1px 3px 1px rgba(60, 64, 67, 0.15);\n",
              "      fill: #174EA6;\n",
              "    }\n",
              "\n",
              "    [theme=dark] .colab-df-convert {\n",
              "      background-color: #3B4455;\n",
              "      fill: #D2E3FC;\n",
              "    }\n",
              "\n",
              "    [theme=dark] .colab-df-convert:hover {\n",
              "      background-color: #434B5C;\n",
              "      box-shadow: 0px 1px 3px 1px rgba(0, 0, 0, 0.15);\n",
              "      filter: drop-shadow(0px 1px 2px rgba(0, 0, 0, 0.3));\n",
              "      fill: #FFFFFF;\n",
              "    }\n",
              "  </style>\n",
              "\n",
              "      <script>\n",
              "        const buttonEl =\n",
              "          document.querySelector('#df-383fcd34-0010-4f39-ae7d-767e884dd646 button.colab-df-convert');\n",
              "        buttonEl.style.display =\n",
              "          google.colab.kernel.accessAllowed ? 'block' : 'none';\n",
              "\n",
              "        async function convertToInteractive(key) {\n",
              "          const element = document.querySelector('#df-383fcd34-0010-4f39-ae7d-767e884dd646');\n",
              "          const dataTable =\n",
              "            await google.colab.kernel.invokeFunction('convertToInteractive',\n",
              "                                                     [key], {});\n",
              "          if (!dataTable) return;\n",
              "\n",
              "          const docLinkHtml = 'Like what you see? Visit the ' +\n",
              "            '<a target=\"_blank\" href=https://colab.research.google.com/notebooks/data_table.ipynb>data table notebook</a>'\n",
              "            + ' to learn more about interactive tables.';\n",
              "          element.innerHTML = '';\n",
              "          dataTable['output_type'] = 'display_data';\n",
              "          await google.colab.output.renderOutput(dataTable, element);\n",
              "          const docLink = document.createElement('div');\n",
              "          docLink.innerHTML = docLinkHtml;\n",
              "          element.appendChild(docLink);\n",
              "        }\n",
              "      </script>\n",
              "    </div>\n",
              "  </div>\n",
              "  "
            ]
          },
          "metadata": {},
          "execution_count": 4063
        }
      ]
    },
    {
      "cell_type": "code",
      "source": [
        "#Troca de nomes para tornar o entendimento do gráfico abaixo mais intuitivo.\n",
        "ytrain.astype(int)\n",
        "ytrain = np.where (ytrain == True, 'Legendary', ytrain)\n",
        "ytrain = np.where(ytrain == 'False', 'not_Legendary', ytrain)\n"
      ],
      "metadata": {
        "id": "cxzH38oY7y43"
      },
      "execution_count": null,
      "outputs": []
    },
    {
      "cell_type": "markdown",
      "source": [
        "Plot do gráfico de PCA com duas dimensões."
      ],
      "metadata": {
        "id": "f09ggdDMrfmW"
      }
    },
    {
      "cell_type": "code",
      "source": [
        "plt.figure()\n",
        "plt.figure(figsize=(10,10))\n",
        "plt.xticks(fontsize=12)\n",
        "plt.yticks(fontsize=14)\n",
        "plt.xlabel('Principal Component - 1', fontsize=20)\n",
        "plt.ylabel('Principal Component - 2', fontsize=20)\n",
        "\n",
        "plt.title(\"Principal Component Analysis - Pokemon\",fontsize=20)\n",
        "targets = ['Legendary', 'not_Legendary']\n",
        "colors = ['r', 'b']\n",
        "\n",
        "for target1, color in zip(targets,colors):\n",
        "    indicesToKeep = ytrain == target1\n",
        "    plt.scatter(principal_components_df.loc[indicesToKeep, 'principal component 1'], \n",
        "                principal_components_df.loc[indicesToKeep, 'principal component 2'], \n",
        "                c = color, s = 200, alpha=0.5)\n",
        "\n",
        "plt.legend(targets,prop={'size': 15})\n",
        "plt.show()"
      ],
      "metadata": {
        "colab": {
          "base_uri": "https://localhost:8080/",
          "height": 657
        },
        "id": "ygEfe3RBZhHX",
        "outputId": "d6e88faf-d0be-4ef6-ce43-6be2b842dd1b"
      },
      "execution_count": null,
      "outputs": [
        {
          "output_type": "display_data",
          "data": {
            "text/plain": [
              "<Figure size 432x288 with 0 Axes>"
            ]
          },
          "metadata": {}
        },
        {
          "output_type": "display_data",
          "data": {
            "text/plain": [
              "<Figure size 720x720 with 1 Axes>"
            ],
            "image/png": "[encoded data removed]"
          },
          "metadata": {
            "needs_background": "light"
          }
        }
      ]
    },
    {
      "cell_type": "markdown",
      "source": [
        "Como é possível verificar acima, os dados têm uma certa separação visível, porém é esperado que hajam confusões por parte do algoritmo ao classificar utilizando apenas duas dimensões, já há uma mistura dos dados em algumas áreas."
      ],
      "metadata": {
        "id": "r6Jnw-7yUgXq"
      }
    },
    {
      "cell_type": "markdown",
      "metadata": {
        "id": "hjLAnzSn9J74"
      },
      "source": [
        "# REFERÊNCIAS"
      ]
    },
    {
      "cell_type": "markdown",
      "source": [
        "BulbaPedia:\n",
        "\n",
        "https://bulbapedia.bulbagarden.net/wiki/Main_Page\n",
        "\n",
        "\n",
        "ScikitLearn:\n",
        "\n",
        "https://scikit-learn.org/stable/modules/tree.html?highlight=decision_tree\n",
        "\n",
        "\n",
        "\n",
        "Visualize a Decision Tree in 4 Ways with Scikit-Learn and Python:\n",
        "\n",
        "https://mljar.com/blog/visualize-decision-tree/#:~:text=A%20Decision%20Tree%20is%20a,starting%20at%20the%20root%20node.\n",
        "\n",
        "\n",
        "\n",
        "How to Implement K fold Cross-Validation in Scikit-Learn:\n",
        "\n",
        "https://www.section.io/engineering-education/how-to-implement-k-fold-cross-validation/\n",
        "\n",
        "\n",
        "\n",
        "Principal Component Analysis for Visualization:\n",
        "\n",
        "https://machinelearningmastery.com/principal-component-analysis-for-visualization/\n",
        "\n",
        "\n",
        "\n",
        "Decision Trees, PCA, and data compression: \n",
        "\n",
        "https://www.kaggle.com/code/lucabasa/decision-trees-pca-and-data-compression\n",
        "\n",
        "Pokemon:\n",
        "\n",
        "https://www.kaggle.com/datasets/mlomuscio/pokemon\n",
        "\n",
        "Aglomerado de links com diferentes datasets sobre pokémons (com descrição): \n",
        "\n",
        "https://swhui.github.io/StatisticsinPokemon/datasets/\n",
        "\n",
        "Projeto parecido utilizando outro banco de dados:\n",
        "\n",
        "https://www.kaggle.com/code/mlomuscio/decision-trees-bagging-and-random-forests#Example-3:-Legendary-Pokemon\n",
        "\n",
        "\n"
      ],
      "metadata": {
        "id": "F4LJoQgNf3BB"
      }
    },
    {
      "cell_type": "markdown",
      "source": [
        "#***EXTRA***"
      ],
      "metadata": {
        "id": "aIHSeypu672t"
      }
    },
    {
      "cell_type": "markdown",
      "source": [
        "# TESTE COMPARATIVO COM KNN"
      ],
      "metadata": {
        "id": "28A1iu9V3xJO"
      }
    },
    {
      "cell_type": "code",
      "source": [
        "data2 = data\n",
        "target2 = target"
      ],
      "metadata": {
        "id": "-a2-Cb5K30KF"
      },
      "execution_count": null,
      "outputs": []
    },
    {
      "cell_type": "code",
      "source": [
        "#Utilizando o StandardScaler para fazer com que os dados numéricos fiquem na mesma escala\n",
        "\"\"\"scale_obj = StandardScaler()\n",
        "data1 = scale_obj.fit_transform(data1.astype(float))\"\"\"\n",
        "\n",
        "#Separando os dados com 35% sendo para teste\n",
        "Xtrain, Xtest, ytrain, ytest = tts(data2,target2, test_size= 0.35, shuffle=True)\n",
        "\n",
        "#Aplicando o PCA para 10 componentes\n",
        "\"\"\"from sklearn import decomposition  \n",
        "pca = decomposition.PCA(n_components=10)\n",
        "Xtrain = pca.fit_transform(Xtrain)\n",
        "Xtest = pca.transform(Xtest) \"\"\""
      ],
      "metadata": {
        "colab": {
          "base_uri": "https://localhost:8080/",
          "height": 36
        },
        "id": "fPnhHCm14Iiu",
        "outputId": "95395510-6b8c-4556-90fe-081b78002629"
      },
      "execution_count": null,
      "outputs": [
        {
          "output_type": "execute_result",
          "data": {
            "text/plain": [
              "'from sklearn import decomposition  \\npca = decomposition.PCA(n_components=10)\\nXtrain = pca.fit_transform(Xtrain)\\nXtest = pca.transform(Xtest) '"
            ],
            "application/vnd.google.colaboratory.intrinsic+json": {
              "type": "string"
            }
          },
          "metadata": {},
          "execution_count": 4067
        }
      ]
    },
    {
      "cell_type": "markdown",
      "source": [
        "Treinando o modelo "
      ],
      "metadata": {
        "id": "D9Izfc-e4Iiv"
      }
    },
    {
      "cell_type": "code",
      "source": [
        "from sklearn.neighbors import KNeighborsClassifier as KNN\n",
        "\n",
        "#Treinando o modelo\n",
        "model2 = KNN(n_neighbors=1)  "
      ],
      "metadata": {
        "id": "fb-6_fko4Iiw"
      },
      "execution_count": null,
      "outputs": []
    },
    {
      "cell_type": "code",
      "source": [
        "model2.fit(Xtrain,ytrain)"
      ],
      "metadata": {
        "colab": {
          "base_uri": "https://localhost:8080/"
        },
        "id": "5nBQNi6F6Wha",
        "outputId": "0881a63d-befc-4fb3-d284-bb200634a45b"
      },
      "execution_count": null,
      "outputs": [
        {
          "output_type": "execute_result",
          "data": {
            "text/plain": [
              "KNeighborsClassifier(n_neighbors=1)"
            ]
          },
          "metadata": {},
          "execution_count": 4069
        }
      ]
    },
    {
      "cell_type": "code",
      "source": [
        "#treinando o modelo\n",
        "\n",
        "\n",
        "#Testando o modelo com o conjunto de teste\n",
        "y_pred1 = model2.predict(Xtest)"
      ],
      "metadata": {
        "id": "b_sQWVb_6TuQ"
      },
      "execution_count": null,
      "outputs": []
    },
    {
      "cell_type": "code",
      "source": [
        "model2.score(Xtest,ytest)"
      ],
      "metadata": {
        "colab": {
          "base_uri": "https://localhost:8080/"
        },
        "id": "QWGwlwFd4Xic",
        "outputId": "f9d13c1b-9286-4b77-a7c8-d7fac535c45e"
      },
      "execution_count": null,
      "outputs": [
        {
          "output_type": "execute_result",
          "data": {
            "text/plain": [
              "0.9881422924901185"
            ]
          },
          "metadata": {},
          "execution_count": 4071
        }
      ]
    }
  ],
  "metadata": {
    "colab": {
      "collapsed_sections": [
        "7KP7lRURHaD_",
        "q4Oys3NsGb6Q",
        "6jJhTlp5HWc6",
        "oEaEELCiHA1k",
        "ki3kqs6_HKuT",
        "aIHSeypu672t"
      ],
      "provenance": [],
      "toc_visible": true,
      "include_colab_link": true
    },
    "kernelspec": {
      "display_name": "Python 3",
      "name": "python3"
    },
    "language_info": {
      "name": "python"
    }
  },
  "nbformat": 4,
  "nbformat_minor": 0
}