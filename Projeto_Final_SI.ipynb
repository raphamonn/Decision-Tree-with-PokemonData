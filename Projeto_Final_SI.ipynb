{
  "cells": [
    {
      "cell_type": "markdown",
      "metadata": {
        "id": "view-in-github",
        "colab_type": "text"
      },
      "source": [
        "<a href=\"https://colab.research.google.com/github/raphamonn/Decision-Tree-with-PokemonData/blob/main/Projeto_Final_SI.ipynb\" target=\"_parent\"><img src=\"https://colab.research.google.com/assets/colab-badge.svg\" alt=\"Open In Colab\"/></a>"
      ]
    },
    {
      "cell_type": "markdown",
      "metadata": {
        "id": "sNdFsEt3vwXP"
      },
      "source": [
        "**Projeto Final SI**"
      ]
    },
    {
      "cell_type": "code",
      "execution_count": 3556,
      "metadata": {
        "colab": {
          "base_uri": "https://localhost:8080/"
        },
        "id": "yfWGAkU4HOiR",
        "outputId": "2ff8c4d0-e639-48cf-9a25-9a400eae9485"
      },
      "outputs": [
        {
          "output_type": "stream",
          "name": "stdout",
          "text": [
            "Drive already mounted at /content/drive; to attempt to forcibly remount, call drive.mount(\"/content/drive\", force_remount=True).\n"
          ]
        }
      ],
      "source": [
        "from google.colab import drive\n",
        "drive.mount('/content/drive')"
      ]
    },
    {
      "cell_type": "markdown",
      "metadata": {
        "id": "q4Oys3NsGb6Q"
      },
      "source": [
        "# BANCOS DE DADOS\n",
        "\n",
        "Pokémon for Data Mining and Machine Learning\n",
        "https://www.kaggle.com/datasets/alopez247/pokemon\n",
        "\n",
        "Pokemon\n",
        "https://www.kaggle.com/datasets/mlomuscio/pokemon\n",
        "\n",
        "Aglomerado de links com diferentes datasets sobre pokémons (com descrição): https://swhui.github.io/StatisticsinPokemon/datasets/\n",
        "\n",
        "Projeto parecido utilizando outro banco de dados:\n",
        "https://www.kaggle.com/code/mlomuscio/decision-trees-bagging-and-random-forests#Example-3:-Legendary-Pokemon\n"
      ]
    },
    {
      "cell_type": "markdown",
      "metadata": {
        "id": "hjLAnzSn9J74"
      },
      "source": [
        "# LINKS ÚTEIS\n",
        "\n",
        "* Slides para apresentação do projeto: https://docs.google.com/presentation/d/18WNq6fYuVqZyLmBZHK2iOvpS6AZLH3vcmpDFkA4CDF0/edit?usp=sharing"
      ]
    },
    {
      "cell_type": "markdown",
      "metadata": {
        "id": "6jJhTlp5HWc6"
      },
      "source": [
        "# DESCRIÇÃO DO BANCO DE DADOS"
      ]
    },
    {
      "cell_type": "markdown",
      "metadata": {
        "id": "oEaEELCiHA1k"
      },
      "source": [
        "# TIPO DE MODELO\n",
        "\n",
        "* Classificação."
      ]
    },
    {
      "cell_type": "markdown",
      "metadata": {
        "id": "ki3kqs6_HKuT"
      },
      "source": [
        "# FERRAMENTAS UTILIZADAS PARA O DATASET ESCOLHIDO\n",
        "\n",
        "* Decision Tree Classifier \n",
        "* PCA\n",
        "* StandardScaler\n",
        "* Cross-Validation (Cross_Val_score)"
      ]
    },
    {
      "cell_type": "markdown",
      "metadata": {
        "id": "7KP7lRURHaD_"
      },
      "source": [
        "# DESCRIÇÃO DO PROBLEMA E IMPLEMENTAÇÃO\n",
        "\n",
        "* Montar um modelo de Classificação sem que nos dê a predição se um pokemon é lendário ou não com base em suas features, como por exemplo, cor, tamanho, peso, raridade(Catch_rate) entre outras 40+ features, a primeiro momento considerando majoritariamente todas as features, com exceção das que foram removidas durante o pré processamento por possuírem ou muitos dados NULL.\n",
        "\n",
        "* Exibir uma matriz de correlação entre os dados que extraia quais quais são as melhores variáveis pra levar em consideração na hora de classificar se um pokémon é ou não lendário, para posterior comparação com quais features o modelo escolheu.\n",
        "\n",
        "* Avaliar a eficácia do modelo conforme acurácia e outras pontuações, além de verificar quais foram as features mais importantes para a formação da árvore além de exibí-la e verificar quais foram os erros individuais do algoritmo.\n",
        "\n",
        "* Comparar as pontuações do primeiro algoritmo sem PCA com um novo desta vez fazendo o uso da ferramenta para que possamos avaliar a viabilidade ou não da redução da dimensionalidade dos dados.\n",
        "\n",
        "* Exibir visualmente em 2D os dados de treino através do PCA a fim de entender quão possível seria separar os dados através de apenas duas features/dimensões "
      ]
    },
    {
      "cell_type": "markdown",
      "metadata": {
        "id": "oMCbjucFcPoU"
      },
      "source": [
        "# SUGESTÃO DE ROTEIRO DE IMPLEMENTAÇÃO\n",
        "\n",
        "1. Tratamento/Pré-processamento do banco de dados. ***OK***\n",
        "\n",
        "2. Correlação entre as variáveis de um pokémon e o fato de ele ser lendário ou não. Matriz de correlação. ***OK***\n",
        "\n",
        "3. Redução de dimensionalidade, se for cabível. (Acho legal utilizar tudo) ***OK***\n",
        "\n",
        "4. Novo tratamento de dados removendo dados redundantes (variáveis que não contribuem em nada com o fato de ser lendário ou não), se for cabível.  ***OK***\n",
        "\n",
        "5. Separação dos dados em treino e teste. ***OK***\n",
        "\n",
        "6. Escolher e criar um classificador. ***OK***\n",
        "\n",
        "7. Pode-se escolher mais de um classificador e, depois, compará-los (mais conteúdo pra uma eventual apresentação -- comparar classificadores, como sugerido pelo professor). \n",
        "\n",
        "8. Análise de desempenho do classificador por meio das métricas de classificação (Accuracy, Confusion Matrix, F1 Score, F-beta Score, Precision, Recall, ROC etc.)  ***OK***\n",
        "\n",
        "9. Escolha de algum método de validação (Holdout, k-Fold, Bootstrap)**OK***\n",
        "\n",
        "10. Treino. ***OK***\n",
        "\n",
        "11. (...) \n",
        "\n",
        "12. Teste. ***OK***\n",
        " \n",
        "13. Gráficos, análises de resultados, etc... ***OK***\n",
        "\n"
      ]
    },
    {
      "cell_type": "markdown",
      "metadata": {
        "id": "U1m8Mjcv5Gkh"
      },
      "source": [
        "# PRÉ-PROCESSAMENTO DE DADOS\n",
        " * {descrição do que precisamos modificar da tabela original e, em seguida, o código para esta modificação -- caso tenha sido feito em python, claro}."
      ]
    },
    {
      "cell_type": "code",
      "execution_count": 3557,
      "metadata": {
        "colab": {
          "base_uri": "https://localhost:8080/"
        },
        "id": "641ijoAa5SfV",
        "outputId": "d92fb628-e610-49a8-c357-eb1c26d9b2b0"
      },
      "outputs": [
        {
          "output_type": "stream",
          "name": "stdout",
          "text": [
            "Looking in indexes: https://pypi.org/simple, https://us-python.pkg.dev/colab-wheels/public/simple/\n",
            "Requirement already satisfied: graphviz in /usr/local/lib/python3.7/dist-packages (0.10.1)\n",
            "/bin/bash: conda: command not found\n"
          ]
        }
      ],
      "source": [
        "!pip install graphviz # Visualizar o Grafo da Decision Tree\n",
        "\n",
        "# Talvez seja necessário utilizar no CMD do Windows\n",
        "!conda install python-graphviz\n"
      ]
    },
    {
      "cell_type": "code",
      "execution_count": 3558,
      "metadata": {
        "id": "LfKGsl8gLEWV"
      },
      "outputs": [],
      "source": [
        "#Pré-processamento de dados.\n",
        "import pandas as pd\n",
        "import numpy as np\n",
        "\n",
        "#Exibição dos dados.\n",
        "import seaborn as sns\n",
        "import matplotlib.pyplot as plt\n",
        "\n",
        "#Medição de tempo\n",
        "import time \n",
        "\n",
        "# Módulos do SKlearn \n",
        "from sklearn import tree\n",
        "import graphviz\n",
        "from sklearn.model_selection import train_test_split as tts\n",
        "from sklearn.tree import DecisionTreeClassifier as dt\n",
        "from sklearn.tree import plot_tree\n",
        "from sklearn.metrics import accuracy_score\n",
        "from sklearn.metrics import confusion_matrix\n",
        "from sklearn.metrics import ConfusionMatrixDisplay\n",
        "from sklearn.preprocessing import StandardScaler\n",
        "from sklearn.linear_model import LogisticRegression\n",
        "from sklearn.metrics import classification_report\n",
        "from sklearn.model_selection import cross_val_score\n",
        "\n",
        "%matplotlib inline\n",
        "\n",
        "#Leitura do csv com os pokemon.\n",
        "pokemon = pd.read_csv('/content/drive/MyDrive/pokemon_alopez247.csv')"
      ]
    },
    {
      "cell_type": "code",
      "execution_count": 3559,
      "metadata": {
        "colab": {
          "base_uri": "https://localhost:8080/",
          "height": 253
        },
        "id": "sae9_epf1Pxr",
        "outputId": "8b48cd46-220a-4ca8-aaaa-7e160c754d52"
      },
      "outputs": [
        {
          "output_type": "stream",
          "name": "stdout",
          "text": [
            "(721, 23)\n"
          ]
        },
        {
          "output_type": "execute_result",
          "data": {
            "text/plain": [
              "   Number        Name Type_1  Type_2  Total  HP  Attack  Defense  Sp_Atk  \\\n",
              "0       1   Bulbasaur  Grass  Poison    318  45      49       49      65   \n",
              "1       2     Ivysaur  Grass  Poison    405  60      62       63      80   \n",
              "2       3    Venusaur  Grass  Poison    525  80      82       83     100   \n",
              "3       4  Charmander   Fire     NaN    309  39      52       43      60   \n",
              "4       5  Charmeleon   Fire     NaN    405  58      64       58      80   \n",
              "\n",
              "   Sp_Def  ...  Color  hasGender  Pr_Male Egg_Group_1  Egg_Group_2  \\\n",
              "0      65  ...  Green       True    0.875     Monster        Grass   \n",
              "1      80  ...  Green       True    0.875     Monster        Grass   \n",
              "2     100  ...  Green       True    0.875     Monster        Grass   \n",
              "3      50  ...    Red       True    0.875     Monster       Dragon   \n",
              "4      65  ...    Red       True    0.875     Monster       Dragon   \n",
              "\n",
              "   hasMegaEvolution Height_m Weight_kg  Catch_Rate      Body_Style  \n",
              "0             False     0.71       6.9          45       quadruped  \n",
              "1             False     0.99      13.0          45       quadruped  \n",
              "2              True     2.01     100.0          45       quadruped  \n",
              "3             False     0.61       8.5          45  bipedal_tailed  \n",
              "4             False     1.09      19.0          45  bipedal_tailed  \n",
              "\n",
              "[5 rows x 23 columns]"
            ],
            "text/html": [
              "\n",
              "  <div id=\"df-8f645db0-0b45-4133-a973-e1a6718b7f8a\">\n",
              "    <div class=\"colab-df-container\">\n",
              "      <div>\n",
              "<style scoped>\n",
              "    .dataframe tbody tr th:only-of-type {\n",
              "        vertical-align: middle;\n",
              "    }\n",
              "\n",
              "    .dataframe tbody tr th {\n",
              "        vertical-align: top;\n",
              "    }\n",
              "\n",
              "    .dataframe thead th {\n",
              "        text-align: right;\n",
              "    }\n",
              "</style>\n",
              "<table border=\"1\" class=\"dataframe\">\n",
              "  <thead>\n",
              "    <tr style=\"text-align: right;\">\n",
              "      <th></th>\n",
              "      <th>Number</th>\n",
              "      <th>Name</th>\n",
              "      <th>Type_1</th>\n",
              "      <th>Type_2</th>\n",
              "      <th>Total</th>\n",
              "      <th>HP</th>\n",
              "      <th>Attack</th>\n",
              "      <th>Defense</th>\n",
              "      <th>Sp_Atk</th>\n",
              "      <th>Sp_Def</th>\n",
              "      <th>...</th>\n",
              "      <th>Color</th>\n",
              "      <th>hasGender</th>\n",
              "      <th>Pr_Male</th>\n",
              "      <th>Egg_Group_1</th>\n",
              "      <th>Egg_Group_2</th>\n",
              "      <th>hasMegaEvolution</th>\n",
              "      <th>Height_m</th>\n",
              "      <th>Weight_kg</th>\n",
              "      <th>Catch_Rate</th>\n",
              "      <th>Body_Style</th>\n",
              "    </tr>\n",
              "  </thead>\n",
              "  <tbody>\n",
              "    <tr>\n",
              "      <th>0</th>\n",
              "      <td>1</td>\n",
              "      <td>Bulbasaur</td>\n",
              "      <td>Grass</td>\n",
              "      <td>Poison</td>\n",
              "      <td>318</td>\n",
              "      <td>45</td>\n",
              "      <td>49</td>\n",
              "      <td>49</td>\n",
              "      <td>65</td>\n",
              "      <td>65</td>\n",
              "      <td>...</td>\n",
              "      <td>Green</td>\n",
              "      <td>True</td>\n",
              "      <td>0.875</td>\n",
              "      <td>Monster</td>\n",
              "      <td>Grass</td>\n",
              "      <td>False</td>\n",
              "      <td>0.71</td>\n",
              "      <td>6.9</td>\n",
              "      <td>45</td>\n",
              "      <td>quadruped</td>\n",
              "    </tr>\n",
              "    <tr>\n",
              "      <th>1</th>\n",
              "      <td>2</td>\n",
              "      <td>Ivysaur</td>\n",
              "      <td>Grass</td>\n",
              "      <td>Poison</td>\n",
              "      <td>405</td>\n",
              "      <td>60</td>\n",
              "      <td>62</td>\n",
              "      <td>63</td>\n",
              "      <td>80</td>\n",
              "      <td>80</td>\n",
              "      <td>...</td>\n",
              "      <td>Green</td>\n",
              "      <td>True</td>\n",
              "      <td>0.875</td>\n",
              "      <td>Monster</td>\n",
              "      <td>Grass</td>\n",
              "      <td>False</td>\n",
              "      <td>0.99</td>\n",
              "      <td>13.0</td>\n",
              "      <td>45</td>\n",
              "      <td>quadruped</td>\n",
              "    </tr>\n",
              "    <tr>\n",
              "      <th>2</th>\n",
              "      <td>3</td>\n",
              "      <td>Venusaur</td>\n",
              "      <td>Grass</td>\n",
              "      <td>Poison</td>\n",
              "      <td>525</td>\n",
              "      <td>80</td>\n",
              "      <td>82</td>\n",
              "      <td>83</td>\n",
              "      <td>100</td>\n",
              "      <td>100</td>\n",
              "      <td>...</td>\n",
              "      <td>Green</td>\n",
              "      <td>True</td>\n",
              "      <td>0.875</td>\n",
              "      <td>Monster</td>\n",
              "      <td>Grass</td>\n",
              "      <td>True</td>\n",
              "      <td>2.01</td>\n",
              "      <td>100.0</td>\n",
              "      <td>45</td>\n",
              "      <td>quadruped</td>\n",
              "    </tr>\n",
              "    <tr>\n",
              "      <th>3</th>\n",
              "      <td>4</td>\n",
              "      <td>Charmander</td>\n",
              "      <td>Fire</td>\n",
              "      <td>NaN</td>\n",
              "      <td>309</td>\n",
              "      <td>39</td>\n",
              "      <td>52</td>\n",
              "      <td>43</td>\n",
              "      <td>60</td>\n",
              "      <td>50</td>\n",
              "      <td>...</td>\n",
              "      <td>Red</td>\n",
              "      <td>True</td>\n",
              "      <td>0.875</td>\n",
              "      <td>Monster</td>\n",
              "      <td>Dragon</td>\n",
              "      <td>False</td>\n",
              "      <td>0.61</td>\n",
              "      <td>8.5</td>\n",
              "      <td>45</td>\n",
              "      <td>bipedal_tailed</td>\n",
              "    </tr>\n",
              "    <tr>\n",
              "      <th>4</th>\n",
              "      <td>5</td>\n",
              "      <td>Charmeleon</td>\n",
              "      <td>Fire</td>\n",
              "      <td>NaN</td>\n",
              "      <td>405</td>\n",
              "      <td>58</td>\n",
              "      <td>64</td>\n",
              "      <td>58</td>\n",
              "      <td>80</td>\n",
              "      <td>65</td>\n",
              "      <td>...</td>\n",
              "      <td>Red</td>\n",
              "      <td>True</td>\n",
              "      <td>0.875</td>\n",
              "      <td>Monster</td>\n",
              "      <td>Dragon</td>\n",
              "      <td>False</td>\n",
              "      <td>1.09</td>\n",
              "      <td>19.0</td>\n",
              "      <td>45</td>\n",
              "      <td>bipedal_tailed</td>\n",
              "    </tr>\n",
              "  </tbody>\n",
              "</table>\n",
              "<p>5 rows × 23 columns</p>\n",
              "</div>\n",
              "      <button class=\"colab-df-convert\" onclick=\"convertToInteractive('df-8f645db0-0b45-4133-a973-e1a6718b7f8a')\"\n",
              "              title=\"Convert this dataframe to an interactive table.\"\n",
              "              style=\"display:none;\">\n",
              "        \n",
              "  <svg xmlns=\"http://www.w3.org/2000/svg\" height=\"24px\"viewBox=\"0 0 24 24\"\n",
              "       width=\"24px\">\n",
              "    <path d=\"M0 0h24v24H0V0z\" fill=\"none\"/>\n",
              "    <path d=\"M18.56 5.44l.94 2.06.94-2.06 2.06-.94-2.06-.94-.94-2.06-.94 2.06-2.06.94zm-11 1L8.5 8.5l.94-2.06 2.06-.94-2.06-.94L8.5 2.5l-.94 2.06-2.06.94zm10 10l.94 2.06.94-2.06 2.06-.94-2.06-.94-.94-2.06-.94 2.06-2.06.94z\"/><path d=\"M17.41 7.96l-1.37-1.37c-.4-.4-.92-.59-1.43-.59-.52 0-1.04.2-1.43.59L10.3 9.45l-7.72 7.72c-.78.78-.78 2.05 0 2.83L4 21.41c.39.39.9.59 1.41.59.51 0 1.02-.2 1.41-.59l7.78-7.78 2.81-2.81c.8-.78.8-2.07 0-2.86zM5.41 20L4 18.59l7.72-7.72 1.47 1.35L5.41 20z\"/>\n",
              "  </svg>\n",
              "      </button>\n",
              "      \n",
              "  <style>\n",
              "    .colab-df-container {\n",
              "      display:flex;\n",
              "      flex-wrap:wrap;\n",
              "      gap: 12px;\n",
              "    }\n",
              "\n",
              "    .colab-df-convert {\n",
              "      background-color: #E8F0FE;\n",
              "      border: none;\n",
              "      border-radius: 50%;\n",
              "      cursor: pointer;\n",
              "      display: none;\n",
              "      fill: #1967D2;\n",
              "      height: 32px;\n",
              "      padding: 0 0 0 0;\n",
              "      width: 32px;\n",
              "    }\n",
              "\n",
              "    .colab-df-convert:hover {\n",
              "      background-color: #E2EBFA;\n",
              "      box-shadow: 0px 1px 2px rgba(60, 64, 67, 0.3), 0px 1px 3px 1px rgba(60, 64, 67, 0.15);\n",
              "      fill: #174EA6;\n",
              "    }\n",
              "\n",
              "    [theme=dark] .colab-df-convert {\n",
              "      background-color: #3B4455;\n",
              "      fill: #D2E3FC;\n",
              "    }\n",
              "\n",
              "    [theme=dark] .colab-df-convert:hover {\n",
              "      background-color: #434B5C;\n",
              "      box-shadow: 0px 1px 3px 1px rgba(0, 0, 0, 0.15);\n",
              "      filter: drop-shadow(0px 1px 2px rgba(0, 0, 0, 0.3));\n",
              "      fill: #FFFFFF;\n",
              "    }\n",
              "  </style>\n",
              "\n",
              "      <script>\n",
              "        const buttonEl =\n",
              "          document.querySelector('#df-8f645db0-0b45-4133-a973-e1a6718b7f8a button.colab-df-convert');\n",
              "        buttonEl.style.display =\n",
              "          google.colab.kernel.accessAllowed ? 'block' : 'none';\n",
              "\n",
              "        async function convertToInteractive(key) {\n",
              "          const element = document.querySelector('#df-8f645db0-0b45-4133-a973-e1a6718b7f8a');\n",
              "          const dataTable =\n",
              "            await google.colab.kernel.invokeFunction('convertToInteractive',\n",
              "                                                     [key], {});\n",
              "          if (!dataTable) return;\n",
              "\n",
              "          const docLinkHtml = 'Like what you see? Visit the ' +\n",
              "            '<a target=\"_blank\" href=https://colab.research.google.com/notebooks/data_table.ipynb>data table notebook</a>'\n",
              "            + ' to learn more about interactive tables.';\n",
              "          element.innerHTML = '';\n",
              "          dataTable['output_type'] = 'display_data';\n",
              "          await google.colab.output.renderOutput(dataTable, element);\n",
              "          const docLink = document.createElement('div');\n",
              "          docLink.innerHTML = docLinkHtml;\n",
              "          element.appendChild(docLink);\n",
              "        }\n",
              "      </script>\n",
              "    </div>\n",
              "  </div>\n",
              "  "
            ]
          },
          "metadata": {},
          "execution_count": 3559
        }
      ],
      "source": [
        "print(pokemon.shape)\n",
        "pokemon.head()"
      ]
    },
    {
      "cell_type": "code",
      "execution_count": 3560,
      "metadata": {
        "colab": {
          "base_uri": "https://localhost:8080/"
        },
        "id": "qL4tJfTtP5wx",
        "outputId": "91cb7978-6600-4d98-909e-4def717ddaf0"
      },
      "outputs": [
        {
          "output_type": "execute_result",
          "data": {
            "text/plain": [
              "Number                0\n",
              "Name                  0\n",
              "Type_1                0\n",
              "Type_2              371\n",
              "Total                 0\n",
              "HP                    0\n",
              "Attack                0\n",
              "Defense               0\n",
              "Sp_Atk                0\n",
              "Sp_Def                0\n",
              "Speed                 0\n",
              "Generation            0\n",
              "isLegendary           0\n",
              "Color                 0\n",
              "hasGender             0\n",
              "Pr_Male              77\n",
              "Egg_Group_1           0\n",
              "Egg_Group_2         530\n",
              "hasMegaEvolution      0\n",
              "Height_m              0\n",
              "Weight_kg             0\n",
              "Catch_Rate            0\n",
              "Body_Style            0\n",
              "dtype: int64"
            ]
          },
          "metadata": {},
          "execution_count": 3560
        }
      ],
      "source": [
        "#Análise de quais dados são NULL.\n",
        "pokemon.isnull().sum()"
      ]
    },
    {
      "cell_type": "markdown",
      "metadata": {
        "id": "YXK6Nuaul80e"
      },
      "source": [
        "Lidando com dados Null"
      ]
    },
    {
      "cell_type": "code",
      "execution_count": 3561,
      "metadata": {
        "colab": {
          "base_uri": "https://localhost:8080/"
        },
        "id": "L4QYOSjTQFLW",
        "outputId": "3061a5f0-24b4-4b94-a791-4cd048d5aa56"
      },
      "outputs": [
        {
          "output_type": "execute_result",
          "data": {
            "text/plain": [
              "Number              0\n",
              "Name                0\n",
              "Type_1              0\n",
              "Total               0\n",
              "HP                  0\n",
              "Attack              0\n",
              "Defense             0\n",
              "Sp_Atk              0\n",
              "Sp_Def              0\n",
              "Speed               0\n",
              "Generation          0\n",
              "isLegendary         0\n",
              "Color               0\n",
              "hasGender           0\n",
              "Pr_Male             0\n",
              "Egg_Group_1         0\n",
              "hasMegaEvolution    0\n",
              "Height_m            0\n",
              "Weight_kg           0\n",
              "Catch_Rate          0\n",
              "Body_Style          0\n",
              "dtype: int64"
            ]
          },
          "metadata": {},
          "execution_count": 3561
        }
      ],
      "source": [
        "#preenchendo os campos nulos de Pr_Male com 0,5 para pokemons que possuem a Feature \"hasGender\" = False \n",
        "pokemon['Pr_Male'] = pokemon['Pr_Male'].fillna(0.5) \n",
        "pokemon= pokemon.drop(['Egg_Group_2', 'Type_2'], axis=1)\n",
        "\n",
        "pokemon.isnull().sum()"
      ]
    },
    {
      "cell_type": "markdown",
      "source": [
        "Sem dados NULL podemos prosseguir com o pré-processamento"
      ],
      "metadata": {
        "id": "zYzwMdOZKTU_"
      }
    },
    {
      "cell_type": "code",
      "execution_count": 3562,
      "metadata": {
        "colab": {
          "base_uri": "https://localhost:8080/",
          "height": 949
        },
        "id": "YHjeoV-hqRak",
        "outputId": "b6bc6121-4231-4999-82ee-dc35e2d2c067"
      },
      "outputs": [
        {
          "output_type": "display_data",
          "data": {
            "text/plain": [
              "<Figure size 1080x1080 with 2 Axes>"
            ],
            "image/png": "[encoded data removed]"
          },
          "metadata": {
            "needs_background": "light"
          }
        }
      ],
      "source": [
        "# Imprimindo a matriz que mostra a correlação entre os dados\n",
        "plt.figure(figsize=(15,15))\n",
        "dataplot=sns.heatmap(pokemon.corr(), annot=True)"
      ]
    },
    {
      "cell_type": "markdown",
      "metadata": {
        "id": "QHv72Tyg092C"
      },
      "source": [
        "Imprimindo a matriz de correlação entre os dados numéricos e booleanos do dataset, foi possível extrair algumas informações interessantes, que têm um sentido intuitivo. Por exemplo, há uma enorme correlação entre o número do Pokémon e sua geração, o que é esperado, já que a cada geração são lançados x Pokemón; outro dado interessante, é que há uma correlação negativa, porém considerável entre os atributos \"isLegendary\" e \"Catch_Rate\", o que é coerente, já que Pokemón lendários são raros.\n",
        "\n",
        "---\n",
        "\n"
      ]
    },
    {
      "cell_type": "code",
      "execution_count": 3563,
      "metadata": {
        "colab": {
          "base_uri": "https://localhost:8080/",
          "height": 206
        },
        "id": "QC8wdihiyoHx",
        "outputId": "b2d2accb-168c-4f53-933f-a4fa7a369f36"
      },
      "outputs": [
        {
          "output_type": "execute_result",
          "data": {
            "text/plain": [
              "         isLegendary\n",
              "Number      0.135022\n",
              "Total       0.481837\n",
              "HP          0.258926\n",
              "Attack      0.302786\n",
              "Defense     0.274446"
            ],
            "text/html": [
              "\n",
              "  <div id=\"df-5f534932-376f-4454-9c42-0ffa22ea3e71\">\n",
              "    <div class=\"colab-df-container\">\n",
              "      <div>\n",
              "<style scoped>\n",
              "    .dataframe tbody tr th:only-of-type {\n",
              "        vertical-align: middle;\n",
              "    }\n",
              "\n",
              "    .dataframe tbody tr th {\n",
              "        vertical-align: top;\n",
              "    }\n",
              "\n",
              "    .dataframe thead th {\n",
              "        text-align: right;\n",
              "    }\n",
              "</style>\n",
              "<table border=\"1\" class=\"dataframe\">\n",
              "  <thead>\n",
              "    <tr style=\"text-align: right;\">\n",
              "      <th></th>\n",
              "      <th>isLegendary</th>\n",
              "    </tr>\n",
              "  </thead>\n",
              "  <tbody>\n",
              "    <tr>\n",
              "      <th>Number</th>\n",
              "      <td>0.135022</td>\n",
              "    </tr>\n",
              "    <tr>\n",
              "      <th>Total</th>\n",
              "      <td>0.481837</td>\n",
              "    </tr>\n",
              "    <tr>\n",
              "      <th>HP</th>\n",
              "      <td>0.258926</td>\n",
              "    </tr>\n",
              "    <tr>\n",
              "      <th>Attack</th>\n",
              "      <td>0.302786</td>\n",
              "    </tr>\n",
              "    <tr>\n",
              "      <th>Defense</th>\n",
              "      <td>0.274446</td>\n",
              "    </tr>\n",
              "  </tbody>\n",
              "</table>\n",
              "</div>\n",
              "      <button class=\"colab-df-convert\" onclick=\"convertToInteractive('df-5f534932-376f-4454-9c42-0ffa22ea3e71')\"\n",
              "              title=\"Convert this dataframe to an interactive table.\"\n",
              "              style=\"display:none;\">\n",
              "        \n",
              "  <svg xmlns=\"http://www.w3.org/2000/svg\" height=\"24px\"viewBox=\"0 0 24 24\"\n",
              "       width=\"24px\">\n",
              "    <path d=\"M0 0h24v24H0V0z\" fill=\"none\"/>\n",
              "    <path d=\"M18.56 5.44l.94 2.06.94-2.06 2.06-.94-2.06-.94-.94-2.06-.94 2.06-2.06.94zm-11 1L8.5 8.5l.94-2.06 2.06-.94-2.06-.94L8.5 2.5l-.94 2.06-2.06.94zm10 10l.94 2.06.94-2.06 2.06-.94-2.06-.94-.94-2.06-.94 2.06-2.06.94z\"/><path d=\"M17.41 7.96l-1.37-1.37c-.4-.4-.92-.59-1.43-.59-.52 0-1.04.2-1.43.59L10.3 9.45l-7.72 7.72c-.78.78-.78 2.05 0 2.83L4 21.41c.39.39.9.59 1.41.59.51 0 1.02-.2 1.41-.59l7.78-7.78 2.81-2.81c.8-.78.8-2.07 0-2.86zM5.41 20L4 18.59l7.72-7.72 1.47 1.35L5.41 20z\"/>\n",
              "  </svg>\n",
              "      </button>\n",
              "      \n",
              "  <style>\n",
              "    .colab-df-container {\n",
              "      display:flex;\n",
              "      flex-wrap:wrap;\n",
              "      gap: 12px;\n",
              "    }\n",
              "\n",
              "    .colab-df-convert {\n",
              "      background-color: #E8F0FE;\n",
              "      border: none;\n",
              "      border-radius: 50%;\n",
              "      cursor: pointer;\n",
              "      display: none;\n",
              "      fill: #1967D2;\n",
              "      height: 32px;\n",
              "      padding: 0 0 0 0;\n",
              "      width: 32px;\n",
              "    }\n",
              "\n",
              "    .colab-df-convert:hover {\n",
              "      background-color: #E2EBFA;\n",
              "      box-shadow: 0px 1px 2px rgba(60, 64, 67, 0.3), 0px 1px 3px 1px rgba(60, 64, 67, 0.15);\n",
              "      fill: #174EA6;\n",
              "    }\n",
              "\n",
              "    [theme=dark] .colab-df-convert {\n",
              "      background-color: #3B4455;\n",
              "      fill: #D2E3FC;\n",
              "    }\n",
              "\n",
              "    [theme=dark] .colab-df-convert:hover {\n",
              "      background-color: #434B5C;\n",
              "      box-shadow: 0px 1px 3px 1px rgba(0, 0, 0, 0.15);\n",
              "      filter: drop-shadow(0px 1px 2px rgba(0, 0, 0, 0.3));\n",
              "      fill: #FFFFFF;\n",
              "    }\n",
              "  </style>\n",
              "\n",
              "      <script>\n",
              "        const buttonEl =\n",
              "          document.querySelector('#df-5f534932-376f-4454-9c42-0ffa22ea3e71 button.colab-df-convert');\n",
              "        buttonEl.style.display =\n",
              "          google.colab.kernel.accessAllowed ? 'block' : 'none';\n",
              "\n",
              "        async function convertToInteractive(key) {\n",
              "          const element = document.querySelector('#df-5f534932-376f-4454-9c42-0ffa22ea3e71');\n",
              "          const dataTable =\n",
              "            await google.colab.kernel.invokeFunction('convertToInteractive',\n",
              "                                                     [key], {});\n",
              "          if (!dataTable) return;\n",
              "\n",
              "          const docLinkHtml = 'Like what you see? Visit the ' +\n",
              "            '<a target=\"_blank\" href=https://colab.research.google.com/notebooks/data_table.ipynb>data table notebook</a>'\n",
              "            + ' to learn more about interactive tables.';\n",
              "          element.innerHTML = '';\n",
              "          dataTable['output_type'] = 'display_data';\n",
              "          await google.colab.output.renderOutput(dataTable, element);\n",
              "          const docLink = document.createElement('div');\n",
              "          docLink.innerHTML = docLinkHtml;\n",
              "          element.appendChild(docLink);\n",
              "        }\n",
              "      </script>\n",
              "    </div>\n",
              "  </div>\n",
              "  "
            ]
          },
          "metadata": {},
          "execution_count": 3563
        }
      ],
      "source": [
        "#Extraindo somente os dados de correlação relacionados à ser ou não lendário\n",
        "corr= pokemon.corr()\n",
        "corr=(corr[['isLegendary']]).abs()\n",
        "corr.head()"
      ]
    },
    {
      "cell_type": "markdown",
      "metadata": {
        "id": "qE0FK-rC7dX6"
      },
      "source": [
        "A tabela acima apresenta as features correlacionadas com a feature isLegendary, de forma que seria possível realizar a exclusão de features menos relevantes. Optou-se por mantê-las para avaliação dos resultados."
      ]
    },
    {
      "cell_type": "code",
      "execution_count": 3564,
      "metadata": {
        "colab": {
          "base_uri": "https://localhost:8080/"
        },
        "id": "OIHwPO7F2tHm",
        "outputId": "19abada4-40b6-4028-88dc-c56e3981f68a"
      },
      "outputs": [
        {
          "output_type": "stream",
          "name": "stdout",
          "text": [
            "(721, 21)\n",
            "<class 'pandas.core.frame.DataFrame'>\n",
            "RangeIndex: 721 entries, 0 to 720\n",
            "Data columns (total 21 columns):\n",
            " #   Column            Non-Null Count  Dtype  \n",
            "---  ------            --------------  -----  \n",
            " 0   Number            721 non-null    int64  \n",
            " 1   Name              721 non-null    object \n",
            " 2   Type_1            721 non-null    object \n",
            " 3   Total             721 non-null    int64  \n",
            " 4   HP                721 non-null    int64  \n",
            " 5   Attack            721 non-null    int64  \n",
            " 6   Defense           721 non-null    int64  \n",
            " 7   Sp_Atk            721 non-null    int64  \n",
            " 8   Sp_Def            721 non-null    int64  \n",
            " 9   Speed             721 non-null    int64  \n",
            " 10  Generation        721 non-null    int64  \n",
            " 11  isLegendary       721 non-null    bool   \n",
            " 12  Color             721 non-null    object \n",
            " 13  hasGender         721 non-null    bool   \n",
            " 14  Pr_Male           721 non-null    float64\n",
            " 15  Egg_Group_1       721 non-null    object \n",
            " 16  hasMegaEvolution  721 non-null    bool   \n",
            " 17  Height_m          721 non-null    float64\n",
            " 18  Weight_kg         721 non-null    float64\n",
            " 19  Catch_Rate        721 non-null    int64  \n",
            " 20  Body_Style        721 non-null    object \n",
            "dtypes: bool(3), float64(3), int64(10), object(5)\n",
            "memory usage: 103.6+ KB\n"
          ]
        }
      ],
      "source": [
        "print(pokemon.shape)\n",
        "pokemon.info()"
      ]
    },
    {
      "cell_type": "markdown",
      "metadata": {
        "id": "ycocB9kN7xys"
      },
      "source": [
        "Após lidar com os dados null, é necessário transformar os dados categóricos restantes, representados como \"object\", em dados que possam ser lidos pelo algoritmo. Sendo assim, estes serão transformados ou em booleanos ou entradas numéricas. Os dados que possuem essa categoria são: **Type_1, Name, Egg_Group, Body_Style e Color**, conforme explicitado na tabela acima. Iniciando por **Type_1**:"
      ]
    },
    {
      "cell_type": "code",
      "execution_count": 3565,
      "metadata": {
        "colab": {
          "base_uri": "https://localhost:8080/",
          "height": 625
        },
        "id": "K4I3_8ut592v",
        "outputId": "a4f27f32-c3d0-4d46-de5b-7666b350da7e"
      },
      "outputs": [
        {
          "output_type": "stream",
          "name": "stdout",
          "text": [
            "Antes da mescla\n",
            "____________\n"
          ]
        },
        {
          "output_type": "display_data",
          "data": {
            "text/plain": [
              "Water       105\n",
              "Normal       93\n",
              "Grass        66\n",
              "Bug          63\n",
              "Fire         47\n",
              "Psychic      47\n",
              "Rock         41\n",
              "Electric     36\n",
              "Ground       30\n",
              "Poison       28\n",
              "Dark         28\n",
              "Fighting     25\n",
              "Dragon       24\n",
              "Ghost        23\n",
              "Ice          23\n",
              "Steel        22\n",
              "Fairy        17\n",
              "Flying        3\n",
              "Name: Type_1, dtype: int64"
            ]
          },
          "metadata": {}
        },
        {
          "output_type": "stream",
          "name": "stdout",
          "text": [
            "____________\n",
            "Após a mescla\n"
          ]
        },
        {
          "output_type": "display_data",
          "data": {
            "text/plain": [
              "Grass       157\n",
              "Water       128\n",
              "Dark         98\n",
              "Normal       93\n",
              "Rock         71\n",
              "Electric     58\n",
              "Fire         47\n",
              "Fighting     25\n",
              "Dragon       24\n",
              "Fairy        17\n",
              "Flying        3\n",
              "Name: Type_1, dtype: int64"
            ]
          },
          "metadata": {}
        }
      ],
      "source": [
        "#Contagem de quantas entradas tem em cada tipo de pokémon.\n",
        "print(\"Antes da mescla\")\n",
        "print(\"____________\")\n",
        "display((pokemon['Type_1'].value_counts()))\n",
        "\n",
        "#Conversão para reduzir os tipos de pokémon tratados.\n",
        "pokemon = pokemon.replace(['Water','Ice'], 'Water')\n",
        "pokemon = pokemon.replace(['Grass','Bug','Poison'], 'Grass')\n",
        "pokemon = pokemon.replace(['Psychic','Dark','Ghost'], 'Dark')\n",
        "pokemon = pokemon.replace(['Electric','Steel'], 'Electric')\n",
        "pokemon = pokemon.replace(['Rock','Ground'], 'Rock')\n",
        "\n",
        "print(\"____________\")\n",
        "print(\"Após a mescla\")\n",
        "display((pokemon['Type_1'].value_counts()))\n"
      ]
    },
    {
      "cell_type": "markdown",
      "metadata": {
        "id": "syJN1_B293JL"
      },
      "source": [
        "Feito isso, cada tipo será transformado em uma nova feature, ou seja, a feature que era categórica agora será dividida em onze novas features, assim, pode-se remover a antiga coluna **Type_1**."
      ]
    },
    {
      "cell_type": "code",
      "execution_count": 3566,
      "metadata": {
        "colab": {
          "base_uri": "https://localhost:8080/",
          "height": 270
        },
        "id": "h2zqGkAQ7wAj",
        "outputId": "3b705629-7c16-4765-a3f3-b5c914b21612"
      },
      "outputs": [
        {
          "output_type": "stream",
          "name": "stdout",
          "text": [
            "(721, 11)\n",
            "(721, 31)\n"
          ]
        },
        {
          "output_type": "execute_result",
          "data": {
            "text/plain": [
              "   Number        Name  Total  HP  Attack  Defense  Sp_Atk  Sp_Def  Speed  \\\n",
              "0       1   Bulbasaur    318  45      49       49      65      65     45   \n",
              "1       2     Ivysaur    405  60      62       63      80      80     60   \n",
              "2       3    Venusaur    525  80      82       83     100     100     80   \n",
              "3       4  Charmander    309  39      52       43      60      50     65   \n",
              "4       5  Charmeleon    405  58      64       58      80      65     80   \n",
              "\n",
              "   Generation  ...  Dragon Electric  Fairy  Fighting Fire  Flying  Grass  \\\n",
              "0           1  ...       0        0      0         0    0       0      1   \n",
              "1           1  ...       0        0      0         0    0       0      1   \n",
              "2           1  ...       0        0      0         0    0       0      1   \n",
              "3           1  ...       0        0      0         0    1       0      0   \n",
              "4           1  ...       0        0      0         0    1       0      0   \n",
              "\n",
              "   Normal  Rock Water  \n",
              "0       0     0     0  \n",
              "1       0     0     0  \n",
              "2       0     0     0  \n",
              "3       0     0     0  \n",
              "4       0     0     0  \n",
              "\n",
              "[5 rows x 31 columns]"
            ],
            "text/html": [
              "\n",
              "  <div id=\"df-1f7507f8-a97b-4c10-ae3d-c42471c24960\">\n",
              "    <div class=\"colab-df-container\">\n",
              "      <div>\n",
              "<style scoped>\n",
              "    .dataframe tbody tr th:only-of-type {\n",
              "        vertical-align: middle;\n",
              "    }\n",
              "\n",
              "    .dataframe tbody tr th {\n",
              "        vertical-align: top;\n",
              "    }\n",
              "\n",
              "    .dataframe thead th {\n",
              "        text-align: right;\n",
              "    }\n",
              "</style>\n",
              "<table border=\"1\" class=\"dataframe\">\n",
              "  <thead>\n",
              "    <tr style=\"text-align: right;\">\n",
              "      <th></th>\n",
              "      <th>Number</th>\n",
              "      <th>Name</th>\n",
              "      <th>Total</th>\n",
              "      <th>HP</th>\n",
              "      <th>Attack</th>\n",
              "      <th>Defense</th>\n",
              "      <th>Sp_Atk</th>\n",
              "      <th>Sp_Def</th>\n",
              "      <th>Speed</th>\n",
              "      <th>Generation</th>\n",
              "      <th>...</th>\n",
              "      <th>Dragon</th>\n",
              "      <th>Electric</th>\n",
              "      <th>Fairy</th>\n",
              "      <th>Fighting</th>\n",
              "      <th>Fire</th>\n",
              "      <th>Flying</th>\n",
              "      <th>Grass</th>\n",
              "      <th>Normal</th>\n",
              "      <th>Rock</th>\n",
              "      <th>Water</th>\n",
              "    </tr>\n",
              "  </thead>\n",
              "  <tbody>\n",
              "    <tr>\n",
              "      <th>0</th>\n",
              "      <td>1</td>\n",
              "      <td>Bulbasaur</td>\n",
              "      <td>318</td>\n",
              "      <td>45</td>\n",
              "      <td>49</td>\n",
              "      <td>49</td>\n",
              "      <td>65</td>\n",
              "      <td>65</td>\n",
              "      <td>45</td>\n",
              "      <td>1</td>\n",
              "      <td>...</td>\n",
              "      <td>0</td>\n",
              "      <td>0</td>\n",
              "      <td>0</td>\n",
              "      <td>0</td>\n",
              "      <td>0</td>\n",
              "      <td>0</td>\n",
              "      <td>1</td>\n",
              "      <td>0</td>\n",
              "      <td>0</td>\n",
              "      <td>0</td>\n",
              "    </tr>\n",
              "    <tr>\n",
              "      <th>1</th>\n",
              "      <td>2</td>\n",
              "      <td>Ivysaur</td>\n",
              "      <td>405</td>\n",
              "      <td>60</td>\n",
              "      <td>62</td>\n",
              "      <td>63</td>\n",
              "      <td>80</td>\n",
              "      <td>80</td>\n",
              "      <td>60</td>\n",
              "      <td>1</td>\n",
              "      <td>...</td>\n",
              "      <td>0</td>\n",
              "      <td>0</td>\n",
              "      <td>0</td>\n",
              "      <td>0</td>\n",
              "      <td>0</td>\n",
              "      <td>0</td>\n",
              "      <td>1</td>\n",
              "      <td>0</td>\n",
              "      <td>0</td>\n",
              "      <td>0</td>\n",
              "    </tr>\n",
              "    <tr>\n",
              "      <th>2</th>\n",
              "      <td>3</td>\n",
              "      <td>Venusaur</td>\n",
              "      <td>525</td>\n",
              "      <td>80</td>\n",
              "      <td>82</td>\n",
              "      <td>83</td>\n",
              "      <td>100</td>\n",
              "      <td>100</td>\n",
              "      <td>80</td>\n",
              "      <td>1</td>\n",
              "      <td>...</td>\n",
              "      <td>0</td>\n",
              "      <td>0</td>\n",
              "      <td>0</td>\n",
              "      <td>0</td>\n",
              "      <td>0</td>\n",
              "      <td>0</td>\n",
              "      <td>1</td>\n",
              "      <td>0</td>\n",
              "      <td>0</td>\n",
              "      <td>0</td>\n",
              "    </tr>\n",
              "    <tr>\n",
              "      <th>3</th>\n",
              "      <td>4</td>\n",
              "      <td>Charmander</td>\n",
              "      <td>309</td>\n",
              "      <td>39</td>\n",
              "      <td>52</td>\n",
              "      <td>43</td>\n",
              "      <td>60</td>\n",
              "      <td>50</td>\n",
              "      <td>65</td>\n",
              "      <td>1</td>\n",
              "      <td>...</td>\n",
              "      <td>0</td>\n",
              "      <td>0</td>\n",
              "      <td>0</td>\n",
              "      <td>0</td>\n",
              "      <td>1</td>\n",
              "      <td>0</td>\n",
              "      <td>0</td>\n",
              "      <td>0</td>\n",
              "      <td>0</td>\n",
              "      <td>0</td>\n",
              "    </tr>\n",
              "    <tr>\n",
              "      <th>4</th>\n",
              "      <td>5</td>\n",
              "      <td>Charmeleon</td>\n",
              "      <td>405</td>\n",
              "      <td>58</td>\n",
              "      <td>64</td>\n",
              "      <td>58</td>\n",
              "      <td>80</td>\n",
              "      <td>65</td>\n",
              "      <td>80</td>\n",
              "      <td>1</td>\n",
              "      <td>...</td>\n",
              "      <td>0</td>\n",
              "      <td>0</td>\n",
              "      <td>0</td>\n",
              "      <td>0</td>\n",
              "      <td>1</td>\n",
              "      <td>0</td>\n",
              "      <td>0</td>\n",
              "      <td>0</td>\n",
              "      <td>0</td>\n",
              "      <td>0</td>\n",
              "    </tr>\n",
              "  </tbody>\n",
              "</table>\n",
              "<p>5 rows × 31 columns</p>\n",
              "</div>\n",
              "      <button class=\"colab-df-convert\" onclick=\"convertToInteractive('df-1f7507f8-a97b-4c10-ae3d-c42471c24960')\"\n",
              "              title=\"Convert this dataframe to an interactive table.\"\n",
              "              style=\"display:none;\">\n",
              "        \n",
              "  <svg xmlns=\"http://www.w3.org/2000/svg\" height=\"24px\"viewBox=\"0 0 24 24\"\n",
              "       width=\"24px\">\n",
              "    <path d=\"M0 0h24v24H0V0z\" fill=\"none\"/>\n",
              "    <path d=\"M18.56 5.44l.94 2.06.94-2.06 2.06-.94-2.06-.94-.94-2.06-.94 2.06-2.06.94zm-11 1L8.5 8.5l.94-2.06 2.06-.94-2.06-.94L8.5 2.5l-.94 2.06-2.06.94zm10 10l.94 2.06.94-2.06 2.06-.94-2.06-.94-.94-2.06-.94 2.06-2.06.94z\"/><path d=\"M17.41 7.96l-1.37-1.37c-.4-.4-.92-.59-1.43-.59-.52 0-1.04.2-1.43.59L10.3 9.45l-7.72 7.72c-.78.78-.78 2.05 0 2.83L4 21.41c.39.39.9.59 1.41.59.51 0 1.02-.2 1.41-.59l7.78-7.78 2.81-2.81c.8-.78.8-2.07 0-2.86zM5.41 20L4 18.59l7.72-7.72 1.47 1.35L5.41 20z\"/>\n",
              "  </svg>\n",
              "      </button>\n",
              "      \n",
              "  <style>\n",
              "    .colab-df-container {\n",
              "      display:flex;\n",
              "      flex-wrap:wrap;\n",
              "      gap: 12px;\n",
              "    }\n",
              "\n",
              "    .colab-df-convert {\n",
              "      background-color: #E8F0FE;\n",
              "      border: none;\n",
              "      border-radius: 50%;\n",
              "      cursor: pointer;\n",
              "      display: none;\n",
              "      fill: #1967D2;\n",
              "      height: 32px;\n",
              "      padding: 0 0 0 0;\n",
              "      width: 32px;\n",
              "    }\n",
              "\n",
              "    .colab-df-convert:hover {\n",
              "      background-color: #E2EBFA;\n",
              "      box-shadow: 0px 1px 2px rgba(60, 64, 67, 0.3), 0px 1px 3px 1px rgba(60, 64, 67, 0.15);\n",
              "      fill: #174EA6;\n",
              "    }\n",
              "\n",
              "    [theme=dark] .colab-df-convert {\n",
              "      background-color: #3B4455;\n",
              "      fill: #D2E3FC;\n",
              "    }\n",
              "\n",
              "    [theme=dark] .colab-df-convert:hover {\n",
              "      background-color: #434B5C;\n",
              "      box-shadow: 0px 1px 3px 1px rgba(0, 0, 0, 0.15);\n",
              "      filter: drop-shadow(0px 1px 2px rgba(0, 0, 0, 0.3));\n",
              "      fill: #FFFFFF;\n",
              "    }\n",
              "  </style>\n",
              "\n",
              "      <script>\n",
              "        const buttonEl =\n",
              "          document.querySelector('#df-1f7507f8-a97b-4c10-ae3d-c42471c24960 button.colab-df-convert');\n",
              "        buttonEl.style.display =\n",
              "          google.colab.kernel.accessAllowed ? 'block' : 'none';\n",
              "\n",
              "        async function convertToInteractive(key) {\n",
              "          const element = document.querySelector('#df-1f7507f8-a97b-4c10-ae3d-c42471c24960');\n",
              "          const dataTable =\n",
              "            await google.colab.kernel.invokeFunction('convertToInteractive',\n",
              "                                                     [key], {});\n",
              "          if (!dataTable) return;\n",
              "\n",
              "          const docLinkHtml = 'Like what you see? Visit the ' +\n",
              "            '<a target=\"_blank\" href=https://colab.research.google.com/notebooks/data_table.ipynb>data table notebook</a>'\n",
              "            + ' to learn more about interactive tables.';\n",
              "          element.innerHTML = '';\n",
              "          dataTable['output_type'] = 'display_data';\n",
              "          await google.colab.output.renderOutput(dataTable, element);\n",
              "          const docLink = document.createElement('div');\n",
              "          docLink.innerHTML = docLinkHtml;\n",
              "          element.appendChild(docLink);\n",
              "        }\n",
              "      </script>\n",
              "    </div>\n",
              "  </div>\n",
              "  "
            ]
          },
          "metadata": {},
          "execution_count": 3566
        }
      ],
      "source": [
        "#Gerando um novo dataframe com cada feature sendo um dos onze tipos.\n",
        "Poke_Type = pd.get_dummies(pokemon['Type_1'])\n",
        "\n",
        "#Novo dataframe com as novas features.\n",
        "Poke = pd.concat([pokemon,Poke_Type], axis=1)\n",
        "\n",
        "#Removendo a antiga feature (que informava o tipo do pokémon).\n",
        "Poke = Poke.drop(['Type_1'], axis=1)\n",
        "\n",
        "#Visualizando shape.\n",
        "print(Poke_Type.shape)\n",
        "print(Poke.shape)\n",
        "\n",
        "#Visualizando os dados.\n",
        "Poke.head()"
      ]
    },
    {
      "cell_type": "markdown",
      "metadata": {
        "id": "lge2kR0dSEmN"
      },
      "source": [
        "A feature **Names** será removida dado que o algoritmo lida com dados numéricos, porém preservada para que possamos utiizá-la posteriormente para identificar os Pokemon que foram classificados incorretamente no final do algoritmo"
      ]
    },
    {
      "cell_type": "code",
      "execution_count": 3567,
      "metadata": {
        "colab": {
          "base_uri": "https://localhost:8080/",
          "height": 224
        },
        "id": "tC_6lYtNSD9S",
        "outputId": "61d399c2-a74a-4e68-af9c-47105b33ab63"
      },
      "outputs": [
        {
          "output_type": "stream",
          "name": "stdout",
          "text": [
            "(721, 30)\n"
          ]
        },
        {
          "output_type": "execute_result",
          "data": {
            "text/plain": [
              "         Name\n",
              "0   Bulbasaur\n",
              "1     Ivysaur\n",
              "2    Venusaur\n",
              "3  Charmander\n",
              "4  Charmeleon"
            ],
            "text/html": [
              "\n",
              "  <div id=\"df-21de724d-2336-464d-927a-83c5aff909c5\">\n",
              "    <div class=\"colab-df-container\">\n",
              "      <div>\n",
              "<style scoped>\n",
              "    .dataframe tbody tr th:only-of-type {\n",
              "        vertical-align: middle;\n",
              "    }\n",
              "\n",
              "    .dataframe tbody tr th {\n",
              "        vertical-align: top;\n",
              "    }\n",
              "\n",
              "    .dataframe thead th {\n",
              "        text-align: right;\n",
              "    }\n",
              "</style>\n",
              "<table border=\"1\" class=\"dataframe\">\n",
              "  <thead>\n",
              "    <tr style=\"text-align: right;\">\n",
              "      <th></th>\n",
              "      <th>Name</th>\n",
              "    </tr>\n",
              "  </thead>\n",
              "  <tbody>\n",
              "    <tr>\n",
              "      <th>0</th>\n",
              "      <td>Bulbasaur</td>\n",
              "    </tr>\n",
              "    <tr>\n",
              "      <th>1</th>\n",
              "      <td>Ivysaur</td>\n",
              "    </tr>\n",
              "    <tr>\n",
              "      <th>2</th>\n",
              "      <td>Venusaur</td>\n",
              "    </tr>\n",
              "    <tr>\n",
              "      <th>3</th>\n",
              "      <td>Charmander</td>\n",
              "    </tr>\n",
              "    <tr>\n",
              "      <th>4</th>\n",
              "      <td>Charmeleon</td>\n",
              "    </tr>\n",
              "  </tbody>\n",
              "</table>\n",
              "</div>\n",
              "      <button class=\"colab-df-convert\" onclick=\"convertToInteractive('df-21de724d-2336-464d-927a-83c5aff909c5')\"\n",
              "              title=\"Convert this dataframe to an interactive table.\"\n",
              "              style=\"display:none;\">\n",
              "        \n",
              "  <svg xmlns=\"http://www.w3.org/2000/svg\" height=\"24px\"viewBox=\"0 0 24 24\"\n",
              "       width=\"24px\">\n",
              "    <path d=\"M0 0h24v24H0V0z\" fill=\"none\"/>\n",
              "    <path d=\"M18.56 5.44l.94 2.06.94-2.06 2.06-.94-2.06-.94-.94-2.06-.94 2.06-2.06.94zm-11 1L8.5 8.5l.94-2.06 2.06-.94-2.06-.94L8.5 2.5l-.94 2.06-2.06.94zm10 10l.94 2.06.94-2.06 2.06-.94-2.06-.94-.94-2.06-.94 2.06-2.06.94z\"/><path d=\"M17.41 7.96l-1.37-1.37c-.4-.4-.92-.59-1.43-.59-.52 0-1.04.2-1.43.59L10.3 9.45l-7.72 7.72c-.78.78-.78 2.05 0 2.83L4 21.41c.39.39.9.59 1.41.59.51 0 1.02-.2 1.41-.59l7.78-7.78 2.81-2.81c.8-.78.8-2.07 0-2.86zM5.41 20L4 18.59l7.72-7.72 1.47 1.35L5.41 20z\"/>\n",
              "  </svg>\n",
              "      </button>\n",
              "      \n",
              "  <style>\n",
              "    .colab-df-container {\n",
              "      display:flex;\n",
              "      flex-wrap:wrap;\n",
              "      gap: 12px;\n",
              "    }\n",
              "\n",
              "    .colab-df-convert {\n",
              "      background-color: #E8F0FE;\n",
              "      border: none;\n",
              "      border-radius: 50%;\n",
              "      cursor: pointer;\n",
              "      display: none;\n",
              "      fill: #1967D2;\n",
              "      height: 32px;\n",
              "      padding: 0 0 0 0;\n",
              "      width: 32px;\n",
              "    }\n",
              "\n",
              "    .colab-df-convert:hover {\n",
              "      background-color: #E2EBFA;\n",
              "      box-shadow: 0px 1px 2px rgba(60, 64, 67, 0.3), 0px 1px 3px 1px rgba(60, 64, 67, 0.15);\n",
              "      fill: #174EA6;\n",
              "    }\n",
              "\n",
              "    [theme=dark] .colab-df-convert {\n",
              "      background-color: #3B4455;\n",
              "      fill: #D2E3FC;\n",
              "    }\n",
              "\n",
              "    [theme=dark] .colab-df-convert:hover {\n",
              "      background-color: #434B5C;\n",
              "      box-shadow: 0px 1px 3px 1px rgba(0, 0, 0, 0.15);\n",
              "      filter: drop-shadow(0px 1px 2px rgba(0, 0, 0, 0.3));\n",
              "      fill: #FFFFFF;\n",
              "    }\n",
              "  </style>\n",
              "\n",
              "      <script>\n",
              "        const buttonEl =\n",
              "          document.querySelector('#df-21de724d-2336-464d-927a-83c5aff909c5 button.colab-df-convert');\n",
              "        buttonEl.style.display =\n",
              "          google.colab.kernel.accessAllowed ? 'block' : 'none';\n",
              "\n",
              "        async function convertToInteractive(key) {\n",
              "          const element = document.querySelector('#df-21de724d-2336-464d-927a-83c5aff909c5');\n",
              "          const dataTable =\n",
              "            await google.colab.kernel.invokeFunction('convertToInteractive',\n",
              "                                                     [key], {});\n",
              "          if (!dataTable) return;\n",
              "\n",
              "          const docLinkHtml = 'Like what you see? Visit the ' +\n",
              "            '<a target=\"_blank\" href=https://colab.research.google.com/notebooks/data_table.ipynb>data table notebook</a>'\n",
              "            + ' to learn more about interactive tables.';\n",
              "          element.innerHTML = '';\n",
              "          dataTable['output_type'] = 'display_data';\n",
              "          await google.colab.output.renderOutput(dataTable, element);\n",
              "          const docLink = document.createElement('div');\n",
              "          docLink.innerHTML = docLinkHtml;\n",
              "          element.appendChild(docLink);\n",
              "        }\n",
              "      </script>\n",
              "    </div>\n",
              "  </div>\n",
              "  "
            ]
          },
          "metadata": {},
          "execution_count": 3567
        }
      ],
      "source": [
        "Poke_names = Poke[['Name']].copy()\n",
        "Poke = Poke.drop(['Name'], axis=1)\n",
        "print(Poke.shape)\n",
        "Poke_names.head()"
      ]
    },
    {
      "cell_type": "markdown",
      "metadata": {
        "id": "qg1gVCiYP_0J"
      },
      "source": [
        "Feito isso, o processo será repetido para a feature **Egg_Group_1**."
      ]
    },
    {
      "cell_type": "code",
      "execution_count": 3568,
      "metadata": {
        "colab": {
          "base_uri": "https://localhost:8080/",
          "height": 295
        },
        "id": "KAN9Dm2WP_Gu",
        "outputId": "36825020-8d28-423d-c20c-ed035bef1983"
      },
      "outputs": [
        {
          "output_type": "stream",
          "name": "stdout",
          "text": [
            "____________\n"
          ]
        },
        {
          "output_type": "display_data",
          "data": {
            "text/plain": [
              "Field           169\n",
              "Grass            93\n",
              "Monster          74\n",
              "Water_1          74\n",
              "Undiscovered     73\n",
              "Mineral          46\n",
              "Flying           44\n",
              "Amorphous        41\n",
              "Human-Like       37\n",
              "Fairy            30\n",
              "Water_2          15\n",
              "Water_3          14\n",
              "Dragon           10\n",
              "Ditto             1\n",
              "Name: Egg_Group_1, dtype: int64"
            ]
          },
          "metadata": {}
        }
      ],
      "source": [
        "#Contagem de quantas entradas tem em cada tipo de ovo de pokémon.\n",
        "print(\"____________\")\n",
        "display((Poke['Egg_Group_1'].value_counts()))"
      ]
    },
    {
      "cell_type": "code",
      "execution_count": 3569,
      "metadata": {
        "colab": {
          "base_uri": "https://localhost:8080/",
          "height": 260
        },
        "id": "RvKQvi1aWGJG",
        "outputId": "216e1068-bd9d-4ccc-ab75-139572645789"
      },
      "outputs": [
        {
          "output_type": "stream",
          "name": "stdout",
          "text": [
            "____________\n"
          ]
        },
        {
          "output_type": "display_data",
          "data": {
            "text/plain": [
              "Field           169\n",
              "Egg_water       103\n",
              "Grass            93\n",
              "Monster          74\n",
              "Undiscovered     73\n",
              "Mineral          46\n",
              "Flying           44\n",
              "Amorphous        41\n",
              "Human-Like       37\n",
              "Fairy            30\n",
              "Dragon           10\n",
              "Ditto             1\n",
              "Name: Egg_Group_1, dtype: int64"
            ]
          },
          "metadata": {}
        }
      ],
      "source": [
        "#Anexando os tipo Water_1 ... Water_3 em apenas Water.\n",
        "Poke = Poke.replace(['Water_1','Water_2','Water_3'], 'Egg_water')\n",
        "\n",
        "print(\"____________\")\n",
        "display((Poke['Egg_Group_1'].value_counts()))"
      ]
    },
    {
      "cell_type": "code",
      "execution_count": 3570,
      "metadata": {
        "colab": {
          "base_uri": "https://localhost:8080/"
        },
        "id": "sw_Fex_dTPos",
        "outputId": "6c1259d6-4735-4979-8d64-8149084e52f6"
      },
      "outputs": [
        {
          "output_type": "stream",
          "name": "stdout",
          "text": [
            "(721, 41)\n"
          ]
        }
      ],
      "source": [
        "#Gerando um novo dataframe com cada feature sendo um dos tipos de ovos.\n",
        "Poke_Egg = pd.get_dummies(Poke['Egg_Group_1'])\n",
        "\n",
        "#Mudando os nomes para que não haja confusão com os tipos de *Pokemon*\n",
        "Poke_Egg = Poke_Egg.rename(columns={'Field':'Egg_Field','Grass':'Egg_Grass','Monster':'Egg_Monster','Undiscovered':'Egg_Undiscovered',\n",
        "                'Mineral':'Egg_Mineral','Flying':'Egg_Flying','Amorphous':'Egg_Amorphous','Human-Like':'Egg_Human-Like',\n",
        "                'Fairy':'Egg_Fairy','Dragon':'Egg_Dragon','Ditto':'Egg_Ditto'})\n",
        "\n",
        "#Anexando o novo dataframe ao dataframe atual.\n",
        "Poke = pd.concat([Poke,Poke_Egg], axis=1)\n",
        "\n",
        "#Removendo a antiga feature que informava o Egg_Group.\n",
        "Poke = Poke.drop(['Egg_Group_1'], axis=1)\n",
        "\n",
        "#Verificando o novo shape.\n",
        "print(Poke.shape)"
      ]
    },
    {
      "cell_type": "markdown",
      "metadata": {
        "id": "K0BqZLQPZYU4"
      },
      "source": [
        "A feature **Color** passará pelo mesmo processo."
      ]
    },
    {
      "cell_type": "code",
      "execution_count": 3571,
      "metadata": {
        "colab": {
          "base_uri": "https://localhost:8080/",
          "height": 225
        },
        "id": "G85x2XtgZfNc",
        "outputId": "34039b59-b4b5-419b-a39e-b6e2beb1a7c7"
      },
      "outputs": [
        {
          "output_type": "stream",
          "name": "stdout",
          "text": [
            "____________\n"
          ]
        },
        {
          "output_type": "display_data",
          "data": {
            "text/plain": [
              "Blue      134\n",
              "Brown     110\n",
              "Green      79\n",
              "Red        75\n",
              "Grey       69\n",
              "Purple     65\n",
              "Yellow     64\n",
              "White      52\n",
              "Pink       41\n",
              "Black      32\n",
              "Name: Color, dtype: int64"
            ]
          },
          "metadata": {}
        }
      ],
      "source": [
        "#Contagem de quantas cores o Dataset Possui\n",
        "print(\"____________\")\n",
        "display((Poke['Color'].value_counts()))"
      ]
    },
    {
      "cell_type": "code",
      "execution_count": 3572,
      "metadata": {
        "colab": {
          "base_uri": "https://localhost:8080/",
          "height": 253
        },
        "id": "gGLaLh0_ZkaX",
        "outputId": "5cb870e3-089a-4b6a-9b55-da6b476a7070"
      },
      "outputs": [
        {
          "output_type": "stream",
          "name": "stdout",
          "text": [
            "(721, 50)\n"
          ]
        },
        {
          "output_type": "execute_result",
          "data": {
            "text/plain": [
              "   Number  Total  HP  Attack  Defense  Sp_Atk  Sp_Def  Speed  Generation  \\\n",
              "0       1    318  45      49       49      65      65     45           1   \n",
              "1       2    405  60      62       63      80      80     60           1   \n",
              "2       3    525  80      82       83     100     100     80           1   \n",
              "3       4    309  39      52       43      60      50     65           1   \n",
              "4       5    405  58      64       58      80      65     80           1   \n",
              "\n",
              "   isLegendary  ...  Black  Blue  Brown  Green  Grey  Pink Purple  Red  White  \\\n",
              "0        False  ...      0     0      0      1     0     0      0    0      0   \n",
              "1        False  ...      0     0      0      1     0     0      0    0      0   \n",
              "2        False  ...      0     0      0      1     0     0      0    0      0   \n",
              "3        False  ...      0     0      0      0     0     0      0    1      0   \n",
              "4        False  ...      0     0      0      0     0     0      0    1      0   \n",
              "\n",
              "   Yellow  \n",
              "0       0  \n",
              "1       0  \n",
              "2       0  \n",
              "3       0  \n",
              "4       0  \n",
              "\n",
              "[5 rows x 50 columns]"
            ],
            "text/html": [
              "\n",
              "  <div id=\"df-50e3befe-ab5f-4747-a898-d8c530567728\">\n",
              "    <div class=\"colab-df-container\">\n",
              "      <div>\n",
              "<style scoped>\n",
              "    .dataframe tbody tr th:only-of-type {\n",
              "        vertical-align: middle;\n",
              "    }\n",
              "\n",
              "    .dataframe tbody tr th {\n",
              "        vertical-align: top;\n",
              "    }\n",
              "\n",
              "    .dataframe thead th {\n",
              "        text-align: right;\n",
              "    }\n",
              "</style>\n",
              "<table border=\"1\" class=\"dataframe\">\n",
              "  <thead>\n",
              "    <tr style=\"text-align: right;\">\n",
              "      <th></th>\n",
              "      <th>Number</th>\n",
              "      <th>Total</th>\n",
              "      <th>HP</th>\n",
              "      <th>Attack</th>\n",
              "      <th>Defense</th>\n",
              "      <th>Sp_Atk</th>\n",
              "      <th>Sp_Def</th>\n",
              "      <th>Speed</th>\n",
              "      <th>Generation</th>\n",
              "      <th>isLegendary</th>\n",
              "      <th>...</th>\n",
              "      <th>Black</th>\n",
              "      <th>Blue</th>\n",
              "      <th>Brown</th>\n",
              "      <th>Green</th>\n",
              "      <th>Grey</th>\n",
              "      <th>Pink</th>\n",
              "      <th>Purple</th>\n",
              "      <th>Red</th>\n",
              "      <th>White</th>\n",
              "      <th>Yellow</th>\n",
              "    </tr>\n",
              "  </thead>\n",
              "  <tbody>\n",
              "    <tr>\n",
              "      <th>0</th>\n",
              "      <td>1</td>\n",
              "      <td>318</td>\n",
              "      <td>45</td>\n",
              "      <td>49</td>\n",
              "      <td>49</td>\n",
              "      <td>65</td>\n",
              "      <td>65</td>\n",
              "      <td>45</td>\n",
              "      <td>1</td>\n",
              "      <td>False</td>\n",
              "      <td>...</td>\n",
              "      <td>0</td>\n",
              "      <td>0</td>\n",
              "      <td>0</td>\n",
              "      <td>1</td>\n",
              "      <td>0</td>\n",
              "      <td>0</td>\n",
              "      <td>0</td>\n",
              "      <td>0</td>\n",
              "      <td>0</td>\n",
              "      <td>0</td>\n",
              "    </tr>\n",
              "    <tr>\n",
              "      <th>1</th>\n",
              "      <td>2</td>\n",
              "      <td>405</td>\n",
              "      <td>60</td>\n",
              "      <td>62</td>\n",
              "      <td>63</td>\n",
              "      <td>80</td>\n",
              "      <td>80</td>\n",
              "      <td>60</td>\n",
              "      <td>1</td>\n",
              "      <td>False</td>\n",
              "      <td>...</td>\n",
              "      <td>0</td>\n",
              "      <td>0</td>\n",
              "      <td>0</td>\n",
              "      <td>1</td>\n",
              "      <td>0</td>\n",
              "      <td>0</td>\n",
              "      <td>0</td>\n",
              "      <td>0</td>\n",
              "      <td>0</td>\n",
              "      <td>0</td>\n",
              "    </tr>\n",
              "    <tr>\n",
              "      <th>2</th>\n",
              "      <td>3</td>\n",
              "      <td>525</td>\n",
              "      <td>80</td>\n",
              "      <td>82</td>\n",
              "      <td>83</td>\n",
              "      <td>100</td>\n",
              "      <td>100</td>\n",
              "      <td>80</td>\n",
              "      <td>1</td>\n",
              "      <td>False</td>\n",
              "      <td>...</td>\n",
              "      <td>0</td>\n",
              "      <td>0</td>\n",
              "      <td>0</td>\n",
              "      <td>1</td>\n",
              "      <td>0</td>\n",
              "      <td>0</td>\n",
              "      <td>0</td>\n",
              "      <td>0</td>\n",
              "      <td>0</td>\n",
              "      <td>0</td>\n",
              "    </tr>\n",
              "    <tr>\n",
              "      <th>3</th>\n",
              "      <td>4</td>\n",
              "      <td>309</td>\n",
              "      <td>39</td>\n",
              "      <td>52</td>\n",
              "      <td>43</td>\n",
              "      <td>60</td>\n",
              "      <td>50</td>\n",
              "      <td>65</td>\n",
              "      <td>1</td>\n",
              "      <td>False</td>\n",
              "      <td>...</td>\n",
              "      <td>0</td>\n",
              "      <td>0</td>\n",
              "      <td>0</td>\n",
              "      <td>0</td>\n",
              "      <td>0</td>\n",
              "      <td>0</td>\n",
              "      <td>0</td>\n",
              "      <td>1</td>\n",
              "      <td>0</td>\n",
              "      <td>0</td>\n",
              "    </tr>\n",
              "    <tr>\n",
              "      <th>4</th>\n",
              "      <td>5</td>\n",
              "      <td>405</td>\n",
              "      <td>58</td>\n",
              "      <td>64</td>\n",
              "      <td>58</td>\n",
              "      <td>80</td>\n",
              "      <td>65</td>\n",
              "      <td>80</td>\n",
              "      <td>1</td>\n",
              "      <td>False</td>\n",
              "      <td>...</td>\n",
              "      <td>0</td>\n",
              "      <td>0</td>\n",
              "      <td>0</td>\n",
              "      <td>0</td>\n",
              "      <td>0</td>\n",
              "      <td>0</td>\n",
              "      <td>0</td>\n",
              "      <td>1</td>\n",
              "      <td>0</td>\n",
              "      <td>0</td>\n",
              "    </tr>\n",
              "  </tbody>\n",
              "</table>\n",
              "<p>5 rows × 50 columns</p>\n",
              "</div>\n",
              "      <button class=\"colab-df-convert\" onclick=\"convertToInteractive('df-50e3befe-ab5f-4747-a898-d8c530567728')\"\n",
              "              title=\"Convert this dataframe to an interactive table.\"\n",
              "              style=\"display:none;\">\n",
              "        \n",
              "  <svg xmlns=\"http://www.w3.org/2000/svg\" height=\"24px\"viewBox=\"0 0 24 24\"\n",
              "       width=\"24px\">\n",
              "    <path d=\"M0 0h24v24H0V0z\" fill=\"none\"/>\n",
              "    <path d=\"M18.56 5.44l.94 2.06.94-2.06 2.06-.94-2.06-.94-.94-2.06-.94 2.06-2.06.94zm-11 1L8.5 8.5l.94-2.06 2.06-.94-2.06-.94L8.5 2.5l-.94 2.06-2.06.94zm10 10l.94 2.06.94-2.06 2.06-.94-2.06-.94-.94-2.06-.94 2.06-2.06.94z\"/><path d=\"M17.41 7.96l-1.37-1.37c-.4-.4-.92-.59-1.43-.59-.52 0-1.04.2-1.43.59L10.3 9.45l-7.72 7.72c-.78.78-.78 2.05 0 2.83L4 21.41c.39.39.9.59 1.41.59.51 0 1.02-.2 1.41-.59l7.78-7.78 2.81-2.81c.8-.78.8-2.07 0-2.86zM5.41 20L4 18.59l7.72-7.72 1.47 1.35L5.41 20z\"/>\n",
              "  </svg>\n",
              "      </button>\n",
              "      \n",
              "  <style>\n",
              "    .colab-df-container {\n",
              "      display:flex;\n",
              "      flex-wrap:wrap;\n",
              "      gap: 12px;\n",
              "    }\n",
              "\n",
              "    .colab-df-convert {\n",
              "      background-color: #E8F0FE;\n",
              "      border: none;\n",
              "      border-radius: 50%;\n",
              "      cursor: pointer;\n",
              "      display: none;\n",
              "      fill: #1967D2;\n",
              "      height: 32px;\n",
              "      padding: 0 0 0 0;\n",
              "      width: 32px;\n",
              "    }\n",
              "\n",
              "    .colab-df-convert:hover {\n",
              "      background-color: #E2EBFA;\n",
              "      box-shadow: 0px 1px 2px rgba(60, 64, 67, 0.3), 0px 1px 3px 1px rgba(60, 64, 67, 0.15);\n",
              "      fill: #174EA6;\n",
              "    }\n",
              "\n",
              "    [theme=dark] .colab-df-convert {\n",
              "      background-color: #3B4455;\n",
              "      fill: #D2E3FC;\n",
              "    }\n",
              "\n",
              "    [theme=dark] .colab-df-convert:hover {\n",
              "      background-color: #434B5C;\n",
              "      box-shadow: 0px 1px 3px 1px rgba(0, 0, 0, 0.15);\n",
              "      filter: drop-shadow(0px 1px 2px rgba(0, 0, 0, 0.3));\n",
              "      fill: #FFFFFF;\n",
              "    }\n",
              "  </style>\n",
              "\n",
              "      <script>\n",
              "        const buttonEl =\n",
              "          document.querySelector('#df-50e3befe-ab5f-4747-a898-d8c530567728 button.colab-df-convert');\n",
              "        buttonEl.style.display =\n",
              "          google.colab.kernel.accessAllowed ? 'block' : 'none';\n",
              "\n",
              "        async function convertToInteractive(key) {\n",
              "          const element = document.querySelector('#df-50e3befe-ab5f-4747-a898-d8c530567728');\n",
              "          const dataTable =\n",
              "            await google.colab.kernel.invokeFunction('convertToInteractive',\n",
              "                                                     [key], {});\n",
              "          if (!dataTable) return;\n",
              "\n",
              "          const docLinkHtml = 'Like what you see? Visit the ' +\n",
              "            '<a target=\"_blank\" href=https://colab.research.google.com/notebooks/data_table.ipynb>data table notebook</a>'\n",
              "            + ' to learn more about interactive tables.';\n",
              "          element.innerHTML = '';\n",
              "          dataTable['output_type'] = 'display_data';\n",
              "          await google.colab.output.renderOutput(dataTable, element);\n",
              "          const docLink = document.createElement('div');\n",
              "          docLink.innerHTML = docLinkHtml;\n",
              "          element.appendChild(docLink);\n",
              "        }\n",
              "      </script>\n",
              "    </div>\n",
              "  </div>\n",
              "  "
            ]
          },
          "metadata": {},
          "execution_count": 3572
        }
      ],
      "source": [
        "#Gerando um novo dataframe com cada feature sendo uma das cores.\n",
        "Poke_Color = pd.get_dummies(Poke['Color'])\n",
        "\n",
        "#Anexando o novo dataframe ao dataframe atual.\n",
        "Poke = pd.concat([Poke,Poke_Color], axis=1)\n",
        "\n",
        "#Removendo a antiga feature que informava o Color.\n",
        "Poke = Poke.drop(['Color'], axis=1)\n",
        "\n",
        "#Verificando o novo shape .\n",
        "print(Poke.shape)\n",
        "\n",
        "#Verificando a \"cara\" dos dados.\n",
        "Poke.head()"
      ]
    },
    {
      "cell_type": "markdown",
      "metadata": {
        "id": "nr4fGz_4aZDT"
      },
      "source": [
        "Por fim, o **Body_Style**."
      ]
    },
    {
      "cell_type": "code",
      "execution_count": 3573,
      "metadata": {
        "colab": {
          "base_uri": "https://localhost:8080/",
          "height": 295
        },
        "id": "OYMWEHbfafAp",
        "outputId": "7c476608-3b29-44a1-9484-7e5636dfa645"
      },
      "outputs": [
        {
          "output_type": "stream",
          "name": "stdout",
          "text": [
            "____________\n"
          ]
        },
        {
          "output_type": "display_data",
          "data": {
            "text/plain": [
              "bipedal_tailed      158\n",
              "quadruped           135\n",
              "bipedal_tailless    109\n",
              "two_wings            63\n",
              "head_arms            39\n",
              "head_only            34\n",
              "with_fins            31\n",
              "insectoid            30\n",
              "head_base            30\n",
              "serpentine_body      29\n",
              "four_wings           18\n",
              "head_legs            17\n",
              "multiple_bodies      15\n",
              "several_limbs        13\n",
              "Name: Body_Style, dtype: int64"
            ]
          },
          "metadata": {}
        }
      ],
      "source": [
        "#Contagem de quantas entradas tem em cada Body_Style.\n",
        "print(\"____________\")\n",
        "display((Poke['Body_Style'].value_counts()))\n",
        "\n",
        "#Mesclando tipos de corpos parecidos.\n",
        "Poke = Poke.replace(['bipedal_tailed','bipedal_tailless'], 'bipedal')\n",
        "Poke = Poke.replace(['head_arms','head_only','head_base','head_legs'], 'head')\n",
        "Poke = Poke.replace(['two_wings','four_wings'], 'hasWings')\n",
        "\n"
      ]
    },
    {
      "cell_type": "code",
      "execution_count": 3574,
      "metadata": {
        "colab": {
          "base_uri": "https://localhost:8080/",
          "height": 253
        },
        "id": "DmVr1woPbnYv",
        "outputId": "bae576e8-7587-4b63-e91f-31407cc0f491"
      },
      "outputs": [
        {
          "output_type": "stream",
          "name": "stdout",
          "text": [
            "(721, 58)\n"
          ]
        },
        {
          "output_type": "execute_result",
          "data": {
            "text/plain": [
              "   Number  Total  HP  Attack  Defense  Sp_Atk  Sp_Def  Speed  Generation  \\\n",
              "0       1    318  45      49       49      65      65     45           1   \n",
              "1       2    405  60      62       63      80      80     60           1   \n",
              "2       3    525  80      82       83     100     100     80           1   \n",
              "3       4    309  39      52       43      60      50     65           1   \n",
              "4       5    405  58      64       58      80      65     80           1   \n",
              "\n",
              "   isLegendary  ...  Yellow  bipedal  hasWings  head  insectoid  \\\n",
              "0        False  ...       0        0         0     0          0   \n",
              "1        False  ...       0        0         0     0          0   \n",
              "2        False  ...       0        0         0     0          0   \n",
              "3        False  ...       0        1         0     0          0   \n",
              "4        False  ...       0        1         0     0          0   \n",
              "\n",
              "   multiple_bodies  quadruped  serpentine_body  several_limbs  with_fins  \n",
              "0                0          1                0              0          0  \n",
              "1                0          1                0              0          0  \n",
              "2                0          1                0              0          0  \n",
              "3                0          0                0              0          0  \n",
              "4                0          0                0              0          0  \n",
              "\n",
              "[5 rows x 58 columns]"
            ],
            "text/html": [
              "\n",
              "  <div id=\"df-36627181-b266-44c0-a98f-df34216c9d1f\">\n",
              "    <div class=\"colab-df-container\">\n",
              "      <div>\n",
              "<style scoped>\n",
              "    .dataframe tbody tr th:only-of-type {\n",
              "        vertical-align: middle;\n",
              "    }\n",
              "\n",
              "    .dataframe tbody tr th {\n",
              "        vertical-align: top;\n",
              "    }\n",
              "\n",
              "    .dataframe thead th {\n",
              "        text-align: right;\n",
              "    }\n",
              "</style>\n",
              "<table border=\"1\" class=\"dataframe\">\n",
              "  <thead>\n",
              "    <tr style=\"text-align: right;\">\n",
              "      <th></th>\n",
              "      <th>Number</th>\n",
              "      <th>Total</th>\n",
              "      <th>HP</th>\n",
              "      <th>Attack</th>\n",
              "      <th>Defense</th>\n",
              "      <th>Sp_Atk</th>\n",
              "      <th>Sp_Def</th>\n",
              "      <th>Speed</th>\n",
              "      <th>Generation</th>\n",
              "      <th>isLegendary</th>\n",
              "      <th>...</th>\n",
              "      <th>Yellow</th>\n",
              "      <th>bipedal</th>\n",
              "      <th>hasWings</th>\n",
              "      <th>head</th>\n",
              "      <th>insectoid</th>\n",
              "      <th>multiple_bodies</th>\n",
              "      <th>quadruped</th>\n",
              "      <th>serpentine_body</th>\n",
              "      <th>several_limbs</th>\n",
              "      <th>with_fins</th>\n",
              "    </tr>\n",
              "  </thead>\n",
              "  <tbody>\n",
              "    <tr>\n",
              "      <th>0</th>\n",
              "      <td>1</td>\n",
              "      <td>318</td>\n",
              "      <td>45</td>\n",
              "      <td>49</td>\n",
              "      <td>49</td>\n",
              "      <td>65</td>\n",
              "      <td>65</td>\n",
              "      <td>45</td>\n",
              "      <td>1</td>\n",
              "      <td>False</td>\n",
              "      <td>...</td>\n",
              "      <td>0</td>\n",
              "      <td>0</td>\n",
              "      <td>0</td>\n",
              "      <td>0</td>\n",
              "      <td>0</td>\n",
              "      <td>0</td>\n",
              "      <td>1</td>\n",
              "      <td>0</td>\n",
              "      <td>0</td>\n",
              "      <td>0</td>\n",
              "    </tr>\n",
              "    <tr>\n",
              "      <th>1</th>\n",
              "      <td>2</td>\n",
              "      <td>405</td>\n",
              "      <td>60</td>\n",
              "      <td>62</td>\n",
              "      <td>63</td>\n",
              "      <td>80</td>\n",
              "      <td>80</td>\n",
              "      <td>60</td>\n",
              "      <td>1</td>\n",
              "      <td>False</td>\n",
              "      <td>...</td>\n",
              "      <td>0</td>\n",
              "      <td>0</td>\n",
              "      <td>0</td>\n",
              "      <td>0</td>\n",
              "      <td>0</td>\n",
              "      <td>0</td>\n",
              "      <td>1</td>\n",
              "      <td>0</td>\n",
              "      <td>0</td>\n",
              "      <td>0</td>\n",
              "    </tr>\n",
              "    <tr>\n",
              "      <th>2</th>\n",
              "      <td>3</td>\n",
              "      <td>525</td>\n",
              "      <td>80</td>\n",
              "      <td>82</td>\n",
              "      <td>83</td>\n",
              "      <td>100</td>\n",
              "      <td>100</td>\n",
              "      <td>80</td>\n",
              "      <td>1</td>\n",
              "      <td>False</td>\n",
              "      <td>...</td>\n",
              "      <td>0</td>\n",
              "      <td>0</td>\n",
              "      <td>0</td>\n",
              "      <td>0</td>\n",
              "      <td>0</td>\n",
              "      <td>0</td>\n",
              "      <td>1</td>\n",
              "      <td>0</td>\n",
              "      <td>0</td>\n",
              "      <td>0</td>\n",
              "    </tr>\n",
              "    <tr>\n",
              "      <th>3</th>\n",
              "      <td>4</td>\n",
              "      <td>309</td>\n",
              "      <td>39</td>\n",
              "      <td>52</td>\n",
              "      <td>43</td>\n",
              "      <td>60</td>\n",
              "      <td>50</td>\n",
              "      <td>65</td>\n",
              "      <td>1</td>\n",
              "      <td>False</td>\n",
              "      <td>...</td>\n",
              "      <td>0</td>\n",
              "      <td>1</td>\n",
              "      <td>0</td>\n",
              "      <td>0</td>\n",
              "      <td>0</td>\n",
              "      <td>0</td>\n",
              "      <td>0</td>\n",
              "      <td>0</td>\n",
              "      <td>0</td>\n",
              "      <td>0</td>\n",
              "    </tr>\n",
              "    <tr>\n",
              "      <th>4</th>\n",
              "      <td>5</td>\n",
              "      <td>405</td>\n",
              "      <td>58</td>\n",
              "      <td>64</td>\n",
              "      <td>58</td>\n",
              "      <td>80</td>\n",
              "      <td>65</td>\n",
              "      <td>80</td>\n",
              "      <td>1</td>\n",
              "      <td>False</td>\n",
              "      <td>...</td>\n",
              "      <td>0</td>\n",
              "      <td>1</td>\n",
              "      <td>0</td>\n",
              "      <td>0</td>\n",
              "      <td>0</td>\n",
              "      <td>0</td>\n",
              "      <td>0</td>\n",
              "      <td>0</td>\n",
              "      <td>0</td>\n",
              "      <td>0</td>\n",
              "    </tr>\n",
              "  </tbody>\n",
              "</table>\n",
              "<p>5 rows × 58 columns</p>\n",
              "</div>\n",
              "      <button class=\"colab-df-convert\" onclick=\"convertToInteractive('df-36627181-b266-44c0-a98f-df34216c9d1f')\"\n",
              "              title=\"Convert this dataframe to an interactive table.\"\n",
              "              style=\"display:none;\">\n",
              "        \n",
              "  <svg xmlns=\"http://www.w3.org/2000/svg\" height=\"24px\"viewBox=\"0 0 24 24\"\n",
              "       width=\"24px\">\n",
              "    <path d=\"M0 0h24v24H0V0z\" fill=\"none\"/>\n",
              "    <path d=\"M18.56 5.44l.94 2.06.94-2.06 2.06-.94-2.06-.94-.94-2.06-.94 2.06-2.06.94zm-11 1L8.5 8.5l.94-2.06 2.06-.94-2.06-.94L8.5 2.5l-.94 2.06-2.06.94zm10 10l.94 2.06.94-2.06 2.06-.94-2.06-.94-.94-2.06-.94 2.06-2.06.94z\"/><path d=\"M17.41 7.96l-1.37-1.37c-.4-.4-.92-.59-1.43-.59-.52 0-1.04.2-1.43.59L10.3 9.45l-7.72 7.72c-.78.78-.78 2.05 0 2.83L4 21.41c.39.39.9.59 1.41.59.51 0 1.02-.2 1.41-.59l7.78-7.78 2.81-2.81c.8-.78.8-2.07 0-2.86zM5.41 20L4 18.59l7.72-7.72 1.47 1.35L5.41 20z\"/>\n",
              "  </svg>\n",
              "      </button>\n",
              "      \n",
              "  <style>\n",
              "    .colab-df-container {\n",
              "      display:flex;\n",
              "      flex-wrap:wrap;\n",
              "      gap: 12px;\n",
              "    }\n",
              "\n",
              "    .colab-df-convert {\n",
              "      background-color: #E8F0FE;\n",
              "      border: none;\n",
              "      border-radius: 50%;\n",
              "      cursor: pointer;\n",
              "      display: none;\n",
              "      fill: #1967D2;\n",
              "      height: 32px;\n",
              "      padding: 0 0 0 0;\n",
              "      width: 32px;\n",
              "    }\n",
              "\n",
              "    .colab-df-convert:hover {\n",
              "      background-color: #E2EBFA;\n",
              "      box-shadow: 0px 1px 2px rgba(60, 64, 67, 0.3), 0px 1px 3px 1px rgba(60, 64, 67, 0.15);\n",
              "      fill: #174EA6;\n",
              "    }\n",
              "\n",
              "    [theme=dark] .colab-df-convert {\n",
              "      background-color: #3B4455;\n",
              "      fill: #D2E3FC;\n",
              "    }\n",
              "\n",
              "    [theme=dark] .colab-df-convert:hover {\n",
              "      background-color: #434B5C;\n",
              "      box-shadow: 0px 1px 3px 1px rgba(0, 0, 0, 0.15);\n",
              "      filter: drop-shadow(0px 1px 2px rgba(0, 0, 0, 0.3));\n",
              "      fill: #FFFFFF;\n",
              "    }\n",
              "  </style>\n",
              "\n",
              "      <script>\n",
              "        const buttonEl =\n",
              "          document.querySelector('#df-36627181-b266-44c0-a98f-df34216c9d1f button.colab-df-convert');\n",
              "        buttonEl.style.display =\n",
              "          google.colab.kernel.accessAllowed ? 'block' : 'none';\n",
              "\n",
              "        async function convertToInteractive(key) {\n",
              "          const element = document.querySelector('#df-36627181-b266-44c0-a98f-df34216c9d1f');\n",
              "          const dataTable =\n",
              "            await google.colab.kernel.invokeFunction('convertToInteractive',\n",
              "                                                     [key], {});\n",
              "          if (!dataTable) return;\n",
              "\n",
              "          const docLinkHtml = 'Like what you see? Visit the ' +\n",
              "            '<a target=\"_blank\" href=https://colab.research.google.com/notebooks/data_table.ipynb>data table notebook</a>'\n",
              "            + ' to learn more about interactive tables.';\n",
              "          element.innerHTML = '';\n",
              "          dataTable['output_type'] = 'display_data';\n",
              "          await google.colab.output.renderOutput(dataTable, element);\n",
              "          const docLink = document.createElement('div');\n",
              "          docLink.innerHTML = docLinkHtml;\n",
              "          element.appendChild(docLink);\n",
              "        }\n",
              "      </script>\n",
              "    </div>\n",
              "  </div>\n",
              "  "
            ]
          },
          "metadata": {},
          "execution_count": 3574
        }
      ],
      "source": [
        "#Gerando um novo dataframe com cada feature sendo um dos tipos corporais.\n",
        "Poke_Body = pd.get_dummies(Poke['Body_Style'])\n",
        "\n",
        "#Anexando o novo dataframe ao dataframe atual.\n",
        "Poke = pd.concat([Poke,Poke_Body], axis=1)\n",
        "\n",
        "#Removendo a antiga feature que informava o Egg_Group.\n",
        "Poke = Poke.drop(['Body_Style'], axis=1)\n",
        "\n",
        "#Verificando o novo shape.\n",
        "print(Poke.shape)\n",
        "\n",
        "#Verificando a \"cara\" dos dados.\n",
        "Poke.head()"
      ]
    },
    {
      "cell_type": "markdown",
      "metadata": {
        "id": "0XdnV4tNeZXt"
      },
      "source": [
        "Após este processamento, agora é possível trabalhar com os dados formados, uma vez que todos são de tipos numéricos ou booleanos, como pode ser verificado na célula abaixo."
      ]
    },
    {
      "cell_type": "code",
      "execution_count": 3575,
      "metadata": {
        "colab": {
          "base_uri": "https://localhost:8080/"
        },
        "id": "TnRNJdnSehFx",
        "outputId": "968dfb76-4b14-421b-96f3-6f2b15aa61d9"
      },
      "outputs": [
        {
          "output_type": "stream",
          "name": "stdout",
          "text": [
            "<class 'pandas.core.frame.DataFrame'>\n",
            "RangeIndex: 721 entries, 0 to 720\n",
            "Data columns (total 58 columns):\n",
            " #   Column            Non-Null Count  Dtype  \n",
            "---  ------            --------------  -----  \n",
            " 0   Number            721 non-null    int64  \n",
            " 1   Total             721 non-null    int64  \n",
            " 2   HP                721 non-null    int64  \n",
            " 3   Attack            721 non-null    int64  \n",
            " 4   Defense           721 non-null    int64  \n",
            " 5   Sp_Atk            721 non-null    int64  \n",
            " 6   Sp_Def            721 non-null    int64  \n",
            " 7   Speed             721 non-null    int64  \n",
            " 8   Generation        721 non-null    int64  \n",
            " 9   isLegendary       721 non-null    bool   \n",
            " 10  hasGender         721 non-null    bool   \n",
            " 11  Pr_Male           721 non-null    float64\n",
            " 12  hasMegaEvolution  721 non-null    bool   \n",
            " 13  Height_m          721 non-null    float64\n",
            " 14  Weight_kg         721 non-null    float64\n",
            " 15  Catch_Rate        721 non-null    int64  \n",
            " 16  Dark              721 non-null    uint8  \n",
            " 17  Dragon            721 non-null    uint8  \n",
            " 18  Electric          721 non-null    uint8  \n",
            " 19  Fairy             721 non-null    uint8  \n",
            " 20  Fighting          721 non-null    uint8  \n",
            " 21  Fire              721 non-null    uint8  \n",
            " 22  Flying            721 non-null    uint8  \n",
            " 23  Grass             721 non-null    uint8  \n",
            " 24  Normal            721 non-null    uint8  \n",
            " 25  Rock              721 non-null    uint8  \n",
            " 26  Water             721 non-null    uint8  \n",
            " 27  Egg_Amorphous     721 non-null    uint8  \n",
            " 28  Egg_Ditto         721 non-null    uint8  \n",
            " 29  Egg_Dragon        721 non-null    uint8  \n",
            " 30  Egg_water         721 non-null    uint8  \n",
            " 31  Egg_Fairy         721 non-null    uint8  \n",
            " 32  Egg_Field         721 non-null    uint8  \n",
            " 33  Egg_Flying        721 non-null    uint8  \n",
            " 34  Egg_Grass         721 non-null    uint8  \n",
            " 35  Egg_Human-Like    721 non-null    uint8  \n",
            " 36  Egg_Mineral       721 non-null    uint8  \n",
            " 37  Egg_Monster       721 non-null    uint8  \n",
            " 38  Egg_Undiscovered  721 non-null    uint8  \n",
            " 39  Black             721 non-null    uint8  \n",
            " 40  Blue              721 non-null    uint8  \n",
            " 41  Brown             721 non-null    uint8  \n",
            " 42  Green             721 non-null    uint8  \n",
            " 43  Grey              721 non-null    uint8  \n",
            " 44  Pink              721 non-null    uint8  \n",
            " 45  Purple            721 non-null    uint8  \n",
            " 46  Red               721 non-null    uint8  \n",
            " 47  White             721 non-null    uint8  \n",
            " 48  Yellow            721 non-null    uint8  \n",
            " 49  bipedal           721 non-null    uint8  \n",
            " 50  hasWings          721 non-null    uint8  \n",
            " 51  head              721 non-null    uint8  \n",
            " 52  insectoid         721 non-null    uint8  \n",
            " 53  multiple_bodies   721 non-null    uint8  \n",
            " 54  quadruped         721 non-null    uint8  \n",
            " 55  serpentine_body   721 non-null    uint8  \n",
            " 56  several_limbs     721 non-null    uint8  \n",
            " 57  with_fins         721 non-null    uint8  \n",
            "dtypes: bool(3), float64(3), int64(10), uint8(42)\n",
            "memory usage: 105.0 KB\n"
          ]
        }
      ],
      "source": [
        "Poke.info()"
      ]
    },
    {
      "cell_type": "code",
      "execution_count": 3576,
      "metadata": {
        "colab": {
          "base_uri": "https://localhost:8080/",
          "height": 949
        },
        "id": "LeW1b1Zafi3a",
        "outputId": "910a96ee-45e1-47c9-ec5a-f9def5f209d0"
      },
      "outputs": [
        {
          "output_type": "display_data",
          "data": {
            "text/plain": [
              "<Figure size 1080x1080 with 2 Axes>"
            ],
            "image/png": "[encoded data removed]"
          },
          "metadata": {
            "needs_background": "light"
          }
        }
      ],
      "source": [
        "# Imprimindo a matriz que mostra a correlação entre os dados\n",
        "plt.figure(figsize=(15,15))\n",
        "dataplot=sns.heatmap(Poke.corr())"
      ]
    },
    {
      "cell_type": "markdown",
      "metadata": {
        "id": "bIQhKMo2f-e5"
      },
      "source": [
        "Neste ponto, já não é mais possível identificar com clareza quais são os dados mais correlacionados apenas com a imagem. Então será realizado o mesmo procedimento de extrair somente as features correlacionadas com a feature isLegendary."
      ]
    },
    {
      "cell_type": "code",
      "execution_count": 3577,
      "metadata": {
        "colab": {
          "base_uri": "https://localhost:8080/",
          "height": 206
        },
        "id": "dEfaAQ9pgRFE",
        "outputId": "247b0b54-6a65-4606-befd-bace11fdb2ab"
      },
      "outputs": [
        {
          "output_type": "execute_result",
          "data": {
            "text/plain": [
              "                  isLegendary\n",
              "isLegendary          1.000000\n",
              "Egg_Undiscovered     0.777773\n",
              "hasGender            0.644714\n",
              "Total                0.481837\n",
              "Weight_kg            0.425219"
            ],
            "text/html": [
              "\n",
              "  <div id=\"df-771566f9-6b9a-459c-a375-5a4e738b4493\">\n",
              "    <div class=\"colab-df-container\">\n",
              "      <div>\n",
              "<style scoped>\n",
              "    .dataframe tbody tr th:only-of-type {\n",
              "        vertical-align: middle;\n",
              "    }\n",
              "\n",
              "    .dataframe tbody tr th {\n",
              "        vertical-align: top;\n",
              "    }\n",
              "\n",
              "    .dataframe thead th {\n",
              "        text-align: right;\n",
              "    }\n",
              "</style>\n",
              "<table border=\"1\" class=\"dataframe\">\n",
              "  <thead>\n",
              "    <tr style=\"text-align: right;\">\n",
              "      <th></th>\n",
              "      <th>isLegendary</th>\n",
              "    </tr>\n",
              "  </thead>\n",
              "  <tbody>\n",
              "    <tr>\n",
              "      <th>isLegendary</th>\n",
              "      <td>1.000000</td>\n",
              "    </tr>\n",
              "    <tr>\n",
              "      <th>Egg_Undiscovered</th>\n",
              "      <td>0.777773</td>\n",
              "    </tr>\n",
              "    <tr>\n",
              "      <th>hasGender</th>\n",
              "      <td>0.644714</td>\n",
              "    </tr>\n",
              "    <tr>\n",
              "      <th>Total</th>\n",
              "      <td>0.481837</td>\n",
              "    </tr>\n",
              "    <tr>\n",
              "      <th>Weight_kg</th>\n",
              "      <td>0.425219</td>\n",
              "    </tr>\n",
              "  </tbody>\n",
              "</table>\n",
              "</div>\n",
              "      <button class=\"colab-df-convert\" onclick=\"convertToInteractive('df-771566f9-6b9a-459c-a375-5a4e738b4493')\"\n",
              "              title=\"Convert this dataframe to an interactive table.\"\n",
              "              style=\"display:none;\">\n",
              "        \n",
              "  <svg xmlns=\"http://www.w3.org/2000/svg\" height=\"24px\"viewBox=\"0 0 24 24\"\n",
              "       width=\"24px\">\n",
              "    <path d=\"M0 0h24v24H0V0z\" fill=\"none\"/>\n",
              "    <path d=\"M18.56 5.44l.94 2.06.94-2.06 2.06-.94-2.06-.94-.94-2.06-.94 2.06-2.06.94zm-11 1L8.5 8.5l.94-2.06 2.06-.94-2.06-.94L8.5 2.5l-.94 2.06-2.06.94zm10 10l.94 2.06.94-2.06 2.06-.94-2.06-.94-.94-2.06-.94 2.06-2.06.94z\"/><path d=\"M17.41 7.96l-1.37-1.37c-.4-.4-.92-.59-1.43-.59-.52 0-1.04.2-1.43.59L10.3 9.45l-7.72 7.72c-.78.78-.78 2.05 0 2.83L4 21.41c.39.39.9.59 1.41.59.51 0 1.02-.2 1.41-.59l7.78-7.78 2.81-2.81c.8-.78.8-2.07 0-2.86zM5.41 20L4 18.59l7.72-7.72 1.47 1.35L5.41 20z\"/>\n",
              "  </svg>\n",
              "      </button>\n",
              "      \n",
              "  <style>\n",
              "    .colab-df-container {\n",
              "      display:flex;\n",
              "      flex-wrap:wrap;\n",
              "      gap: 12px;\n",
              "    }\n",
              "\n",
              "    .colab-df-convert {\n",
              "      background-color: #E8F0FE;\n",
              "      border: none;\n",
              "      border-radius: 50%;\n",
              "      cursor: pointer;\n",
              "      display: none;\n",
              "      fill: #1967D2;\n",
              "      height: 32px;\n",
              "      padding: 0 0 0 0;\n",
              "      width: 32px;\n",
              "    }\n",
              "\n",
              "    .colab-df-convert:hover {\n",
              "      background-color: #E2EBFA;\n",
              "      box-shadow: 0px 1px 2px rgba(60, 64, 67, 0.3), 0px 1px 3px 1px rgba(60, 64, 67, 0.15);\n",
              "      fill: #174EA6;\n",
              "    }\n",
              "\n",
              "    [theme=dark] .colab-df-convert {\n",
              "      background-color: #3B4455;\n",
              "      fill: #D2E3FC;\n",
              "    }\n",
              "\n",
              "    [theme=dark] .colab-df-convert:hover {\n",
              "      background-color: #434B5C;\n",
              "      box-shadow: 0px 1px 3px 1px rgba(0, 0, 0, 0.15);\n",
              "      filter: drop-shadow(0px 1px 2px rgba(0, 0, 0, 0.3));\n",
              "      fill: #FFFFFF;\n",
              "    }\n",
              "  </style>\n",
              "\n",
              "      <script>\n",
              "        const buttonEl =\n",
              "          document.querySelector('#df-771566f9-6b9a-459c-a375-5a4e738b4493 button.colab-df-convert');\n",
              "        buttonEl.style.display =\n",
              "          google.colab.kernel.accessAllowed ? 'block' : 'none';\n",
              "\n",
              "        async function convertToInteractive(key) {\n",
              "          const element = document.querySelector('#df-771566f9-6b9a-459c-a375-5a4e738b4493');\n",
              "          const dataTable =\n",
              "            await google.colab.kernel.invokeFunction('convertToInteractive',\n",
              "                                                     [key], {});\n",
              "          if (!dataTable) return;\n",
              "\n",
              "          const docLinkHtml = 'Like what you see? Visit the ' +\n",
              "            '<a target=\"_blank\" href=https://colab.research.google.com/notebooks/data_table.ipynb>data table notebook</a>'\n",
              "            + ' to learn more about interactive tables.';\n",
              "          element.innerHTML = '';\n",
              "          dataTable['output_type'] = 'display_data';\n",
              "          await google.colab.output.renderOutput(dataTable, element);\n",
              "          const docLink = document.createElement('div');\n",
              "          docLink.innerHTML = docLinkHtml;\n",
              "          element.appendChild(docLink);\n",
              "        }\n",
              "      </script>\n",
              "    </div>\n",
              "  </div>\n",
              "  "
            ]
          },
          "metadata": {},
          "execution_count": 3577
        }
      ],
      "source": [
        "corrfinal= Poke.corr()\n",
        "corrfinal=(corrfinal[['isLegendary']]).abs().sort_values(by=\"isLegendary\", ascending=False)\n",
        "corrfinal.head()"
      ]
    },
    {
      "cell_type": "markdown",
      "metadata": {
        "id": "AjyRNj8gkUE8"
      },
      "source": [
        "A partir da informação acima, foi possível descobrir uma feature feature ainda mais importante que \"hasGender\", \"{nome da feature}\", o que é esperado, pois não é possível chocar ovos de lendários, com apenas duas exceções. \n",
        "___"
      ]
    },
    {
      "cell_type": "markdown",
      "source": [
        "separando o \"target\" das outros features"
      ],
      "metadata": {
        "id": "xzNGKLECEYCW"
      }
    },
    {
      "cell_type": "code",
      "source": [
        "target = Poke['isLegendary'].copy()\n",
        "\n",
        "# removendo o Target dos dados \n",
        "data = Poke.drop(['isLegendary'], axis=1)\n",
        "\n",
        "target.head()"
      ],
      "metadata": {
        "colab": {
          "base_uri": "https://localhost:8080/"
        },
        "id": "SZvpdE5DEXfO",
        "outputId": "3d6f9054-3b46-4eec-b196-71fc646917e9"
      },
      "execution_count": 3578,
      "outputs": [
        {
          "output_type": "execute_result",
          "data": {
            "text/plain": [
              "0    False\n",
              "1    False\n",
              "2    False\n",
              "3    False\n",
              "4    False\n",
              "Name: isLegendary, dtype: bool"
            ]
          },
          "metadata": {},
          "execution_count": 3578
        }
      ]
    },
    {
      "cell_type": "markdown",
      "metadata": {
        "id": "yEzwY5qhMTgm"
      },
      "source": [
        "# CLASSIFICAÇÃO SEM PCA"
      ]
    },
    {
      "cell_type": "code",
      "execution_count": 3579,
      "metadata": {
        "id": "RQYIX-OByEpo"
      },
      "outputs": [],
      "source": [
        "# Dividindo os dados de treino e teste\n",
        "Xtrain, Xtest, ytrain, ytest = tts(data, target , test_size=0.35, shuffle=True)"
      ]
    },
    {
      "cell_type": "code",
      "execution_count": 3580,
      "metadata": {
        "colab": {
          "base_uri": "https://localhost:8080/"
        },
        "id": "9dwnkTMbzntX",
        "outputId": "adba08eb-6677-484c-bab9-e1e3a6e949ac"
      },
      "outputs": [
        {
          "output_type": "stream",
          "name": "stdout",
          "text": [
            "(468, 57)\n",
            "(468,)\n",
            "(253, 57)\n",
            "(253,)\n"
          ]
        }
      ],
      "source": [
        "#Verificando shapes\n",
        "print(Xtrain.shape)\n",
        "print(ytrain.shape)\n",
        "print(Xtest.shape)\n",
        "print(ytest.shape)"
      ]
    },
    {
      "cell_type": "code",
      "execution_count": 3581,
      "metadata": {
        "id": "5N0h1y7v3Adv"
      },
      "outputs": [],
      "source": [
        "#Treinando o modelo\n",
        "model = dt()\n",
        "              \n",
        "model.fit(Xtrain,ytrain)\n",
        "\n",
        "#Testando o modelo com o conjunto de teste\n",
        "y_pred = model.predict(Xtest)"
      ]
    },
    {
      "cell_type": "markdown",
      "source": [
        "aplicando o Cross Validation para estimar a acurácia e precisão do modelo\n"
      ],
      "metadata": {
        "id": "05SgNVS4iNHJ"
      }
    },
    {
      "cell_type": "markdown",
      "source": [
        "#MÉTRICAS DE AVALIAÇÃO SEM PCA"
      ],
      "metadata": {
        "id": "DKBAEZ9X5Yzs"
      }
    },
    {
      "cell_type": "code",
      "source": [
        "#Extraindo a Precisão média a partir de validação cruzada\n",
        "scores_prc = cross_val_score(model,data,target, cv=5, scoring='precision')\n",
        "#Extraindo a Acurácia média a partir de validação cruzada\n",
        "scores_acc = cross_val_score(model,data,target, cv=5, scoring='accuracy')"
      ],
      "metadata": {
        "id": "ZJ16MuWpiMr-"
      },
      "execution_count": 3582,
      "outputs": []
    },
    {
      "cell_type": "code",
      "source": [
        "print(\"Precisões medidas:\", scores_prc)\n",
        "print(\"Acurácias medidas:\", scores_acc)"
      ],
      "metadata": {
        "colab": {
          "base_uri": "https://localhost:8080/"
        },
        "id": "qlPrv-JEzzEj",
        "outputId": "107783e8-509f-460b-c3ed-4bfee2ca00b7"
      },
      "execution_count": 3583,
      "outputs": [
        {
          "output_type": "stream",
          "name": "stdout",
          "text": [
            "Precisões medidas: [1.         0.8        0.72727273 0.8        0.63636364]\n",
            "Acurácias medidas: [0.99310345 0.97916667 0.97916667 0.97916667 0.97916667]\n"
          ]
        }
      ]
    },
    {
      "cell_type": "code",
      "source": [
        "scores_acc = scores_acc.mean()\n",
        "scores_prc = scores_prc.mean()\n",
        "\n",
        "print('Precisão média: {:2.2%}'.format(scores_prc ))\n",
        "print('Acurácia média: {:2.2%}'.format(scores_acc ))"
      ],
      "metadata": {
        "colab": {
          "base_uri": "https://localhost:8080/"
        },
        "id": "XSKdxJ7qzLWD",
        "outputId": "0cd94f6d-520e-4feb-9801-1efc7d8857db"
      },
      "execution_count": 3584,
      "outputs": [
        {
          "output_type": "stream",
          "name": "stdout",
          "text": [
            "Precisão média: 79.27%\n",
            "Acurácia média: 98.20%\n"
          ]
        }
      ]
    },
    {
      "cell_type": "code",
      "source": [
        "#Visualização da matriz de confusão\n",
        "ConfusionMatrixDisplay.from_estimator(model, Xtest,ytest)\n",
        "\n",
        "# Dados explicados\n",
        "print('Score do modelo: {:2.2%}'.format(model.score(Xtest,ytest)))"
      ],
      "metadata": {
        "colab": {
          "base_uri": "https://localhost:8080/",
          "height": 296
        },
        "id": "ZfwfWBb55cXv",
        "outputId": "65453770-60eb-4b31-c879-abbe731a631d"
      },
      "execution_count": 3585,
      "outputs": [
        {
          "output_type": "stream",
          "name": "stdout",
          "text": [
            "Score do modelo: 98.42%\n"
          ]
        },
        {
          "output_type": "display_data",
          "data": {
            "text/plain": [
              "<Figure size 432x288 with 2 Axes>"
            ],
            "image/png": "[encoded data removed]"
          },
          "metadata": {
            "needs_background": "light"
          }
        }
      ]
    },
    {
      "cell_type": "code",
      "execution_count": 3586,
      "metadata": {
        "colab": {
          "base_uri": "https://localhost:8080/"
        },
        "id": "1UWepKdEeEej",
        "outputId": "49a4afd9-e9fb-460c-e63d-11aaccca8bf9"
      },
      "outputs": [
        {
          "output_type": "stream",
          "name": "stdout",
          "text": [
            "               precision    recall  f1-score   support\n",
            "\n",
            "Not_Legendary       0.99      0.99      0.99       232\n",
            "    Legendary       0.90      0.90      0.90        21\n",
            "\n",
            "     accuracy                           0.98       253\n",
            "    macro avg       0.95      0.95      0.95       253\n",
            " weighted avg       0.98      0.98      0.98       253\n",
            "\n"
          ]
        }
      ],
      "source": [
        "#Métricas em geral\n",
        "print(classification_report(ytest, y_pred, target_names=['Not_Legendary','Legendary']))"
      ]
    },
    {
      "cell_type": "code",
      "execution_count": 3587,
      "metadata": {
        "colab": {
          "base_uri": "https://localhost:8080/",
          "height": 691
        },
        "id": "I8DeYhfTlc1U",
        "outputId": "e0714c43-0461-4d9f-e0c5-cae780ca5965"
      },
      "outputs": [
        {
          "output_type": "display_data",
          "data": {
            "text/plain": [
              "<Figure size 2160x2160 with 0 Axes>"
            ]
          },
          "metadata": {}
        },
        {
          "output_type": "display_data",
          "data": {
            "text/plain": [
              "<Figure size 1080x720 with 1 Axes>"
            ],
            "image/png": "[encoded data removed]"
          },
          "metadata": {
            "needs_background": "light"
          }
        }
      ],
      "source": [
        "#Extraindo a importancia relativa das features\n",
        "model.feature_importances_\n",
        "feature_importance= pd.DataFrame(model.feature_importances_, index = data.columns).sort_values(by=0, ascending=False)\n",
        "\n",
        "features= list(feature_importance[feature_importance[0]>0].index)\n",
        "plt.figure(figsize=(30,30))\n",
        "feature_importance.head(8).plot(figsize=(15,10),kind='bar')\n",
        "plt.show()"
      ]
    },
    {
      "cell_type": "code",
      "execution_count": 3588,
      "metadata": {
        "colab": {
          "base_uri": "https://localhost:8080/",
          "height": 1000
        },
        "id": "dJv-ZrrolgVT",
        "outputId": "bd6760d4-e52f-4af7-ca9c-9a85df4886f0"
      },
      "outputs": [
        {
          "output_type": "display_data",
          "data": {
            "text/plain": [
              "<Figure size 1800x1440 with 1 Axes>"
            ],
            "image/png": "[encoded data removed]"
          },
          "metadata": {
            "needs_background": "light"
          }
        }
      ],
      "source": [
        "from sklearn import tree\n",
        "\n",
        "fig = plt.figure(figsize=(25,20))\n",
        "_ = tree.plot_tree(model,\n",
        "                   feature_names=data.columns,\n",
        "                   class_names = {0: 'not Legendary', 1:'Legendary'},\n",
        "                   filled=True,\n",
        "                   fontsize=20,\n",
        "                   rounded=True\n",
        "                   )"
      ]
    },
    {
      "cell_type": "markdown",
      "source": [
        "#EXIBIÇÃO DOS ERROS INDIVIDUAIS DO CLASSIFICADOR SEM PCA"
      ],
      "metadata": {
        "id": "4YebfHLnPHYP"
      }
    },
    {
      "cell_type": "markdown",
      "source": [
        "Transformando a saída predita e esperada em um único dataframe que possua apenas o "
      ],
      "metadata": {
        "id": "yeWiHPjN0_Z7"
      }
    },
    {
      "cell_type": "code",
      "execution_count": 3589,
      "metadata": {
        "id": "GOqEX87IyL2F"
      },
      "outputs": [],
      "source": [
        "y_df = pd.DataFrame(data = y_pred, columns = ['isLegendary'], index = Xtest.index.copy())\n",
        "\n",
        "df_out = pd.merge(Poke, y_df, how = 'left', left_index = True, right_index = True)\n",
        "\n",
        "df_out = pd.merge(Poke_names, df_out, how = 'left', left_index = True, right_index = True)\n",
        "\n",
        "df_out = df_out.dropna(axis=0)\n",
        "df_out = df_out.where (df_out['isLegendary_x'] != df_out['isLegendary_y']).dropna(axis=0)\n",
        "df_out['Number'] = df_out['Number'].astype(int)"
      ]
    },
    {
      "cell_type": "markdown",
      "source": [
        "Exibe apenas os pokemons cuja saída predita foi diferente da esperada, ou seja, os erros individuais do Classificador"
      ],
      "metadata": {
        "id": "ISKNm_S01gh_"
      }
    },
    {
      "cell_type": "code",
      "source": [
        "#Tornando os dados mais intuitivos para entendimento\n",
        "\n",
        "df_out = df_out.rename(columns={'isLegendary_x': 'Saída_Esperada', 'isLegendary_y': 'Saída_Predita', 'Number': 'Numero'})\n",
        "display(df_out[[\"Name\",\"Saída_Esperada\",\"Saída_Predita\",\"Numero\"]])\n"
      ],
      "metadata": {
        "colab": {
          "base_uri": "https://localhost:8080/",
          "height": 175
        },
        "id": "rVtR8FMi_Yib",
        "outputId": "ce5ed777-d786-4984-f674-cfeec285eeac"
      },
      "execution_count": 3590,
      "outputs": [
        {
          "output_type": "display_data",
          "data": {
            "text/plain": [
              "          Name Saída_Esperada Saída_Predita  Numero\n",
              "383   Rayquaza           True         False     384\n",
              "487  Cresselia          False          True     488\n",
              "491    Shaymin           True         False     492\n",
              "646     Keldeo          False          True     647"
            ],
            "text/html": [
              "\n",
              "  <div id=\"df-d741c175-49c3-4550-9d9c-ffcfabf69569\">\n",
              "    <div class=\"colab-df-container\">\n",
              "      <div>\n",
              "<style scoped>\n",
              "    .dataframe tbody tr th:only-of-type {\n",
              "        vertical-align: middle;\n",
              "    }\n",
              "\n",
              "    .dataframe tbody tr th {\n",
              "        vertical-align: top;\n",
              "    }\n",
              "\n",
              "    .dataframe thead th {\n",
              "        text-align: right;\n",
              "    }\n",
              "</style>\n",
              "<table border=\"1\" class=\"dataframe\">\n",
              "  <thead>\n",
              "    <tr style=\"text-align: right;\">\n",
              "      <th></th>\n",
              "      <th>Name</th>\n",
              "      <th>Saída_Esperada</th>\n",
              "      <th>Saída_Predita</th>\n",
              "      <th>Numero</th>\n",
              "    </tr>\n",
              "  </thead>\n",
              "  <tbody>\n",
              "    <tr>\n",
              "      <th>383</th>\n",
              "      <td>Rayquaza</td>\n",
              "      <td>True</td>\n",
              "      <td>False</td>\n",
              "      <td>384</td>\n",
              "    </tr>\n",
              "    <tr>\n",
              "      <th>487</th>\n",
              "      <td>Cresselia</td>\n",
              "      <td>False</td>\n",
              "      <td>True</td>\n",
              "      <td>488</td>\n",
              "    </tr>\n",
              "    <tr>\n",
              "      <th>491</th>\n",
              "      <td>Shaymin</td>\n",
              "      <td>True</td>\n",
              "      <td>False</td>\n",
              "      <td>492</td>\n",
              "    </tr>\n",
              "    <tr>\n",
              "      <th>646</th>\n",
              "      <td>Keldeo</td>\n",
              "      <td>False</td>\n",
              "      <td>True</td>\n",
              "      <td>647</td>\n",
              "    </tr>\n",
              "  </tbody>\n",
              "</table>\n",
              "</div>\n",
              "      <button class=\"colab-df-convert\" onclick=\"convertToInteractive('df-d741c175-49c3-4550-9d9c-ffcfabf69569')\"\n",
              "              title=\"Convert this dataframe to an interactive table.\"\n",
              "              style=\"display:none;\">\n",
              "        \n",
              "  <svg xmlns=\"http://www.w3.org/2000/svg\" height=\"24px\"viewBox=\"0 0 24 24\"\n",
              "       width=\"24px\">\n",
              "    <path d=\"M0 0h24v24H0V0z\" fill=\"none\"/>\n",
              "    <path d=\"M18.56 5.44l.94 2.06.94-2.06 2.06-.94-2.06-.94-.94-2.06-.94 2.06-2.06.94zm-11 1L8.5 8.5l.94-2.06 2.06-.94-2.06-.94L8.5 2.5l-.94 2.06-2.06.94zm10 10l.94 2.06.94-2.06 2.06-.94-2.06-.94-.94-2.06-.94 2.06-2.06.94z\"/><path d=\"M17.41 7.96l-1.37-1.37c-.4-.4-.92-.59-1.43-.59-.52 0-1.04.2-1.43.59L10.3 9.45l-7.72 7.72c-.78.78-.78 2.05 0 2.83L4 21.41c.39.39.9.59 1.41.59.51 0 1.02-.2 1.41-.59l7.78-7.78 2.81-2.81c.8-.78.8-2.07 0-2.86zM5.41 20L4 18.59l7.72-7.72 1.47 1.35L5.41 20z\"/>\n",
              "  </svg>\n",
              "      </button>\n",
              "      \n",
              "  <style>\n",
              "    .colab-df-container {\n",
              "      display:flex;\n",
              "      flex-wrap:wrap;\n",
              "      gap: 12px;\n",
              "    }\n",
              "\n",
              "    .colab-df-convert {\n",
              "      background-color: #E8F0FE;\n",
              "      border: none;\n",
              "      border-radius: 50%;\n",
              "      cursor: pointer;\n",
              "      display: none;\n",
              "      fill: #1967D2;\n",
              "      height: 32px;\n",
              "      padding: 0 0 0 0;\n",
              "      width: 32px;\n",
              "    }\n",
              "\n",
              "    .colab-df-convert:hover {\n",
              "      background-color: #E2EBFA;\n",
              "      box-shadow: 0px 1px 2px rgba(60, 64, 67, 0.3), 0px 1px 3px 1px rgba(60, 64, 67, 0.15);\n",
              "      fill: #174EA6;\n",
              "    }\n",
              "\n",
              "    [theme=dark] .colab-df-convert {\n",
              "      background-color: #3B4455;\n",
              "      fill: #D2E3FC;\n",
              "    }\n",
              "\n",
              "    [theme=dark] .colab-df-convert:hover {\n",
              "      background-color: #434B5C;\n",
              "      box-shadow: 0px 1px 3px 1px rgba(0, 0, 0, 0.15);\n",
              "      filter: drop-shadow(0px 1px 2px rgba(0, 0, 0, 0.3));\n",
              "      fill: #FFFFFF;\n",
              "    }\n",
              "  </style>\n",
              "\n",
              "      <script>\n",
              "        const buttonEl =\n",
              "          document.querySelector('#df-d741c175-49c3-4550-9d9c-ffcfabf69569 button.colab-df-convert');\n",
              "        buttonEl.style.display =\n",
              "          google.colab.kernel.accessAllowed ? 'block' : 'none';\n",
              "\n",
              "        async function convertToInteractive(key) {\n",
              "          const element = document.querySelector('#df-d741c175-49c3-4550-9d9c-ffcfabf69569');\n",
              "          const dataTable =\n",
              "            await google.colab.kernel.invokeFunction('convertToInteractive',\n",
              "                                                     [key], {});\n",
              "          if (!dataTable) return;\n",
              "\n",
              "          const docLinkHtml = 'Like what you see? Visit the ' +\n",
              "            '<a target=\"_blank\" href=https://colab.research.google.com/notebooks/data_table.ipynb>data table notebook</a>'\n",
              "            + ' to learn more about interactive tables.';\n",
              "          element.innerHTML = '';\n",
              "          dataTable['output_type'] = 'display_data';\n",
              "          await google.colab.output.renderOutput(dataTable, element);\n",
              "          const docLink = document.createElement('div');\n",
              "          docLink.innerHTML = docLinkHtml;\n",
              "          element.appendChild(docLink);\n",
              "        }\n",
              "      </script>\n",
              "    </div>\n",
              "  </div>\n",
              "  "
            ]
          },
          "metadata": {}
        }
      ]
    },
    {
      "cell_type": "markdown",
      "source": [
        "# CLASSIFICAÇÃO COM PCA\n"
      ],
      "metadata": {
        "id": "BbJkDhzBD7Y_"
      }
    },
    {
      "cell_type": "markdown",
      "source": [
        "\n",
        "Verificando o desbalanceio de dados, que é esperado já que os pokemons lendários são Raros"
      ],
      "metadata": {
        "id": "8DZhK04BbRzw"
      }
    },
    {
      "cell_type": "code",
      "source": [
        "print(data.shape)\n",
        "print(target.shape)\n",
        "\n",
        "#Criados para que não haja confusão no código acima\n",
        "data1 = data\n",
        "target1 = target\n",
        "\n",
        "print(\"Análise da distribuição das classes\")\n",
        "\n",
        "np.unique(target1,return_counts=True)"
      ],
      "metadata": {
        "colab": {
          "base_uri": "https://localhost:8080/"
        },
        "id": "A68ejIVRD-1v",
        "outputId": "7de7ef28-dc83-499e-c1b0-28124ac3e708"
      },
      "execution_count": 3600,
      "outputs": [
        {
          "output_type": "stream",
          "name": "stdout",
          "text": [
            "(721, 57)\n",
            "(721,)\n",
            "Análise da distribuição das classes\n"
          ]
        },
        {
          "output_type": "execute_result",
          "data": {
            "text/plain": [
              "(array([False,  True]), array([675,  46]))"
            ]
          },
          "metadata": {},
          "execution_count": 3600
        }
      ]
    },
    {
      "cell_type": "markdown",
      "source": [
        "Para que possamos utilizar o PCA, é necessário que tenhamos os dados numa mesma escala, por isso iremos tratar os dados utilizando a ferramenta StandardScaler, uma etapa que normalmente estaria associada ao pré processamento"
      ],
      "metadata": {
        "id": "MPkKoyiic-qw"
      }
    },
    {
      "cell_type": "markdown",
      "source": [
        "aplicando o PCA e StandardScaler"
      ],
      "metadata": {
        "id": "A2pa1AyPoaUk"
      }
    },
    {
      "cell_type": "code",
      "source": [
        "#Utilizando o StandardScaler para fazer com que os dados numéricos fiquem na mesma escala\n",
        "scale_obj = StandardScaler()\n",
        "data1 = scale_obj.fit_transform(data1.astype(float))\n",
        "\n",
        "#Separando os dados com 35% sendo para teste\n",
        "Xtrain, Xtest, ytrain, ytest = tts(data1,target1, test_size= 0.35, shuffle=True)\n",
        "\n",
        "#Aplicando o PCA para 10 componentes\n",
        "from sklearn import decomposition  \n",
        "pca = decomposition.PCA(n_components=10)\n",
        "Xtrain = pca.fit_transform(Xtrain)\n",
        "Xtest = pca.transform(Xtest) "
      ],
      "metadata": {
        "id": "soqF7gjqnzs_"
      },
      "execution_count": 3601,
      "outputs": []
    },
    {
      "cell_type": "markdown",
      "source": [
        "Treinando o modelo "
      ],
      "metadata": {
        "id": "6dkr7o7888v5"
      }
    },
    {
      "cell_type": "code",
      "source": [
        "#Treinando o modelo\n",
        "model1 = dt()  \n",
        "\n",
        "#treinando o modelo\n",
        "model1.fit(Xtrain,ytrain)\n",
        "\n",
        "#Testando o modelo com o conjunto de teste\n",
        "y_pred1 = model1.predict(Xtest)"
      ],
      "metadata": {
        "id": "dZGFR4CtdNRt"
      },
      "execution_count": 3602,
      "outputs": []
    },
    {
      "cell_type": "markdown",
      "source": [
        "#MÉTRICAS DE AVALIAÇÃO COM PCA"
      ],
      "metadata": {
        "id": "rDyBZFg148FC"
      }
    },
    {
      "cell_type": "code",
      "source": [
        "#Extraindo a Precisão média a partir de validação cruzada\n",
        "scores_prc = cross_val_score(model1,data1,target1, cv=5, scoring='precision')\n",
        "#Extraindo a Acurácia média a partir de validação cruzada\n",
        "scores_acc = cross_val_score(model1,data1,target1, cv=5, scoring='accuracy')"
      ],
      "metadata": {
        "id": "eVdPffOX2eC1"
      },
      "execution_count": 3603,
      "outputs": []
    },
    {
      "cell_type": "code",
      "source": [
        "print(\"Precisões medidas:\", scores_prc)\n",
        "print(\"Acurácias medidas:\", scores_acc)"
      ],
      "metadata": {
        "colab": {
          "base_uri": "https://localhost:8080/"
        },
        "outputId": "b3048e11-e722-40cd-fc37-3203ffb45d72",
        "id": "8NqGl-HU2eC9"
      },
      "execution_count": 3604,
      "outputs": [
        {
          "output_type": "stream",
          "name": "stdout",
          "text": [
            "Precisões medidas: [1.         0.8        0.8        0.88888889 0.69230769]\n",
            "Acurácias medidas: [1.         0.97916667 0.97916667 0.98611111 0.95138889]\n"
          ]
        }
      ]
    },
    {
      "cell_type": "code",
      "source": [
        "scores_acc = scores_acc.mean()\n",
        "scores_prc = scores_prc.mean()\n",
        "\n",
        "print('Precisão média: {:2.2%}'.format(scores_prc ))\n",
        "print('Acurácia média: {:2.2%}'.format(scores_acc ))"
      ],
      "metadata": {
        "colab": {
          "base_uri": "https://localhost:8080/"
        },
        "outputId": "31fc3bbe-b9b4-44d9-a2d3-e4baad791e90",
        "id": "vf5ob-zp2eC9"
      },
      "execution_count": 3605,
      "outputs": [
        {
          "output_type": "stream",
          "name": "stdout",
          "text": [
            "Precisão média: 83.62%\n",
            "Acurácia média: 97.92%\n"
          ]
        }
      ]
    },
    {
      "cell_type": "code",
      "source": [
        "#Visualização da matriz de confusão\n",
        "ConfusionMatrixDisplay.from_estimator(model1, Xtest,ytest)\n",
        "\n",
        "# Dados explicados\n",
        "print('Score do modelo: {:2.2%}'.format(model1.score(Xtest,ytest)))"
      ],
      "metadata": {
        "colab": {
          "base_uri": "https://localhost:8080/",
          "height": 296
        },
        "id": "MUsOhBMrjsG3",
        "outputId": "a3f2a535-9314-4984-dd07-4a1a02a4e38e"
      },
      "execution_count": 3606,
      "outputs": [
        {
          "output_type": "stream",
          "name": "stdout",
          "text": [
            "Score do modelo: 98.42%\n"
          ]
        },
        {
          "output_type": "display_data",
          "data": {
            "text/plain": [
              "<Figure size 432x288 with 2 Axes>"
            ],
            "image/png": "[encoded data removed]"
          },
          "metadata": {
            "needs_background": "light"
          }
        }
      ]
    },
    {
      "cell_type": "code",
      "source": [
        "#Métricas em geral\n",
        "print(classification_report(ytest, y_pred, target_names=['Not_Legendary','Legendary']))"
      ],
      "metadata": {
        "colab": {
          "base_uri": "https://localhost:8080/"
        },
        "id": "K2IQCi9u6T81",
        "outputId": "b80c9a86-a436-4653-8225-75db481c2336"
      },
      "execution_count": 3607,
      "outputs": [
        {
          "output_type": "stream",
          "name": "stdout",
          "text": [
            "               precision    recall  f1-score   support\n",
            "\n",
            "Not_Legendary       0.94      0.92      0.93       238\n",
            "    Legendary       0.10      0.13      0.11        15\n",
            "\n",
            "     accuracy                           0.87       253\n",
            "    macro avg       0.52      0.53      0.52       253\n",
            " weighted avg       0.89      0.87      0.88       253\n",
            "\n"
          ]
        }
      ]
    },
    {
      "cell_type": "markdown",
      "source": [
        "#Visualização PCA"
      ],
      "metadata": {
        "id": "T7o9X1RyLqVJ"
      }
    },
    {
      "cell_type": "markdown",
      "source": [
        "Com o PCA podemos adquirir uma métrica de quão bem os dados são explicados nas novas dimensões, nesse caso utilizaremos 2 para que possamos visualizar como ficaria a separação graficamente "
      ],
      "metadata": {
        "id": "rG9JjgZpmlIp"
      }
    },
    {
      "cell_type": "code",
      "source": [
        "from sklearn.decomposition import PCA\n",
        "pca_viewer = PCA(n_components=2)\n",
        "principal_components = pca_viewer.fit_transform(Xtrain)\n",
        "\n",
        "#Calculo de quanto o PCA explica dos dados pré redução\n",
        "print(\"Porcentagem de variancia explicada por cada componente\")\n",
        "print(pca_viewer.explained_variance_ratio_)\n",
        "\n",
        "data_explained = sum(pca_viewer.explained_variance_ratio_)\n",
        "print('Dados explicados pelo PCA: {:2.2%}'.format(data_explained))"
      ],
      "metadata": {
        "colab": {
          "base_uri": "https://localhost:8080/"
        },
        "id": "f7lBeaKoD8j9",
        "outputId": "e9900868-724a-4548-fddd-b7f96f358b97"
      },
      "execution_count": 3608,
      "outputs": [
        {
          "output_type": "stream",
          "name": "stdout",
          "text": [
            "Porcentagem de variancia explicada por cada componente\n",
            "[0.21032555 0.11142905]\n",
            "Dados explicados pelo PCA: 32.18%\n"
          ]
        }
      ]
    },
    {
      "cell_type": "markdown",
      "source": [
        "Transformando as componentes principais do PCA de duas dimensões em um dataframe para que possamos plotar em um gráfico 2D para visualizar como é a separação dos dados em 2D"
      ],
      "metadata": {
        "id": "eIGGM9hkmbtH"
      }
    },
    {
      "cell_type": "code",
      "source": [
        "principal_components_df = pd.DataFrame(data = principal_components, \n",
        "                                       columns = ['principal component 1', 'principal component 2'])\n",
        "principal_components_df.head()"
      ],
      "metadata": {
        "id": "zaElqHbZsaf3",
        "colab": {
          "base_uri": "https://localhost:8080/",
          "height": 206
        },
        "outputId": "a1621546-ea80-4cd5-9a0f-676f5025e468"
      },
      "execution_count": 3609,
      "outputs": [
        {
          "output_type": "execute_result",
          "data": {
            "text/plain": [
              "   principal component 1  principal component 2\n",
              "0               0.964886              -0.444094\n",
              "1               0.611779               1.101085\n",
              "2               1.325668              -0.312492\n",
              "3               3.765051              -1.133618\n",
              "4              -3.188782               0.756514"
            ],
            "text/html": [
              "\n",
              "  <div id=\"df-d8e05fda-684f-4c89-b862-b5591666d2ec\">\n",
              "    <div class=\"colab-df-container\">\n",
              "      <div>\n",
              "<style scoped>\n",
              "    .dataframe tbody tr th:only-of-type {\n",
              "        vertical-align: middle;\n",
              "    }\n",
              "\n",
              "    .dataframe tbody tr th {\n",
              "        vertical-align: top;\n",
              "    }\n",
              "\n",
              "    .dataframe thead th {\n",
              "        text-align: right;\n",
              "    }\n",
              "</style>\n",
              "<table border=\"1\" class=\"dataframe\">\n",
              "  <thead>\n",
              "    <tr style=\"text-align: right;\">\n",
              "      <th></th>\n",
              "      <th>principal component 1</th>\n",
              "      <th>principal component 2</th>\n",
              "    </tr>\n",
              "  </thead>\n",
              "  <tbody>\n",
              "    <tr>\n",
              "      <th>0</th>\n",
              "      <td>0.964886</td>\n",
              "      <td>-0.444094</td>\n",
              "    </tr>\n",
              "    <tr>\n",
              "      <th>1</th>\n",
              "      <td>0.611779</td>\n",
              "      <td>1.101085</td>\n",
              "    </tr>\n",
              "    <tr>\n",
              "      <th>2</th>\n",
              "      <td>1.325668</td>\n",
              "      <td>-0.312492</td>\n",
              "    </tr>\n",
              "    <tr>\n",
              "      <th>3</th>\n",
              "      <td>3.765051</td>\n",
              "      <td>-1.133618</td>\n",
              "    </tr>\n",
              "    <tr>\n",
              "      <th>4</th>\n",
              "      <td>-3.188782</td>\n",
              "      <td>0.756514</td>\n",
              "    </tr>\n",
              "  </tbody>\n",
              "</table>\n",
              "</div>\n",
              "      <button class=\"colab-df-convert\" onclick=\"convertToInteractive('df-d8e05fda-684f-4c89-b862-b5591666d2ec')\"\n",
              "              title=\"Convert this dataframe to an interactive table.\"\n",
              "              style=\"display:none;\">\n",
              "        \n",
              "  <svg xmlns=\"http://www.w3.org/2000/svg\" height=\"24px\"viewBox=\"0 0 24 24\"\n",
              "       width=\"24px\">\n",
              "    <path d=\"M0 0h24v24H0V0z\" fill=\"none\"/>\n",
              "    <path d=\"M18.56 5.44l.94 2.06.94-2.06 2.06-.94-2.06-.94-.94-2.06-.94 2.06-2.06.94zm-11 1L8.5 8.5l.94-2.06 2.06-.94-2.06-.94L8.5 2.5l-.94 2.06-2.06.94zm10 10l.94 2.06.94-2.06 2.06-.94-2.06-.94-.94-2.06-.94 2.06-2.06.94z\"/><path d=\"M17.41 7.96l-1.37-1.37c-.4-.4-.92-.59-1.43-.59-.52 0-1.04.2-1.43.59L10.3 9.45l-7.72 7.72c-.78.78-.78 2.05 0 2.83L4 21.41c.39.39.9.59 1.41.59.51 0 1.02-.2 1.41-.59l7.78-7.78 2.81-2.81c.8-.78.8-2.07 0-2.86zM5.41 20L4 18.59l7.72-7.72 1.47 1.35L5.41 20z\"/>\n",
              "  </svg>\n",
              "      </button>\n",
              "      \n",
              "  <style>\n",
              "    .colab-df-container {\n",
              "      display:flex;\n",
              "      flex-wrap:wrap;\n",
              "      gap: 12px;\n",
              "    }\n",
              "\n",
              "    .colab-df-convert {\n",
              "      background-color: #E8F0FE;\n",
              "      border: none;\n",
              "      border-radius: 50%;\n",
              "      cursor: pointer;\n",
              "      display: none;\n",
              "      fill: #1967D2;\n",
              "      height: 32px;\n",
              "      padding: 0 0 0 0;\n",
              "      width: 32px;\n",
              "    }\n",
              "\n",
              "    .colab-df-convert:hover {\n",
              "      background-color: #E2EBFA;\n",
              "      box-shadow: 0px 1px 2px rgba(60, 64, 67, 0.3), 0px 1px 3px 1px rgba(60, 64, 67, 0.15);\n",
              "      fill: #174EA6;\n",
              "    }\n",
              "\n",
              "    [theme=dark] .colab-df-convert {\n",
              "      background-color: #3B4455;\n",
              "      fill: #D2E3FC;\n",
              "    }\n",
              "\n",
              "    [theme=dark] .colab-df-convert:hover {\n",
              "      background-color: #434B5C;\n",
              "      box-shadow: 0px 1px 3px 1px rgba(0, 0, 0, 0.15);\n",
              "      filter: drop-shadow(0px 1px 2px rgba(0, 0, 0, 0.3));\n",
              "      fill: #FFFFFF;\n",
              "    }\n",
              "  </style>\n",
              "\n",
              "      <script>\n",
              "        const buttonEl =\n",
              "          document.querySelector('#df-d8e05fda-684f-4c89-b862-b5591666d2ec button.colab-df-convert');\n",
              "        buttonEl.style.display =\n",
              "          google.colab.kernel.accessAllowed ? 'block' : 'none';\n",
              "\n",
              "        async function convertToInteractive(key) {\n",
              "          const element = document.querySelector('#df-d8e05fda-684f-4c89-b862-b5591666d2ec');\n",
              "          const dataTable =\n",
              "            await google.colab.kernel.invokeFunction('convertToInteractive',\n",
              "                                                     [key], {});\n",
              "          if (!dataTable) return;\n",
              "\n",
              "          const docLinkHtml = 'Like what you see? Visit the ' +\n",
              "            '<a target=\"_blank\" href=https://colab.research.google.com/notebooks/data_table.ipynb>data table notebook</a>'\n",
              "            + ' to learn more about interactive tables.';\n",
              "          element.innerHTML = '';\n",
              "          dataTable['output_type'] = 'display_data';\n",
              "          await google.colab.output.renderOutput(dataTable, element);\n",
              "          const docLink = document.createElement('div');\n",
              "          docLink.innerHTML = docLinkHtml;\n",
              "          element.appendChild(docLink);\n",
              "        }\n",
              "      </script>\n",
              "    </div>\n",
              "  </div>\n",
              "  "
            ]
          },
          "metadata": {},
          "execution_count": 3609
        }
      ]
    },
    {
      "cell_type": "code",
      "source": [
        "#Troca de nomes para tornar o entendimento do gráfico abaixo mais intuitivo \n",
        "ytrain.astype(int)\n",
        "ytrain = np.where (ytrain == True, 'Legendary', ytrain)\n",
        "ytrain = np.where(ytrain == 'False', 'not_Legendary', ytrain)\n"
      ],
      "metadata": {
        "id": "cxzH38oY7y43"
      },
      "execution_count": 3610,
      "outputs": []
    },
    {
      "cell_type": "markdown",
      "source": [
        "Plot do gráfico de PCA com duas dimensões"
      ],
      "metadata": {
        "id": "f09ggdDMrfmW"
      }
    },
    {
      "cell_type": "code",
      "source": [
        "plt.figure()\n",
        "plt.figure(figsize=(10,10))\n",
        "plt.xticks(fontsize=12)\n",
        "plt.yticks(fontsize=14)\n",
        "plt.xlabel('Principal Component - 1', fontsize=20)\n",
        "plt.ylabel('Principal Component - 2', fontsize=20)\n",
        "\n",
        "plt.title(\"Principal Component Analysis - Pokemon\",fontsize=20)\n",
        "targets = ['Legendary', 'not_Legendary']\n",
        "colors = ['r', 'b']\n",
        "\n",
        "for target1, color in zip(targets,colors):\n",
        "    indicesToKeep = ytrain == target1\n",
        "    plt.scatter(principal_components_df.loc[indicesToKeep, 'principal component 1'], \n",
        "                principal_components_df.loc[indicesToKeep, 'principal component 2'], \n",
        "                c = color, s = 200, alpha=0.5)\n",
        "\n",
        "plt.legend(targets,prop={'size': 15})\n",
        "plt.show()"
      ],
      "metadata": {
        "colab": {
          "base_uri": "https://localhost:8080/",
          "height": 656
        },
        "id": "ygEfe3RBZhHX",
        "outputId": "5c181672-6b9b-4932-84b6-8e2dd57581ae"
      },
      "execution_count": 3611,
      "outputs": [
        {
          "output_type": "display_data",
          "data": {
            "text/plain": [
              "<Figure size 432x288 with 0 Axes>"
            ]
          },
          "metadata": {}
        },
        {
          "output_type": "display_data",
          "data": {
            "text/plain": [
              "<Figure size 720x720 with 1 Axes>"
            ],
            "image/png": "[encoded data removed]"
          },
          "metadata": {
            "needs_background": "light"
          }
        }
      ]
    },
    {
      "cell_type": "markdown",
      "source": [
        "Como podemos ver acima, os dados têm uma certa separação visível, porém é esperado que hajam confusões por parte do algoritmo ao classificar utilizando apenas duas dimensões, já que em algumas áreas os dados se misturam"
      ],
      "metadata": {
        "id": "r6Jnw-7yUgXq"
      }
    },
    {
      "cell_type": "markdown",
      "source": [
        "#***EXTRA***"
      ],
      "metadata": {
        "id": "aIHSeypu672t"
      }
    },
    {
      "cell_type": "markdown",
      "source": [
        "# TESTE COMPARATIVO COM KNN"
      ],
      "metadata": {
        "id": "28A1iu9V3xJO"
      }
    },
    {
      "cell_type": "code",
      "source": [
        "data2 = data\n",
        "target2 = target"
      ],
      "metadata": {
        "id": "-a2-Cb5K30KF"
      },
      "execution_count": 3652,
      "outputs": []
    },
    {
      "cell_type": "code",
      "source": [
        "#Utilizando o StandardScaler para fazer com que os dados numéricos fiquem na mesma escala\n",
        "\"\"\"scale_obj = StandardScaler()\n",
        "data1 = scale_obj.fit_transform(data1.astype(float))\"\"\"\n",
        "\n",
        "#Separando os dados com 35% sendo para teste\n",
        "Xtrain, Xtest, ytrain, ytest = tts(data2,target2, test_size= 0.35, shuffle=True)\n",
        "\n",
        "#Aplicando o PCA para 10 componentes\n",
        "\"\"\"from sklearn import decomposition  \n",
        "pca = decomposition.PCA(n_components=10)\n",
        "Xtrain = pca.fit_transform(Xtrain)\n",
        "Xtest = pca.transform(Xtest) \"\"\""
      ],
      "metadata": {
        "colab": {
          "base_uri": "https://localhost:8080/",
          "height": 35
        },
        "id": "fPnhHCm14Iiu",
        "outputId": "8b3b0885-b474-43c7-8f5f-f57ef6b5a246"
      },
      "execution_count": 3653,
      "outputs": [
        {
          "output_type": "execute_result",
          "data": {
            "text/plain": [
              "'from sklearn import decomposition  \\npca = decomposition.PCA(n_components=10)\\nXtrain = pca.fit_transform(Xtrain)\\nXtest = pca.transform(Xtest) '"
            ],
            "application/vnd.google.colaboratory.intrinsic+json": {
              "type": "string"
            }
          },
          "metadata": {},
          "execution_count": 3653
        }
      ]
    },
    {
      "cell_type": "markdown",
      "source": [
        "Treinando o modelo "
      ],
      "metadata": {
        "id": "D9Izfc-e4Iiv"
      }
    },
    {
      "cell_type": "code",
      "source": [
        "from sklearn.neighbors import KNeighborsClassifier as KNN\n",
        "\n",
        "#Treinando o modelo\n",
        "model2 = KNN(n_neighbors=1)  "
      ],
      "metadata": {
        "id": "fb-6_fko4Iiw"
      },
      "execution_count": 3654,
      "outputs": []
    },
    {
      "cell_type": "code",
      "source": [
        "model2.fit(Xtrain,ytrain)"
      ],
      "metadata": {
        "colab": {
          "base_uri": "https://localhost:8080/"
        },
        "id": "5nBQNi6F6Wha",
        "outputId": "6e6b9ef7-4e3b-4614-9ac3-f117768804fd"
      },
      "execution_count": 3655,
      "outputs": [
        {
          "output_type": "execute_result",
          "data": {
            "text/plain": [
              "KNeighborsClassifier(n_neighbors=1)"
            ]
          },
          "metadata": {},
          "execution_count": 3655
        }
      ]
    },
    {
      "cell_type": "code",
      "source": [
        "#treinando o modelo\n",
        "\n",
        "\n",
        "#Testando o modelo com o conjunto de teste\n",
        "y_pred1 = model2.predict(Xtest)"
      ],
      "metadata": {
        "id": "b_sQWVb_6TuQ"
      },
      "execution_count": 3656,
      "outputs": []
    },
    {
      "cell_type": "code",
      "source": [
        "model2.score(Xtest,ytest)"
      ],
      "metadata": {
        "colab": {
          "base_uri": "https://localhost:8080/"
        },
        "id": "QWGwlwFd4Xic",
        "outputId": "607309b6-5edc-454c-adbd-b1479f80d2a9"
      },
      "execution_count": 3658,
      "outputs": [
        {
          "output_type": "execute_result",
          "data": {
            "text/plain": [
              "0.9723320158102767"
            ]
          },
          "metadata": {},
          "execution_count": 3658
        }
      ]
    },
    {
      "cell_type": "code",
      "source": [],
      "metadata": {
        "id": "pJOvvfFmCDHe"
      },
      "execution_count": null,
      "outputs": []
    }
  ],
  "metadata": {
    "colab": {
      "collapsed_sections": [
        "q4Oys3NsGb6Q",
        "hjLAnzSn9J74",
        "6jJhTlp5HWc6",
        "oEaEELCiHA1k",
        "ki3kqs6_HKuT",
        "7KP7lRURHaD_"
      ],
      "provenance": [],
      "include_colab_link": true
    },
    "kernelspec": {
      "display_name": "Python 3",
      "name": "python3"
    },
    "language_info": {
      "name": "python"
    }
  },
  "nbformat": 4,
  "nbformat_minor": 0
}